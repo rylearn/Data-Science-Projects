{
 "cells": [
  {
   "cell_type": "code",
   "execution_count": 39,
   "metadata": {
    "collapsed": true
   },
   "outputs": [],
   "source": [
    "# Import here\n",
    "import pandas as pd\n",
    "import numpy as np\n",
    "import seaborn as sns\n",
    "sns.set(style='ticks', palette='Set2')\n",
    "from mpl_toolkits.mplot3d import axes3d\n",
    "import matplotlib.pyplot as plt\n",
    "from scipy.stats import multivariate_normal\n",
    "%matplotlib inline"
   ]
  },
  {
   "cell_type": "code",
   "execution_count": 40,
   "metadata": {
    "collapsed": false
   },
   "outputs": [
    {
     "data": {
      "text/plain": [
       "(253599, 284)"
      ]
     },
     "execution_count": 40,
     "metadata": {},
     "output_type": "execute_result"
    }
   ],
   "source": [
    "# Pull data here\n",
    "popData = pd.read_csv(\"texasPopData.csv\")\n",
    "popData.shape"
   ]
  },
  {
   "cell_type": "code",
   "execution_count": 41,
   "metadata": {
    "collapsed": false
   },
   "outputs": [
    {
     "data": {
      "text/plain": [
       "(113080, 232)"
      ]
     },
     "execution_count": 41,
     "metadata": {},
     "output_type": "execute_result"
    }
   ],
   "source": [
    "houseData = pd.read_csv(\"texasHousingData.csv\")\n",
    "houseData.shape"
   ]
  },
  {
   "cell_type": "code",
   "execution_count": 42,
   "metadata": {
    "collapsed": false
   },
   "outputs": [
    {
     "data": {
      "text/html": [
       "<div>\n",
       "<table border=\"1\" class=\"dataframe\">\n",
       "  <thead>\n",
       "    <tr style=\"text-align: right;\">\n",
       "      <th></th>\n",
       "      <th>Unnamed: 0_x</th>\n",
       "      <th>RT_x</th>\n",
       "      <th>SERIALNO</th>\n",
       "      <th>SPORDER</th>\n",
       "      <th>PUMA_x</th>\n",
       "      <th>ST_x</th>\n",
       "      <th>ADJINC_x</th>\n",
       "      <th>PWGTP</th>\n",
       "      <th>AGEP</th>\n",
       "      <th>CIT</th>\n",
       "      <th>...</th>\n",
       "      <th>wgtp71</th>\n",
       "      <th>wgtp72</th>\n",
       "      <th>wgtp73</th>\n",
       "      <th>wgtp74</th>\n",
       "      <th>wgtp75</th>\n",
       "      <th>wgtp76</th>\n",
       "      <th>wgtp77</th>\n",
       "      <th>wgtp78</th>\n",
       "      <th>wgtp79</th>\n",
       "      <th>wgtp80</th>\n",
       "    </tr>\n",
       "  </thead>\n",
       "  <tbody>\n",
       "    <tr>\n",
       "      <th>0</th>\n",
       "      <td>994880</td>\n",
       "      <td>P</td>\n",
       "      <td>13</td>\n",
       "      <td>1</td>\n",
       "      <td>5301</td>\n",
       "      <td>48</td>\n",
       "      <td>1007549</td>\n",
       "      <td>77</td>\n",
       "      <td>35</td>\n",
       "      <td>1</td>\n",
       "      <td>...</td>\n",
       "      <td>74</td>\n",
       "      <td>82</td>\n",
       "      <td>83</td>\n",
       "      <td>132</td>\n",
       "      <td>91</td>\n",
       "      <td>23</td>\n",
       "      <td>67</td>\n",
       "      <td>20</td>\n",
       "      <td>21</td>\n",
       "      <td>75</td>\n",
       "    </tr>\n",
       "    <tr>\n",
       "      <th>1</th>\n",
       "      <td>994881</td>\n",
       "      <td>P</td>\n",
       "      <td>13</td>\n",
       "      <td>2</td>\n",
       "      <td>5301</td>\n",
       "      <td>48</td>\n",
       "      <td>1007549</td>\n",
       "      <td>73</td>\n",
       "      <td>35</td>\n",
       "      <td>1</td>\n",
       "      <td>...</td>\n",
       "      <td>74</td>\n",
       "      <td>82</td>\n",
       "      <td>83</td>\n",
       "      <td>132</td>\n",
       "      <td>91</td>\n",
       "      <td>23</td>\n",
       "      <td>67</td>\n",
       "      <td>20</td>\n",
       "      <td>21</td>\n",
       "      <td>75</td>\n",
       "    </tr>\n",
       "    <tr>\n",
       "      <th>2</th>\n",
       "      <td>994882</td>\n",
       "      <td>P</td>\n",
       "      <td>13</td>\n",
       "      <td>3</td>\n",
       "      <td>5301</td>\n",
       "      <td>48</td>\n",
       "      <td>1007549</td>\n",
       "      <td>77</td>\n",
       "      <td>7</td>\n",
       "      <td>1</td>\n",
       "      <td>...</td>\n",
       "      <td>74</td>\n",
       "      <td>82</td>\n",
       "      <td>83</td>\n",
       "      <td>132</td>\n",
       "      <td>91</td>\n",
       "      <td>23</td>\n",
       "      <td>67</td>\n",
       "      <td>20</td>\n",
       "      <td>21</td>\n",
       "      <td>75</td>\n",
       "    </tr>\n",
       "    <tr>\n",
       "      <th>3</th>\n",
       "      <td>994883</td>\n",
       "      <td>P</td>\n",
       "      <td>13</td>\n",
       "      <td>4</td>\n",
       "      <td>5301</td>\n",
       "      <td>48</td>\n",
       "      <td>1007549</td>\n",
       "      <td>77</td>\n",
       "      <td>6</td>\n",
       "      <td>1</td>\n",
       "      <td>...</td>\n",
       "      <td>74</td>\n",
       "      <td>82</td>\n",
       "      <td>83</td>\n",
       "      <td>132</td>\n",
       "      <td>91</td>\n",
       "      <td>23</td>\n",
       "      <td>67</td>\n",
       "      <td>20</td>\n",
       "      <td>21</td>\n",
       "      <td>75</td>\n",
       "    </tr>\n",
       "    <tr>\n",
       "      <th>4</th>\n",
       "      <td>994884</td>\n",
       "      <td>P</td>\n",
       "      <td>17</td>\n",
       "      <td>1</td>\n",
       "      <td>4503</td>\n",
       "      <td>48</td>\n",
       "      <td>1007549</td>\n",
       "      <td>136</td>\n",
       "      <td>36</td>\n",
       "      <td>3</td>\n",
       "      <td>...</td>\n",
       "      <td>149</td>\n",
       "      <td>74</td>\n",
       "      <td>138</td>\n",
       "      <td>36</td>\n",
       "      <td>100</td>\n",
       "      <td>35</td>\n",
       "      <td>61</td>\n",
       "      <td>52</td>\n",
       "      <td>25</td>\n",
       "      <td>97</td>\n",
       "    </tr>\n",
       "  </tbody>\n",
       "</table>\n",
       "<p>5 rows × 515 columns</p>\n",
       "</div>"
      ],
      "text/plain": [
       "   Unnamed: 0_x RT_x  SERIALNO  SPORDER  PUMA_x  ST_x  ADJINC_x  PWGTP  AGEP  \\\n",
       "0        994880    P        13        1    5301    48   1007549     77    35   \n",
       "1        994881    P        13        2    5301    48   1007549     73    35   \n",
       "2        994882    P        13        3    5301    48   1007549     77     7   \n",
       "3        994883    P        13        4    5301    48   1007549     77     6   \n",
       "4        994884    P        17        1    4503    48   1007549    136    36   \n",
       "\n",
       "   CIT   ...    wgtp71  wgtp72  wgtp73  wgtp74  wgtp75  wgtp76  wgtp77  \\\n",
       "0    1   ...        74      82      83     132      91      23      67   \n",
       "1    1   ...        74      82      83     132      91      23      67   \n",
       "2    1   ...        74      82      83     132      91      23      67   \n",
       "3    1   ...        74      82      83     132      91      23      67   \n",
       "4    3   ...       149      74     138      36     100      35      61   \n",
       "\n",
       "   wgtp78  wgtp79  wgtp80  \n",
       "0      20      21      75  \n",
       "1      20      21      75  \n",
       "2      20      21      75  \n",
       "3      20      21      75  \n",
       "4      52      25      97  \n",
       "\n",
       "[5 rows x 515 columns]"
      ]
     },
     "execution_count": 42,
     "metadata": {},
     "output_type": "execute_result"
    }
   ],
   "source": [
    "x86 = popData.merge(houseData, left_on = 'SERIALNO', right_on = 'SERIALNO', how = 'inner')\n",
    "x86.head()"
   ]
  },
  {
   "cell_type": "code",
   "execution_count": 43,
   "metadata": {
    "collapsed": false
   },
   "outputs": [
    {
     "name": "stdout",
     "output_type": "stream",
     "text": [
      "170919\n"
     ]
    },
    {
     "data": {
      "image/png": "[encoded data removed]",
      "text/plain": [
       "<matplotlib.figure.Figure at 0x10d713eb8>"
      ]
     },
     "metadata": {},
     "output_type": "display_data"
    }
   ],
   "source": [
    "# Adjust incomes without weights\n",
    "newIncomes = x86['PINCP']\n",
    "newIncomes = newIncomes.dropna()\n",
    "newIncomes = newIncomes [newIncomes > 0] # ignoring incomes of 0\n",
    "newIncomes2 = np.log(newIncomes.values)\n",
    "print(newIncomes2.size)\n",
    "\n",
    "fig = plt.figure()\n",
    "temp = fig.add_subplot(111) \n",
    "temp.set_title('Frequency of Income Brackets in Texas')\n",
    "temp.set_xlim(0, 20)\n",
    "\n",
    "sns.distplot(newIncomes2, kde=False, bins=50, ax = temp, axlabel = \"Log of Income in Dollars\")\n",
    "sns.despine()"
   ]
  },
  {
   "cell_type": "code",
   "execution_count": 44,
   "metadata": {
    "collapsed": false
   },
   "outputs": [
    {
     "data": {
      "text/html": [
       "<div>\n",
       "<table border=\"1\" class=\"dataframe\">\n",
       "  <thead>\n",
       "    <tr style=\"text-align: right;\">\n",
       "      <th></th>\n",
       "      <th>Unnamed: 0_x</th>\n",
       "      <th>RT_x</th>\n",
       "      <th>SERIALNO</th>\n",
       "      <th>SPORDER</th>\n",
       "      <th>PUMA_x</th>\n",
       "      <th>ST_x</th>\n",
       "      <th>ADJINC_x</th>\n",
       "      <th>PWGTP</th>\n",
       "      <th>AGEP</th>\n",
       "      <th>CIT</th>\n",
       "      <th>...</th>\n",
       "      <th>wgtp71</th>\n",
       "      <th>wgtp72</th>\n",
       "      <th>wgtp73</th>\n",
       "      <th>wgtp74</th>\n",
       "      <th>wgtp75</th>\n",
       "      <th>wgtp76</th>\n",
       "      <th>wgtp77</th>\n",
       "      <th>wgtp78</th>\n",
       "      <th>wgtp79</th>\n",
       "      <th>wgtp80</th>\n",
       "    </tr>\n",
       "  </thead>\n",
       "  <tbody>\n",
       "    <tr>\n",
       "      <th>0</th>\n",
       "      <td>994880</td>\n",
       "      <td>P</td>\n",
       "      <td>13</td>\n",
       "      <td>1</td>\n",
       "      <td>5301</td>\n",
       "      <td>48</td>\n",
       "      <td>1007549</td>\n",
       "      <td>77</td>\n",
       "      <td>35</td>\n",
       "      <td>1</td>\n",
       "      <td>...</td>\n",
       "      <td>74</td>\n",
       "      <td>82</td>\n",
       "      <td>83</td>\n",
       "      <td>132</td>\n",
       "      <td>91</td>\n",
       "      <td>23</td>\n",
       "      <td>67</td>\n",
       "      <td>20</td>\n",
       "      <td>21</td>\n",
       "      <td>75</td>\n",
       "    </tr>\n",
       "    <tr>\n",
       "      <th>1</th>\n",
       "      <td>994881</td>\n",
       "      <td>P</td>\n",
       "      <td>13</td>\n",
       "      <td>2</td>\n",
       "      <td>5301</td>\n",
       "      <td>48</td>\n",
       "      <td>1007549</td>\n",
       "      <td>73</td>\n",
       "      <td>35</td>\n",
       "      <td>1</td>\n",
       "      <td>...</td>\n",
       "      <td>74</td>\n",
       "      <td>82</td>\n",
       "      <td>83</td>\n",
       "      <td>132</td>\n",
       "      <td>91</td>\n",
       "      <td>23</td>\n",
       "      <td>67</td>\n",
       "      <td>20</td>\n",
       "      <td>21</td>\n",
       "      <td>75</td>\n",
       "    </tr>\n",
       "    <tr>\n",
       "      <th>4</th>\n",
       "      <td>994884</td>\n",
       "      <td>P</td>\n",
       "      <td>17</td>\n",
       "      <td>1</td>\n",
       "      <td>4503</td>\n",
       "      <td>48</td>\n",
       "      <td>1007549</td>\n",
       "      <td>136</td>\n",
       "      <td>36</td>\n",
       "      <td>3</td>\n",
       "      <td>...</td>\n",
       "      <td>149</td>\n",
       "      <td>74</td>\n",
       "      <td>138</td>\n",
       "      <td>36</td>\n",
       "      <td>100</td>\n",
       "      <td>35</td>\n",
       "      <td>61</td>\n",
       "      <td>52</td>\n",
       "      <td>25</td>\n",
       "      <td>97</td>\n",
       "    </tr>\n",
       "    <tr>\n",
       "      <th>5</th>\n",
       "      <td>994885</td>\n",
       "      <td>P</td>\n",
       "      <td>18</td>\n",
       "      <td>1</td>\n",
       "      <td>3602</td>\n",
       "      <td>48</td>\n",
       "      <td>1007549</td>\n",
       "      <td>90</td>\n",
       "      <td>37</td>\n",
       "      <td>5</td>\n",
       "      <td>...</td>\n",
       "      <td>91</td>\n",
       "      <td>22</td>\n",
       "      <td>151</td>\n",
       "      <td>102</td>\n",
       "      <td>103</td>\n",
       "      <td>105</td>\n",
       "      <td>24</td>\n",
       "      <td>154</td>\n",
       "      <td>122</td>\n",
       "      <td>133</td>\n",
       "    </tr>\n",
       "    <tr>\n",
       "      <th>6</th>\n",
       "      <td>994886</td>\n",
       "      <td>P</td>\n",
       "      <td>18</td>\n",
       "      <td>2</td>\n",
       "      <td>3602</td>\n",
       "      <td>48</td>\n",
       "      <td>1007549</td>\n",
       "      <td>175</td>\n",
       "      <td>18</td>\n",
       "      <td>1</td>\n",
       "      <td>...</td>\n",
       "      <td>91</td>\n",
       "      <td>22</td>\n",
       "      <td>151</td>\n",
       "      <td>102</td>\n",
       "      <td>103</td>\n",
       "      <td>105</td>\n",
       "      <td>24</td>\n",
       "      <td>154</td>\n",
       "      <td>122</td>\n",
       "      <td>133</td>\n",
       "    </tr>\n",
       "  </tbody>\n",
       "</table>\n",
       "<p>5 rows × 515 columns</p>\n",
       "</div>"
      ],
      "text/plain": [
       "   Unnamed: 0_x RT_x  SERIALNO  SPORDER  PUMA_x  ST_x  ADJINC_x  PWGTP  AGEP  \\\n",
       "0        994880    P        13        1    5301    48   1007549     77    35   \n",
       "1        994881    P        13        2    5301    48   1007549     73    35   \n",
       "4        994884    P        17        1    4503    48   1007549    136    36   \n",
       "5        994885    P        18        1    3602    48   1007549     90    37   \n",
       "6        994886    P        18        2    3602    48   1007549    175    18   \n",
       "\n",
       "   CIT   ...    wgtp71  wgtp72  wgtp73  wgtp74  wgtp75  wgtp76  wgtp77  \\\n",
       "0    1   ...        74      82      83     132      91      23      67   \n",
       "1    1   ...        74      82      83     132      91      23      67   \n",
       "4    3   ...       149      74     138      36     100      35      61   \n",
       "5    5   ...        91      22     151     102     103     105      24   \n",
       "6    1   ...        91      22     151     102     103     105      24   \n",
       "\n",
       "   wgtp78  wgtp79  wgtp80  \n",
       "0      20      21      75  \n",
       "1      20      21      75  \n",
       "4      52      25      97  \n",
       "5     154     122     133  \n",
       "6     154     122     133  \n",
       "\n",
       "[5 rows x 515 columns]"
      ]
     },
     "execution_count": 44,
     "metadata": {},
     "output_type": "execute_result"
    }
   ],
   "source": [
    "data = x86.copy()\n",
    "data = data[data['ESR'].isin([1, 4])]\n",
    "data.head()"
   ]
  },
  {
   "cell_type": "code",
   "execution_count": 45,
   "metadata": {
    "collapsed": false
   },
   "outputs": [
    {
     "data": {
      "text/html": [
       "<div>\n",
       "<table border=\"1\" class=\"dataframe\">\n",
       "  <thead>\n",
       "    <tr style=\"text-align: right;\">\n",
       "      <th></th>\n",
       "      <th>PINCP</th>\n",
       "      <th>AGEP</th>\n",
       "      <th>MAR</th>\n",
       "      <th>SCHL</th>\n",
       "      <th>SEX</th>\n",
       "      <th>FOD1P</th>\n",
       "      <th>INDP</th>\n",
       "      <th>NATIVITY</th>\n",
       "      <th>OCCP</th>\n",
       "      <th>RAC1P</th>\n",
       "      <th>RMSP</th>\n",
       "      <th>SMOCP</th>\n",
       "      <th>RNTP</th>\n",
       "      <th>VALP</th>\n",
       "    </tr>\n",
       "  </thead>\n",
       "  <tbody>\n",
       "    <tr>\n",
       "      <th>0</th>\n",
       "      <td>27000</td>\n",
       "      <td>35</td>\n",
       "      <td>1</td>\n",
       "      <td>16</td>\n",
       "      <td>1</td>\n",
       "      <td>NaN</td>\n",
       "      <td>8680</td>\n",
       "      <td>1</td>\n",
       "      <td>4110</td>\n",
       "      <td>1</td>\n",
       "      <td>6</td>\n",
       "      <td>1276</td>\n",
       "      <td>NaN</td>\n",
       "      <td>120000</td>\n",
       "    </tr>\n",
       "    <tr>\n",
       "      <th>1</th>\n",
       "      <td>53000</td>\n",
       "      <td>35</td>\n",
       "      <td>1</td>\n",
       "      <td>21</td>\n",
       "      <td>2</td>\n",
       "      <td>3301</td>\n",
       "      <td>7870</td>\n",
       "      <td>1</td>\n",
       "      <td>136</td>\n",
       "      <td>1</td>\n",
       "      <td>6</td>\n",
       "      <td>1276</td>\n",
       "      <td>NaN</td>\n",
       "      <td>120000</td>\n",
       "    </tr>\n",
       "    <tr>\n",
       "      <th>4</th>\n",
       "      <td>30000</td>\n",
       "      <td>36</td>\n",
       "      <td>5</td>\n",
       "      <td>21</td>\n",
       "      <td>2</td>\n",
       "      <td>6201</td>\n",
       "      <td>8560</td>\n",
       "      <td>1</td>\n",
       "      <td>2740</td>\n",
       "      <td>9</td>\n",
       "      <td>10</td>\n",
       "      <td>NaN</td>\n",
       "      <td>600</td>\n",
       "      <td>NaN</td>\n",
       "    </tr>\n",
       "    <tr>\n",
       "      <th>5</th>\n",
       "      <td>26000</td>\n",
       "      <td>37</td>\n",
       "      <td>4</td>\n",
       "      <td>10</td>\n",
       "      <td>2</td>\n",
       "      <td>NaN</td>\n",
       "      <td>8680</td>\n",
       "      <td>2</td>\n",
       "      <td>4010</td>\n",
       "      <td>1</td>\n",
       "      <td>6</td>\n",
       "      <td>743</td>\n",
       "      <td>NaN</td>\n",
       "      <td>20000</td>\n",
       "    </tr>\n",
       "    <tr>\n",
       "      <th>6</th>\n",
       "      <td>1500</td>\n",
       "      <td>18</td>\n",
       "      <td>5</td>\n",
       "      <td>14</td>\n",
       "      <td>2</td>\n",
       "      <td>NaN</td>\n",
       "      <td>8680</td>\n",
       "      <td>1</td>\n",
       "      <td>4150</td>\n",
       "      <td>1</td>\n",
       "      <td>6</td>\n",
       "      <td>743</td>\n",
       "      <td>NaN</td>\n",
       "      <td>20000</td>\n",
       "    </tr>\n",
       "  </tbody>\n",
       "</table>\n",
       "</div>"
      ],
      "text/plain": [
       "   PINCP  AGEP  MAR  SCHL  SEX  FOD1P  INDP  NATIVITY  OCCP  RAC1P  RMSP  \\\n",
       "0  27000    35    1    16    1    NaN  8680         1  4110      1     6   \n",
       "1  53000    35    1    21    2   3301  7870         1   136      1     6   \n",
       "4  30000    36    5    21    2   6201  8560         1  2740      9    10   \n",
       "5  26000    37    4    10    2    NaN  8680         2  4010      1     6   \n",
       "6   1500    18    5    14    2    NaN  8680         1  4150      1     6   \n",
       "\n",
       "   SMOCP  RNTP    VALP  \n",
       "0   1276   NaN  120000  \n",
       "1   1276   NaN  120000  \n",
       "4    NaN   600     NaN  \n",
       "5    743   NaN   20000  \n",
       "6    743   NaN   20000  "
      ]
     },
     "execution_count": 45,
     "metadata": {},
     "output_type": "execute_result"
    }
   ],
   "source": [
    "#rntp, valp, rmsp, taxp(?), smocp, bdsp(not as good), smp(okay)\n",
    "features = ['PINCP', 'AGEP', 'MAR', 'SCHL', 'SEX', 'FOD1P', 'INDP', 'NATIVITY', 'OCCP', 'RAC1P', 'RMSP', 'SMOCP', 'RNTP', 'VALP']\n",
    "newData = data.copy()\n",
    "newData = data[features]\n",
    "newData.head()"
   ]
  },
  {
   "cell_type": "code",
   "execution_count": 46,
   "metadata": {
    "collapsed": false
   },
   "outputs": [
    {
     "name": "stdout",
     "output_type": "stream",
     "text": [
      "(12546, 14)\n"
     ]
    }
   ],
   "source": [
    "totalRich = newData[newData['PINCP']>=100000]\n",
    "print(totalRich.shape)"
   ]
  },
  {
   "cell_type": "code",
   "execution_count": 47,
   "metadata": {
    "collapsed": false
   },
   "outputs": [
    {
     "name": "stdout",
     "output_type": "stream",
     "text": [
      "1281.89229502\n",
      "6.1881809838\n",
      "826.427000131\n",
      "189094.374606\n"
     ]
    }
   ],
   "source": [
    "smocpNP = newData['SMOCP'].as_matrix()\n",
    "smocpAverage = np.nanmean(smocpNP)\n",
    "print(smocpAverage)\n",
    "\n",
    "rmspNP = newData['RMSP'].as_matrix()\n",
    "rmspAverage = np.nanmean(rmspNP)\n",
    "print(rmspAverage)\n",
    "\n",
    "rntpNP = newData['RNTP'].as_matrix()\n",
    "rntpAverage = np.nanmean(rntpNP)\n",
    "print(rntpAverage)\n",
    "\n",
    "valpNP = newData['VALP'].as_matrix()\n",
    "valpAverage = np.nanmean(valpNP)\n",
    "print(valpAverage)"
   ]
  },
  {
   "cell_type": "code",
   "execution_count": 48,
   "metadata": {
    "collapsed": false
   },
   "outputs": [
    {
     "name": "stderr",
     "output_type": "stream",
     "text": [
      "/Users/qldo18/anaconda/lib/python3.5/site-packages/pandas/core/generic.py:2862: SettingWithCopyWarning: \n",
      "A value is trying to be set on a copy of a slice from a DataFrame\n",
      "\n",
      "See the caveats in the documentation: http://pandas.pydata.org/pandas-docs/stable/indexing.html#indexing-view-versus-copy\n",
      "  self._update_inplace(new_data)\n"
     ]
    },
    {
     "data": {
      "text/html": [
       "<div>\n",
       "<table border=\"1\" class=\"dataframe\">\n",
       "  <thead>\n",
       "    <tr style=\"text-align: right;\">\n",
       "      <th></th>\n",
       "      <th>PINCP</th>\n",
       "      <th>AGEP</th>\n",
       "      <th>MAR</th>\n",
       "      <th>SCHL</th>\n",
       "      <th>SEX</th>\n",
       "      <th>FOD1P</th>\n",
       "      <th>INDP</th>\n",
       "      <th>NATIVITY</th>\n",
       "      <th>OCCP</th>\n",
       "      <th>RAC1P</th>\n",
       "      <th>RMSP</th>\n",
       "      <th>SMOCP</th>\n",
       "      <th>RNTP</th>\n",
       "      <th>VALP</th>\n",
       "    </tr>\n",
       "  </thead>\n",
       "  <tbody>\n",
       "    <tr>\n",
       "      <th>0</th>\n",
       "      <td>27000</td>\n",
       "      <td>35</td>\n",
       "      <td>1</td>\n",
       "      <td>16</td>\n",
       "      <td>1</td>\n",
       "      <td>0</td>\n",
       "      <td>8680</td>\n",
       "      <td>1</td>\n",
       "      <td>4110</td>\n",
       "      <td>1</td>\n",
       "      <td>6</td>\n",
       "      <td>1276.000000</td>\n",
       "      <td>826.427</td>\n",
       "      <td>120000</td>\n",
       "    </tr>\n",
       "    <tr>\n",
       "      <th>1</th>\n",
       "      <td>53000</td>\n",
       "      <td>35</td>\n",
       "      <td>1</td>\n",
       "      <td>21</td>\n",
       "      <td>2</td>\n",
       "      <td>3301</td>\n",
       "      <td>7870</td>\n",
       "      <td>1</td>\n",
       "      <td>136</td>\n",
       "      <td>1</td>\n",
       "      <td>6</td>\n",
       "      <td>1276.000000</td>\n",
       "      <td>826.427</td>\n",
       "      <td>120000</td>\n",
       "    </tr>\n",
       "    <tr>\n",
       "      <th>4</th>\n",
       "      <td>30000</td>\n",
       "      <td>36</td>\n",
       "      <td>5</td>\n",
       "      <td>21</td>\n",
       "      <td>2</td>\n",
       "      <td>6201</td>\n",
       "      <td>8560</td>\n",
       "      <td>1</td>\n",
       "      <td>2740</td>\n",
       "      <td>9</td>\n",
       "      <td>10</td>\n",
       "      <td>1281.892295</td>\n",
       "      <td>600.000</td>\n",
       "      <td>0</td>\n",
       "    </tr>\n",
       "    <tr>\n",
       "      <th>5</th>\n",
       "      <td>26000</td>\n",
       "      <td>37</td>\n",
       "      <td>4</td>\n",
       "      <td>10</td>\n",
       "      <td>2</td>\n",
       "      <td>0</td>\n",
       "      <td>8680</td>\n",
       "      <td>2</td>\n",
       "      <td>4010</td>\n",
       "      <td>1</td>\n",
       "      <td>6</td>\n",
       "      <td>743.000000</td>\n",
       "      <td>826.427</td>\n",
       "      <td>20000</td>\n",
       "    </tr>\n",
       "    <tr>\n",
       "      <th>6</th>\n",
       "      <td>1500</td>\n",
       "      <td>18</td>\n",
       "      <td>5</td>\n",
       "      <td>14</td>\n",
       "      <td>2</td>\n",
       "      <td>0</td>\n",
       "      <td>8680</td>\n",
       "      <td>1</td>\n",
       "      <td>4150</td>\n",
       "      <td>1</td>\n",
       "      <td>6</td>\n",
       "      <td>743.000000</td>\n",
       "      <td>826.427</td>\n",
       "      <td>20000</td>\n",
       "    </tr>\n",
       "  </tbody>\n",
       "</table>\n",
       "</div>"
      ],
      "text/plain": [
       "   PINCP  AGEP  MAR  SCHL  SEX  FOD1P  INDP  NATIVITY  OCCP  RAC1P  RMSP  \\\n",
       "0  27000    35    1    16    1      0  8680         1  4110      1     6   \n",
       "1  53000    35    1    21    2   3301  7870         1   136      1     6   \n",
       "4  30000    36    5    21    2   6201  8560         1  2740      9    10   \n",
       "5  26000    37    4    10    2      0  8680         2  4010      1     6   \n",
       "6   1500    18    5    14    2      0  8680         1  4150      1     6   \n",
       "\n",
       "         SMOCP     RNTP    VALP  \n",
       "0  1276.000000  826.427  120000  \n",
       "1  1276.000000  826.427  120000  \n",
       "4  1281.892295  600.000       0  \n",
       "5   743.000000  826.427   20000  \n",
       "6   743.000000  826.427   20000  "
      ]
     },
     "execution_count": 48,
     "metadata": {},
     "output_type": "execute_result"
    }
   ],
   "source": [
    "newData['FOD1P'].fillna(0, inplace=True)\n",
    "newData['INDP'].fillna(0, inplace=True)\n",
    "newData['OCCP'].fillna(0, inplace=True)\n",
    "newData['SMOCP'].fillna(smocpAverage, inplace=True)\n",
    "newData['RMSP'].fillna(rmspAverage, inplace=True)\n",
    "newData['RNTP'].fillna(rntpAverage, inplace=True)\n",
    "newData['VALP'].fillna(0, inplace=True)\n",
    "newData.head()"
   ]
  },
  {
   "cell_type": "code",
   "execution_count": 49,
   "metadata": {
    "collapsed": false
   },
   "outputs": [
    {
     "name": "stderr",
     "output_type": "stream",
     "text": [
      "/Users/qldo18/anaconda/lib/python3.5/site-packages/ipykernel/__main__.py:1: SettingWithCopyWarning: \n",
      "A value is trying to be set on a copy of a slice from a DataFrame.\n",
      "Try using .loc[row_indexer,col_indexer] = value instead\n",
      "\n",
      "See the caveats in the documentation: http://pandas.pydata.org/pandas-docs/stable/indexing.html#indexing-view-versus-copy\n",
      "  if __name__ == '__main__':\n"
     ]
    },
    {
     "data": {
      "text/html": [
       "<div>\n",
       "<table border=\"1\" class=\"dataframe\">\n",
       "  <thead>\n",
       "    <tr style=\"text-align: right;\">\n",
       "      <th></th>\n",
       "      <th>PINCP</th>\n",
       "      <th>AGEP</th>\n",
       "      <th>MAR</th>\n",
       "      <th>SCHL</th>\n",
       "      <th>SEX</th>\n",
       "      <th>FOD1P</th>\n",
       "      <th>INDP</th>\n",
       "      <th>NATIVITY</th>\n",
       "      <th>OCCP</th>\n",
       "      <th>RAC1P</th>\n",
       "      <th>RMSP</th>\n",
       "      <th>SMOCP</th>\n",
       "      <th>RNTP</th>\n",
       "      <th>VALP</th>\n",
       "      <th>MONTHLYCOSTS</th>\n",
       "    </tr>\n",
       "  </thead>\n",
       "  <tbody>\n",
       "    <tr>\n",
       "      <th>0</th>\n",
       "      <td>27000</td>\n",
       "      <td>35</td>\n",
       "      <td>1</td>\n",
       "      <td>16</td>\n",
       "      <td>1</td>\n",
       "      <td>0</td>\n",
       "      <td>8680</td>\n",
       "      <td>1</td>\n",
       "      <td>4110</td>\n",
       "      <td>1</td>\n",
       "      <td>6</td>\n",
       "      <td>1276.000000</td>\n",
       "      <td>826.427</td>\n",
       "      <td>120000</td>\n",
       "      <td>2102.427000</td>\n",
       "    </tr>\n",
       "    <tr>\n",
       "      <th>1</th>\n",
       "      <td>53000</td>\n",
       "      <td>35</td>\n",
       "      <td>1</td>\n",
       "      <td>21</td>\n",
       "      <td>2</td>\n",
       "      <td>3301</td>\n",
       "      <td>7870</td>\n",
       "      <td>1</td>\n",
       "      <td>136</td>\n",
       "      <td>1</td>\n",
       "      <td>6</td>\n",
       "      <td>1276.000000</td>\n",
       "      <td>826.427</td>\n",
       "      <td>120000</td>\n",
       "      <td>2102.427000</td>\n",
       "    </tr>\n",
       "    <tr>\n",
       "      <th>4</th>\n",
       "      <td>30000</td>\n",
       "      <td>36</td>\n",
       "      <td>5</td>\n",
       "      <td>21</td>\n",
       "      <td>2</td>\n",
       "      <td>6201</td>\n",
       "      <td>8560</td>\n",
       "      <td>1</td>\n",
       "      <td>2740</td>\n",
       "      <td>9</td>\n",
       "      <td>10</td>\n",
       "      <td>1281.892295</td>\n",
       "      <td>600.000</td>\n",
       "      <td>0</td>\n",
       "      <td>1881.892295</td>\n",
       "    </tr>\n",
       "    <tr>\n",
       "      <th>5</th>\n",
       "      <td>26000</td>\n",
       "      <td>37</td>\n",
       "      <td>4</td>\n",
       "      <td>10</td>\n",
       "      <td>2</td>\n",
       "      <td>0</td>\n",
       "      <td>8680</td>\n",
       "      <td>2</td>\n",
       "      <td>4010</td>\n",
       "      <td>1</td>\n",
       "      <td>6</td>\n",
       "      <td>743.000000</td>\n",
       "      <td>826.427</td>\n",
       "      <td>20000</td>\n",
       "      <td>1569.427000</td>\n",
       "    </tr>\n",
       "    <tr>\n",
       "      <th>6</th>\n",
       "      <td>1500</td>\n",
       "      <td>18</td>\n",
       "      <td>5</td>\n",
       "      <td>14</td>\n",
       "      <td>2</td>\n",
       "      <td>0</td>\n",
       "      <td>8680</td>\n",
       "      <td>1</td>\n",
       "      <td>4150</td>\n",
       "      <td>1</td>\n",
       "      <td>6</td>\n",
       "      <td>743.000000</td>\n",
       "      <td>826.427</td>\n",
       "      <td>20000</td>\n",
       "      <td>1569.427000</td>\n",
       "    </tr>\n",
       "  </tbody>\n",
       "</table>\n",
       "</div>"
      ],
      "text/plain": [
       "   PINCP  AGEP  MAR  SCHL  SEX  FOD1P  INDP  NATIVITY  OCCP  RAC1P  RMSP  \\\n",
       "0  27000    35    1    16    1      0  8680         1  4110      1     6   \n",
       "1  53000    35    1    21    2   3301  7870         1   136      1     6   \n",
       "4  30000    36    5    21    2   6201  8560         1  2740      9    10   \n",
       "5  26000    37    4    10    2      0  8680         2  4010      1     6   \n",
       "6   1500    18    5    14    2      0  8680         1  4150      1     6   \n",
       "\n",
       "         SMOCP     RNTP    VALP  MONTHLYCOSTS  \n",
       "0  1276.000000  826.427  120000   2102.427000  \n",
       "1  1276.000000  826.427  120000   2102.427000  \n",
       "4  1281.892295  600.000       0   1881.892295  \n",
       "5   743.000000  826.427   20000   1569.427000  \n",
       "6   743.000000  826.427   20000   1569.427000  "
      ]
     },
     "execution_count": 49,
     "metadata": {},
     "output_type": "execute_result"
    }
   ],
   "source": [
    "newData['MONTHLYCOSTS'] = newData.SMOCP + newData.RNTP\n",
    "newData.head()"
   ]
  },
  {
   "cell_type": "code",
   "execution_count": 50,
   "metadata": {
    "collapsed": false
   },
   "outputs": [
    {
     "data": {
      "text/html": [
       "<div>\n",
       "<table border=\"1\" class=\"dataframe\">\n",
       "  <thead>\n",
       "    <tr style=\"text-align: right;\">\n",
       "      <th></th>\n",
       "      <th>PINCP</th>\n",
       "      <th>AGEP</th>\n",
       "      <th>MAR</th>\n",
       "      <th>SCHL</th>\n",
       "      <th>SEX</th>\n",
       "      <th>FOD1P</th>\n",
       "      <th>INDP</th>\n",
       "      <th>NATIVITY</th>\n",
       "      <th>OCCP</th>\n",
       "      <th>RAC1P</th>\n",
       "      <th>RMSP</th>\n",
       "      <th>VALP</th>\n",
       "      <th>MONTHLYCOSTS</th>\n",
       "    </tr>\n",
       "  </thead>\n",
       "  <tbody>\n",
       "    <tr>\n",
       "      <th>0</th>\n",
       "      <td>27000</td>\n",
       "      <td>35</td>\n",
       "      <td>1</td>\n",
       "      <td>16</td>\n",
       "      <td>1</td>\n",
       "      <td>0</td>\n",
       "      <td>8680</td>\n",
       "      <td>1</td>\n",
       "      <td>4110</td>\n",
       "      <td>1</td>\n",
       "      <td>6</td>\n",
       "      <td>120000</td>\n",
       "      <td>2102.427000</td>\n",
       "    </tr>\n",
       "    <tr>\n",
       "      <th>1</th>\n",
       "      <td>53000</td>\n",
       "      <td>35</td>\n",
       "      <td>1</td>\n",
       "      <td>21</td>\n",
       "      <td>2</td>\n",
       "      <td>3301</td>\n",
       "      <td>7870</td>\n",
       "      <td>1</td>\n",
       "      <td>136</td>\n",
       "      <td>1</td>\n",
       "      <td>6</td>\n",
       "      <td>120000</td>\n",
       "      <td>2102.427000</td>\n",
       "    </tr>\n",
       "    <tr>\n",
       "      <th>4</th>\n",
       "      <td>30000</td>\n",
       "      <td>36</td>\n",
       "      <td>5</td>\n",
       "      <td>21</td>\n",
       "      <td>2</td>\n",
       "      <td>6201</td>\n",
       "      <td>8560</td>\n",
       "      <td>1</td>\n",
       "      <td>2740</td>\n",
       "      <td>9</td>\n",
       "      <td>10</td>\n",
       "      <td>0</td>\n",
       "      <td>1881.892295</td>\n",
       "    </tr>\n",
       "    <tr>\n",
       "      <th>5</th>\n",
       "      <td>26000</td>\n",
       "      <td>37</td>\n",
       "      <td>4</td>\n",
       "      <td>10</td>\n",
       "      <td>2</td>\n",
       "      <td>0</td>\n",
       "      <td>8680</td>\n",
       "      <td>2</td>\n",
       "      <td>4010</td>\n",
       "      <td>1</td>\n",
       "      <td>6</td>\n",
       "      <td>20000</td>\n",
       "      <td>1569.427000</td>\n",
       "    </tr>\n",
       "    <tr>\n",
       "      <th>6</th>\n",
       "      <td>1500</td>\n",
       "      <td>18</td>\n",
       "      <td>5</td>\n",
       "      <td>14</td>\n",
       "      <td>2</td>\n",
       "      <td>0</td>\n",
       "      <td>8680</td>\n",
       "      <td>1</td>\n",
       "      <td>4150</td>\n",
       "      <td>1</td>\n",
       "      <td>6</td>\n",
       "      <td>20000</td>\n",
       "      <td>1569.427000</td>\n",
       "    </tr>\n",
       "  </tbody>\n",
       "</table>\n",
       "</div>"
      ],
      "text/plain": [
       "   PINCP  AGEP  MAR  SCHL  SEX  FOD1P  INDP  NATIVITY  OCCP  RAC1P  RMSP  \\\n",
       "0  27000    35    1    16    1      0  8680         1  4110      1     6   \n",
       "1  53000    35    1    21    2   3301  7870         1   136      1     6   \n",
       "4  30000    36    5    21    2   6201  8560         1  2740      9    10   \n",
       "5  26000    37    4    10    2      0  8680         2  4010      1     6   \n",
       "6   1500    18    5    14    2      0  8680         1  4150      1     6   \n",
       "\n",
       "     VALP  MONTHLYCOSTS  \n",
       "0  120000   2102.427000  \n",
       "1  120000   2102.427000  \n",
       "4       0   1881.892295  \n",
       "5   20000   1569.427000  \n",
       "6   20000   1569.427000  "
      ]
     },
     "execution_count": 50,
     "metadata": {},
     "output_type": "execute_result"
    }
   ],
   "source": [
    "del newData['SMOCP']\n",
    "del newData['RNTP']\n",
    "newData.head()"
   ]
  },
  {
   "cell_type": "code",
   "execution_count": 51,
   "metadata": {
    "collapsed": false
   },
   "outputs": [],
   "source": [
    "#del newData['SCHL']\n",
    "#del newData['FOD1P']\n",
    "#xs = newData.values\n",
    "#corr = np.corrcoef(xs, rowvar=0)\n",
    "#w, v = np.linalg.eig(corr)\n",
    "#w"
   ]
  },
  {
   "cell_type": "code",
   "execution_count": 52,
   "metadata": {
    "collapsed": false
   },
   "outputs": [
    {
     "data": {
      "text/html": [
       "<div>\n",
       "<table border=\"1\" class=\"dataframe\">\n",
       "  <thead>\n",
       "    <tr style=\"text-align: right;\">\n",
       "      <th></th>\n",
       "      <th>PINCP</th>\n",
       "      <th>AGEP</th>\n",
       "      <th>RMSP</th>\n",
       "      <th>VALP</th>\n",
       "      <th>MONTHLYCOSTS</th>\n",
       "      <th>MAR_1</th>\n",
       "      <th>MAR_2</th>\n",
       "      <th>MAR_3</th>\n",
       "      <th>MAR_4</th>\n",
       "      <th>MAR_5</th>\n",
       "      <th>...</th>\n",
       "      <th>OCCP_98</th>\n",
       "      <th>RAC1P_1</th>\n",
       "      <th>RAC1P_2</th>\n",
       "      <th>RAC1P_3</th>\n",
       "      <th>RAC1P_4</th>\n",
       "      <th>RAC1P_5</th>\n",
       "      <th>RAC1P_6</th>\n",
       "      <th>RAC1P_7</th>\n",
       "      <th>RAC1P_8</th>\n",
       "      <th>RAC1P_9</th>\n",
       "    </tr>\n",
       "  </thead>\n",
       "  <tbody>\n",
       "    <tr>\n",
       "      <th>0</th>\n",
       "      <td>27000</td>\n",
       "      <td>35</td>\n",
       "      <td>6</td>\n",
       "      <td>120000</td>\n",
       "      <td>2102.427000</td>\n",
       "      <td>1</td>\n",
       "      <td>0</td>\n",
       "      <td>0</td>\n",
       "      <td>0</td>\n",
       "      <td>0</td>\n",
       "      <td>...</td>\n",
       "      <td>0</td>\n",
       "      <td>1</td>\n",
       "      <td>0</td>\n",
       "      <td>0</td>\n",
       "      <td>0</td>\n",
       "      <td>0</td>\n",
       "      <td>0</td>\n",
       "      <td>0</td>\n",
       "      <td>0</td>\n",
       "      <td>0</td>\n",
       "    </tr>\n",
       "    <tr>\n",
       "      <th>1</th>\n",
       "      <td>53000</td>\n",
       "      <td>35</td>\n",
       "      <td>6</td>\n",
       "      <td>120000</td>\n",
       "      <td>2102.427000</td>\n",
       "      <td>1</td>\n",
       "      <td>0</td>\n",
       "      <td>0</td>\n",
       "      <td>0</td>\n",
       "      <td>0</td>\n",
       "      <td>...</td>\n",
       "      <td>0</td>\n",
       "      <td>1</td>\n",
       "      <td>0</td>\n",
       "      <td>0</td>\n",
       "      <td>0</td>\n",
       "      <td>0</td>\n",
       "      <td>0</td>\n",
       "      <td>0</td>\n",
       "      <td>0</td>\n",
       "      <td>0</td>\n",
       "    </tr>\n",
       "    <tr>\n",
       "      <th>4</th>\n",
       "      <td>30000</td>\n",
       "      <td>36</td>\n",
       "      <td>10</td>\n",
       "      <td>0</td>\n",
       "      <td>1881.892295</td>\n",
       "      <td>0</td>\n",
       "      <td>0</td>\n",
       "      <td>0</td>\n",
       "      <td>0</td>\n",
       "      <td>1</td>\n",
       "      <td>...</td>\n",
       "      <td>0</td>\n",
       "      <td>0</td>\n",
       "      <td>0</td>\n",
       "      <td>0</td>\n",
       "      <td>0</td>\n",
       "      <td>0</td>\n",
       "      <td>0</td>\n",
       "      <td>0</td>\n",
       "      <td>0</td>\n",
       "      <td>1</td>\n",
       "    </tr>\n",
       "    <tr>\n",
       "      <th>5</th>\n",
       "      <td>26000</td>\n",
       "      <td>37</td>\n",
       "      <td>6</td>\n",
       "      <td>20000</td>\n",
       "      <td>1569.427000</td>\n",
       "      <td>0</td>\n",
       "      <td>0</td>\n",
       "      <td>0</td>\n",
       "      <td>1</td>\n",
       "      <td>0</td>\n",
       "      <td>...</td>\n",
       "      <td>0</td>\n",
       "      <td>1</td>\n",
       "      <td>0</td>\n",
       "      <td>0</td>\n",
       "      <td>0</td>\n",
       "      <td>0</td>\n",
       "      <td>0</td>\n",
       "      <td>0</td>\n",
       "      <td>0</td>\n",
       "      <td>0</td>\n",
       "    </tr>\n",
       "    <tr>\n",
       "      <th>6</th>\n",
       "      <td>1500</td>\n",
       "      <td>18</td>\n",
       "      <td>6</td>\n",
       "      <td>20000</td>\n",
       "      <td>1569.427000</td>\n",
       "      <td>0</td>\n",
       "      <td>0</td>\n",
       "      <td>0</td>\n",
       "      <td>0</td>\n",
       "      <td>1</td>\n",
       "      <td>...</td>\n",
       "      <td>0</td>\n",
       "      <td>1</td>\n",
       "      <td>0</td>\n",
       "      <td>0</td>\n",
       "      <td>0</td>\n",
       "      <td>0</td>\n",
       "      <td>0</td>\n",
       "      <td>0</td>\n",
       "      <td>0</td>\n",
       "      <td>0</td>\n",
       "    </tr>\n",
       "  </tbody>\n",
       "</table>\n",
       "<p>5 rows × 276 columns</p>\n",
       "</div>"
      ],
      "text/plain": [
       "   PINCP  AGEP  RMSP    VALP  MONTHLYCOSTS  MAR_1  MAR_2  MAR_3  MAR_4  MAR_5  \\\n",
       "0  27000    35     6  120000   2102.427000      1      0      0      0      0   \n",
       "1  53000    35     6  120000   2102.427000      1      0      0      0      0   \n",
       "4  30000    36    10       0   1881.892295      0      0      0      0      1   \n",
       "5  26000    37     6   20000   1569.427000      0      0      0      1      0   \n",
       "6   1500    18     6   20000   1569.427000      0      0      0      0      1   \n",
       "\n",
       "    ...     OCCP_98  RAC1P_1  RAC1P_2  RAC1P_3  RAC1P_4  RAC1P_5  RAC1P_6  \\\n",
       "0   ...           0        1        0        0        0        0        0   \n",
       "1   ...           0        1        0        0        0        0        0   \n",
       "4   ...           0        0        0        0        0        0        0   \n",
       "5   ...           0        1        0        0        0        0        0   \n",
       "6   ...           0        1        0        0        0        0        0   \n",
       "\n",
       "   RAC1P_7  RAC1P_8  RAC1P_9  \n",
       "0        0        0        0  \n",
       "1        0        0        0  \n",
       "4        0        0        1  \n",
       "5        0        0        0  \n",
       "6        0        0        0  \n",
       "\n",
       "[5 rows x 276 columns]"
      ]
     },
     "execution_count": 52,
     "metadata": {},
     "output_type": "execute_result"
    }
   ],
   "source": [
    "mar_dummies = pd.get_dummies(newData.MAR, prefix=\"MAR\")\n",
    "newData = newData.join(mar_dummies)\n",
    "del newData['MAR']\n",
    "\n",
    "schl_dummies = pd.get_dummies(newData.SCHL, prefix=\"SCHL\")\n",
    "newData = newData.join(schl_dummies)\n",
    "del newData['SCHL']\n",
    "\n",
    "sex_dummies = pd.get_dummies(newData.SEX, prefix=\"SEX\")\n",
    "newData = newData.join(sex_dummies)\n",
    "del newData['SEX']\n",
    "\n",
    "#newData['FOD1P'].fillna(0, inplace=True)\n",
    "newData['FOD1P'] = newData['FOD1P'].apply(lambda x: int(x/100))\n",
    "fod_dummies = pd.get_dummies(newData.FOD1P, prefix=\"FOD1P\")\n",
    "newData = newData.join(fod_dummies)\n",
    "del newData['FOD1P']\n",
    "\n",
    "#newData['INDP'].fillna(0, inplace=True)\n",
    "newData['INDP'] = newData['INDP'].apply(lambda x: int(x/100))\n",
    "indp_dummies = pd.get_dummies(newData.INDP, prefix=\"INDP\")\n",
    "newData = newData.join(indp_dummies)\n",
    "del newData['INDP']\n",
    "\n",
    "nat_dummies = pd.get_dummies(newData.NATIVITY, prefix=\"NATIVITY\")\n",
    "newData = newData.join(nat_dummies)\n",
    "del newData['NATIVITY']\n",
    "\n",
    "#newData['OCCP'].fillna(0, inplace=True)\n",
    "newData['OCCP'] = newData['OCCP'].apply(lambda x: int(x/100))\n",
    "occp_dummies = pd.get_dummies(newData.OCCP, prefix=\"OCCP\")\n",
    "newData = newData.join(occp_dummies)\n",
    "del newData['OCCP']\n",
    "\n",
    "rac_dummies = pd.get_dummies(newData.RAC1P, prefix=\"RAC1P\")\n",
    "newData = newData.join(rac_dummies)\n",
    "del newData['RAC1P']\n",
    "newData.head()"
   ]
  },
  {
   "cell_type": "code",
   "execution_count": 53,
   "metadata": {
    "collapsed": false
   },
   "outputs": [
    {
     "data": {
      "text/html": [
       "<div>\n",
       "<table border=\"1\" class=\"dataframe\">\n",
       "  <thead>\n",
       "    <tr style=\"text-align: right;\">\n",
       "      <th></th>\n",
       "      <th>AGEP</th>\n",
       "      <th>RMSP</th>\n",
       "      <th>VALP</th>\n",
       "      <th>MONTHLYCOSTS</th>\n",
       "      <th>MAR_1</th>\n",
       "      <th>MAR_2</th>\n",
       "      <th>MAR_3</th>\n",
       "      <th>MAR_4</th>\n",
       "      <th>MAR_5</th>\n",
       "      <th>SCHL_1.0</th>\n",
       "      <th>...</th>\n",
       "      <th>RAC1P_1</th>\n",
       "      <th>RAC1P_2</th>\n",
       "      <th>RAC1P_3</th>\n",
       "      <th>RAC1P_4</th>\n",
       "      <th>RAC1P_5</th>\n",
       "      <th>RAC1P_6</th>\n",
       "      <th>RAC1P_7</th>\n",
       "      <th>RAC1P_8</th>\n",
       "      <th>RAC1P_9</th>\n",
       "      <th>PINCP_100000</th>\n",
       "    </tr>\n",
       "  </thead>\n",
       "  <tbody>\n",
       "    <tr>\n",
       "      <th>0</th>\n",
       "      <td>35</td>\n",
       "      <td>6</td>\n",
       "      <td>120000</td>\n",
       "      <td>2102.427000</td>\n",
       "      <td>1</td>\n",
       "      <td>0</td>\n",
       "      <td>0</td>\n",
       "      <td>0</td>\n",
       "      <td>0</td>\n",
       "      <td>0</td>\n",
       "      <td>...</td>\n",
       "      <td>1</td>\n",
       "      <td>0</td>\n",
       "      <td>0</td>\n",
       "      <td>0</td>\n",
       "      <td>0</td>\n",
       "      <td>0</td>\n",
       "      <td>0</td>\n",
       "      <td>0</td>\n",
       "      <td>0</td>\n",
       "      <td>False</td>\n",
       "    </tr>\n",
       "    <tr>\n",
       "      <th>1</th>\n",
       "      <td>35</td>\n",
       "      <td>6</td>\n",
       "      <td>120000</td>\n",
       "      <td>2102.427000</td>\n",
       "      <td>1</td>\n",
       "      <td>0</td>\n",
       "      <td>0</td>\n",
       "      <td>0</td>\n",
       "      <td>0</td>\n",
       "      <td>0</td>\n",
       "      <td>...</td>\n",
       "      <td>1</td>\n",
       "      <td>0</td>\n",
       "      <td>0</td>\n",
       "      <td>0</td>\n",
       "      <td>0</td>\n",
       "      <td>0</td>\n",
       "      <td>0</td>\n",
       "      <td>0</td>\n",
       "      <td>0</td>\n",
       "      <td>False</td>\n",
       "    </tr>\n",
       "    <tr>\n",
       "      <th>4</th>\n",
       "      <td>36</td>\n",
       "      <td>10</td>\n",
       "      <td>0</td>\n",
       "      <td>1881.892295</td>\n",
       "      <td>0</td>\n",
       "      <td>0</td>\n",
       "      <td>0</td>\n",
       "      <td>0</td>\n",
       "      <td>1</td>\n",
       "      <td>0</td>\n",
       "      <td>...</td>\n",
       "      <td>0</td>\n",
       "      <td>0</td>\n",
       "      <td>0</td>\n",
       "      <td>0</td>\n",
       "      <td>0</td>\n",
       "      <td>0</td>\n",
       "      <td>0</td>\n",
       "      <td>0</td>\n",
       "      <td>1</td>\n",
       "      <td>False</td>\n",
       "    </tr>\n",
       "    <tr>\n",
       "      <th>5</th>\n",
       "      <td>37</td>\n",
       "      <td>6</td>\n",
       "      <td>20000</td>\n",
       "      <td>1569.427000</td>\n",
       "      <td>0</td>\n",
       "      <td>0</td>\n",
       "      <td>0</td>\n",
       "      <td>1</td>\n",
       "      <td>0</td>\n",
       "      <td>0</td>\n",
       "      <td>...</td>\n",
       "      <td>1</td>\n",
       "      <td>0</td>\n",
       "      <td>0</td>\n",
       "      <td>0</td>\n",
       "      <td>0</td>\n",
       "      <td>0</td>\n",
       "      <td>0</td>\n",
       "      <td>0</td>\n",
       "      <td>0</td>\n",
       "      <td>False</td>\n",
       "    </tr>\n",
       "    <tr>\n",
       "      <th>6</th>\n",
       "      <td>18</td>\n",
       "      <td>6</td>\n",
       "      <td>20000</td>\n",
       "      <td>1569.427000</td>\n",
       "      <td>0</td>\n",
       "      <td>0</td>\n",
       "      <td>0</td>\n",
       "      <td>0</td>\n",
       "      <td>1</td>\n",
       "      <td>0</td>\n",
       "      <td>...</td>\n",
       "      <td>1</td>\n",
       "      <td>0</td>\n",
       "      <td>0</td>\n",
       "      <td>0</td>\n",
       "      <td>0</td>\n",
       "      <td>0</td>\n",
       "      <td>0</td>\n",
       "      <td>0</td>\n",
       "      <td>0</td>\n",
       "      <td>False</td>\n",
       "    </tr>\n",
       "  </tbody>\n",
       "</table>\n",
       "<p>5 rows × 276 columns</p>\n",
       "</div>"
      ],
      "text/plain": [
       "   AGEP  RMSP    VALP  MONTHLYCOSTS  MAR_1  MAR_2  MAR_3  MAR_4  MAR_5  \\\n",
       "0    35     6  120000   2102.427000      1      0      0      0      0   \n",
       "1    35     6  120000   2102.427000      1      0      0      0      0   \n",
       "4    36    10       0   1881.892295      0      0      0      0      1   \n",
       "5    37     6   20000   1569.427000      0      0      0      1      0   \n",
       "6    18     6   20000   1569.427000      0      0      0      0      1   \n",
       "\n",
       "   SCHL_1.0      ...       RAC1P_1  RAC1P_2  RAC1P_3  RAC1P_4  RAC1P_5  \\\n",
       "0         0      ...             1        0        0        0        0   \n",
       "1         0      ...             1        0        0        0        0   \n",
       "4         0      ...             0        0        0        0        0   \n",
       "5         0      ...             1        0        0        0        0   \n",
       "6         0      ...             1        0        0        0        0   \n",
       "\n",
       "   RAC1P_6  RAC1P_7  RAC1P_8  RAC1P_9  PINCP_100000  \n",
       "0        0        0        0        0         False  \n",
       "1        0        0        0        0         False  \n",
       "4        0        0        0        1         False  \n",
       "5        0        0        0        0         False  \n",
       "6        0        0        0        0         False  \n",
       "\n",
       "[5 rows x 276 columns]"
      ]
     },
     "execution_count": 53,
     "metadata": {},
     "output_type": "execute_result"
    }
   ],
   "source": [
    "newData['PINCP_100000'] = newData.PINCP > 100000\n",
    "del newData['PINCP']\n",
    "newData.head()"
   ]
  },
  {
   "cell_type": "code",
   "execution_count": 54,
   "metadata": {
    "collapsed": false
   },
   "outputs": [
    {
     "data": {
      "text/plain": [
       "276"
      ]
     },
     "execution_count": 54,
     "metadata": {},
     "output_type": "execute_result"
    }
   ],
   "source": [
    "len(newData.columns)"
   ]
  },
  {
   "cell_type": "code",
   "execution_count": 55,
   "metadata": {
    "collapsed": false
   },
   "outputs": [],
   "source": [
    "y = newData.PINCP_100000\n",
    "del newData['PINCP_100000']"
   ]
  },
  {
   "cell_type": "code",
   "execution_count": 56,
   "metadata": {
    "collapsed": true
   },
   "outputs": [],
   "source": [
    "def plot_roc(model):\n",
    "    model.fit(X_train, y_train)\n",
    "    predictions = model.predict_proba(X_test)\n",
    "    predictions = [x[1] for x in predictions]\n",
    "    false_positive_rate, true_positive_rate, thresholds = roc_curve(y_test, predictions)\n",
    "    roc_auc = auc(false_positive_rate, true_positive_rate)\n",
    "    plt.title('Receiver Operating Characteristic')\n",
    "    plt.plot(false_positive_rate, true_positive_rate, 'b',\n",
    "    label='AUC = %0.2f'% roc_auc)\n",
    "    plt.legend(loc='lower right')\n",
    "    plt.plot([0,1],[0,1],'r--')\n",
    "    plt.xlim([-0.1,1.2])\n",
    "    plt.ylim([-0.1,1.2])\n",
    "    plt.ylabel('True Positive Rate')\n",
    "    plt.xlabel('False Positive Rate')\n",
    "\n",
    "def plot_confusion_matrix(cm, title='Confusion matrix', cmap=plt.cm.Blues):\n",
    "    print(cm)\n",
    "    plt.imshow(cm, interpolation='nearest', cmap=cmap)\n",
    "    plt.title(title)\n",
    "    plt.colorbar()\n",
    "    tick_marks = np.arange(2)\n",
    "    plt.xticks(tick_marks, ['Below 100000', 'Above 100000'], rotation=45)\n",
    "    plt.yticks(tick_marks, ['Below 100000', 'Above 100000'])\n",
    "    plt.tight_layout()\n",
    "    plt.ylabel('True label')\n",
    "    plt.xlabel('Predicted label')\n",
    "\n",
    "\n",
    "def accuracies(cm):\n",
    "    totals = np.sum(cm, 1)\n",
    "    no_acc = cm[0, 0] / totals[0]\n",
    "    yes_acc = cm[1, 1] / totals[1]\n",
    "    print(\"Below 100000 Acc: {0}\".format(no_acc))\n",
    "    print(\"Above 100000 Acc: {0}\".format(yes_acc))\n",
    "    print(\"Avg Acc: {0}\".format((no_acc + yes_acc)/2))\n",
    "    \n",
    "\n",
    "def run_model(model):\n",
    "    clf = model\n",
    "    clf.fit(X_train, y_train)\n",
    "    predictions = clf.predict(X_test)\n",
    "    cm = confusion_matrix(y_test, predictions)\n",
    "    plot_confusion_matrix(cm)\n",
    "    accuracies(cm)"
   ]
  },
  {
   "cell_type": "code",
   "execution_count": 57,
   "metadata": {
    "collapsed": false
   },
   "outputs": [],
   "source": [
    "from sklearn.cross_validation import train_test_split\n",
    "X_train, X_test, y_train, y_test = train_test_split(newData, y, test_size=0.33, random_state=42)"
   ]
  },
  {
   "cell_type": "code",
   "execution_count": 58,
   "metadata": {
    "collapsed": false
   },
   "outputs": [
    {
     "name": "stdout",
     "output_type": "stream",
     "text": [
      "[[23235  9697]\n",
      " [ 1068  2715]]\n",
      "Below 100000 Acc: 0.7055447588971213\n",
      "Above 100000 Acc: 0.7176843774781919\n",
      "Avg Acc: 0.7116145681876567\n"
     ]
    },
    {
     "data": {
      "image/png": "[encoded data removed]",
      "text/plain": [
       "<matplotlib.figure.Figure at 0x10fbb06a0>"
      ]
     },
     "metadata": {},
     "output_type": "display_data"
    }
   ],
   "source": [
    "from sklearn.linear_model import LogisticRegression, LogisticRegressionCV\n",
    "from sklearn.metrics import confusion_matrix\n",
    "\n",
    "clf = LogisticRegression(penalty='l2', C=1000, class_weight='balanced')\n",
    "run_model(clf)"
   ]
  },
  {
   "cell_type": "code",
   "execution_count": 59,
   "metadata": {
    "collapsed": false
   },
   "outputs": [
    {
     "data": {
      "image/png": "[encoded data removed]",
      "text/plain": [
       "<matplotlib.figure.Figure at 0x10cbe1208>"
      ]
     },
     "metadata": {},
     "output_type": "display_data"
    }
   ],
   "source": [
    "from sklearn.metrics import roc_curve, auc\n",
    "plot_roc(clf)"
   ]
  },
  {
   "cell_type": "code",
   "execution_count": 60,
   "metadata": {
    "collapsed": false
   },
   "outputs": [
    {
     "name": "stdout",
     "output_type": "stream",
     "text": [
      "[[23235  9697]\n",
      " [ 1068  2715]]\n",
      "Below 100000 Acc: 0.7055447588971213\n",
      "Above 100000 Acc: 0.7176843774781919\n",
      "Avg Acc: 0.7116145681876567\n",
      "{'C': 0.001}\n"
     ]
    },
    {
     "data": {
      "image/png": "[encoded data removed]",
      "text/plain": [
       "<matplotlib.figure.Figure at 0x10e818278>"
      ]
     },
     "metadata": {},
     "output_type": "display_data"
    }
   ],
   "source": [
    "from sklearn.grid_search import GridSearchCV\n",
    "from sklearn.metrics import make_scorer\n",
    "\n",
    "def cm_loss(estimator, X, y):\n",
    "    predictions = estimator.predict(X)\n",
    "    cm = confusion_matrix(y, predictions)\n",
    "    totals = np.sum(cm, 1)\n",
    "    no_acc = cm[0, 0] / totals[0]\n",
    "    yes_acc = cm[1, 1] / totals[1]\n",
    "    return (no_acc + yes_acc)/2\n",
    "\n",
    "\n",
    "lr = LogisticRegression(penalty='l2', class_weight='balanced')\n",
    "parameters = {'C':[.001, .01, 1, 10, 100]}\n",
    "clf = GridSearchCV(lr, parameters, scoring=cm_loss, cv=7)\n",
    "clf.fit(X_train, y_train)\n",
    "run_model(clf.best_estimator_)\n",
    "print(clf.best_params_)"
   ]
  },
  {
   "cell_type": "code",
   "execution_count": 61,
   "metadata": {
    "collapsed": false
   },
   "outputs": [
    {
     "data": {
      "image/png": "[encoded data removed]",
      "text/plain": [
       "<matplotlib.figure.Figure at 0x10cc1de48>"
      ]
     },
     "metadata": {},
     "output_type": "display_data"
    }
   ],
   "source": [
    "plot_roc(clf.best_estimator_)"
   ]
  },
  {
   "cell_type": "code",
   "execution_count": 96,
   "metadata": {
    "collapsed": false
   },
   "outputs": [
    {
     "name": "stdout",
     "output_type": "stream",
     "text": [
      "[[27438  5494]\n",
      " [  596  3187]]\n",
      "Below 100000 Acc: 0.8331713834568201\n",
      "Above 100000 Acc: 0.8424530795664816\n",
      "Avg Acc: 0.8378122315116509\n",
      "{'C': 1}\n"
     ]
    },
    {
     "data": {
      "image/png": "[encoded data removed]",
      "text/plain": [
       "<matplotlib.figure.Figure at 0x10fd1e940>"
      ]
     },
     "metadata": {},
     "output_type": "display_data"
    }
   ],
   "source": [
    "lr = LogisticRegression(penalty='l1', class_weight='balanced')\n",
    "parameters = {'C':[.001, .01, 1, 10, 100, 1000]}\n",
    "clf = GridSearchCV(lr, parameters, scoring=cm_loss, cv=5)\n",
    "clf.fit(X_train, y_train)\n",
    "run_model(clf.best_estimator_)\n",
    "print(clf.best_params_)"
   ]
  },
  {
   "cell_type": "code",
   "execution_count": 97,
   "metadata": {
    "collapsed": false
   },
   "outputs": [
    {
     "data": {
      "image/png": "[encoded data removed]",
      "text/plain": [
       "<matplotlib.figure.Figure at 0x10d721fd0>"
      ]
     },
     "metadata": {},
     "output_type": "display_data"
    }
   ],
   "source": [
    "plot_roc(clf.best_estimator_)"
   ]
  },
  {
   "cell_type": "markdown",
   "metadata": {},
   "source": [
    "## LDA AND QDA"
   ]
  },
  {
   "cell_type": "code",
   "execution_count": 70,
   "metadata": {
    "collapsed": false
   },
   "outputs": [],
   "source": [
    "from sklearn.discriminant_analysis import LinearDiscriminantAnalysis"
   ]
  },
  {
   "cell_type": "code",
   "execution_count": 71,
   "metadata": {
    "collapsed": false
   },
   "outputs": [
    {
     "name": "stdout",
     "output_type": "stream",
     "text": [
      "[[31668  1264]\n",
      " [ 1874  1909]]\n",
      "Below 100000 Acc: 0.9616178792663671\n",
      "Above 100000 Acc: 0.5046259582342056\n",
      "Avg Acc: 0.7331219187502864\n",
      "{'tol': 0.001}\n"
     ]
    },
    {
     "data": {
      "image/png": "[encoded data removed]",
      "text/plain": [
       "<matplotlib.figure.Figure at 0x10d756780>"
      ]
     },
     "metadata": {},
     "output_type": "display_data"
    }
   ],
   "source": [
    "ldaModel = LinearDiscriminantAnalysis(solver = 'lsqr', shrinkage='auto')\n",
    "parameters = {'tol':[0.001]}\n",
    "clf2 = GridSearchCV(ldaModel, parameters, scoring=cm_loss, cv=5)\n",
    "clf2.fit(X_train, y_train)\n",
    "run_model(clf2.best_estimator_)\n",
    "print(clf2.best_params_)"
   ]
  },
  {
   "cell_type": "code",
   "execution_count": 72,
   "metadata": {
    "collapsed": false
   },
   "outputs": [
    {
     "data": {
      "image/png": "[encoded data removed]",
      "text/plain": [
       "<matplotlib.figure.Figure at 0x10fcaa390>"
      ]
     },
     "metadata": {},
     "output_type": "display_data"
    }
   ],
   "source": [
    "plot_roc(clfLda.best_estimator_)"
   ]
  },
  {
   "cell_type": "code",
   "execution_count": 73,
   "metadata": {
    "collapsed": true
   },
   "outputs": [],
   "source": [
    "from sklearn.discriminant_analysis import QuadraticDiscriminantAnalysis"
   ]
  },
  {
   "cell_type": "code",
   "execution_count": 74,
   "metadata": {
    "collapsed": false
   },
   "outputs": [
    {
     "name": "stderr",
     "output_type": "stream",
     "text": [
      "/Users/qldo18/anaconda/lib/python3.5/site-packages/sklearn/discriminant_analysis.py:688: UserWarning: Variables are collinear\n",
      "  warnings.warn(\"Variables are collinear\")\n",
      "/Users/qldo18/anaconda/lib/python3.5/site-packages/sklearn/discriminant_analysis.py:688: UserWarning: Variables are collinear\n",
      "  warnings.warn(\"Variables are collinear\")\n",
      "/Users/qldo18/anaconda/lib/python3.5/site-packages/sklearn/discriminant_analysis.py:688: UserWarning: Variables are collinear\n",
      "  warnings.warn(\"Variables are collinear\")\n",
      "/Users/qldo18/anaconda/lib/python3.5/site-packages/sklearn/discriminant_analysis.py:688: UserWarning: Variables are collinear\n",
      "  warnings.warn(\"Variables are collinear\")\n",
      "/Users/qldo18/anaconda/lib/python3.5/site-packages/sklearn/discriminant_analysis.py:688: UserWarning: Variables are collinear\n",
      "  warnings.warn(\"Variables are collinear\")\n",
      "/Users/qldo18/anaconda/lib/python3.5/site-packages/sklearn/discriminant_analysis.py:688: UserWarning: Variables are collinear\n",
      "  warnings.warn(\"Variables are collinear\")\n"
     ]
    },
    {
     "name": "stdout",
     "output_type": "stream",
     "text": [
      "[[26150  6782]\n",
      " [ 1092  2691]]\n",
      "Below 100000 Acc: 0.7940604882788777\n",
      "Above 100000 Acc: 0.711340206185567\n",
      "Avg Acc: 0.7527003472322223\n",
      "{'reg_param': 0.9}\n"
     ]
    },
    {
     "data": {
      "image/png": "[encoded data removed]",
      "text/plain": [
       "<matplotlib.figure.Figure at 0x10cd4df28>"
      ]
     },
     "metadata": {},
     "output_type": "display_data"
    }
   ],
   "source": [
    "qdaModel = QuadraticDiscriminantAnalysis()\n",
    "parameters = {'reg_param':[0.9]} #0.9 is optimal\n",
    "clf3 = GridSearchCV(qdaModel, parameters, scoring=cm_loss, cv=5)\n",
    "clf3.fit(X_train, y_train)\n",
    "run_model(clf3.best_estimator_)\n",
    "print(clf3.best_params_)"
   ]
  },
  {
   "cell_type": "code",
   "execution_count": 75,
   "metadata": {
    "collapsed": false
   },
   "outputs": [
    {
     "name": "stderr",
     "output_type": "stream",
     "text": [
      "/Users/qldo18/anaconda/lib/python3.5/site-packages/sklearn/discriminant_analysis.py:688: UserWarning: Variables are collinear\n",
      "  warnings.warn(\"Variables are collinear\")\n"
     ]
    },
    {
     "data": {
      "image/png": "[encoded data removed]",
      "text/plain": [
       "<matplotlib.figure.Figure at 0x10d693828>"
      ]
     },
     "metadata": {},
     "output_type": "display_data"
    }
   ],
   "source": [
    "plot_roc(qdaClf.best_estimator_)"
   ]
  },
  {
   "cell_type": "code",
   "execution_count": 76,
   "metadata": {
    "collapsed": false
   },
   "outputs": [],
   "source": [
    "from sklearn.svm import SVC"
   ]
  },
  {
   "cell_type": "code",
   "execution_count": 77,
   "metadata": {
    "collapsed": false
   },
   "outputs": [],
   "source": [
    "mod = SVC(max_iter=10000, kernel = 'poly', degree = 3, class_weight='balanced')"
   ]
  },
  {
   "cell_type": "code",
   "execution_count": 78,
   "metadata": {
    "collapsed": false
   },
   "outputs": [
    {
     "name": "stdout",
     "output_type": "stream",
     "text": [
      "[[  413 32519]\n",
      " [  485  3298]]\n",
      "Below 100000 Acc: 0.012540993562492409\n",
      "Above 100000 Acc: 0.8717948717948718\n",
      "Avg Acc: 0.4421679326786821\n"
     ]
    },
    {
     "name": "stderr",
     "output_type": "stream",
     "text": [
      "/Users/qldo18/anaconda/lib/python3.5/site-packages/sklearn/svm/base.py:224: ConvergenceWarning: Solver terminated early (max_iter=10000).  Consider pre-processing your data with StandardScaler or MinMaxScaler.\n",
      "  % self.max_iter, ConvergenceWarning)\n"
     ]
    },
    {
     "data": {
      "image/png": "[encoded data removed]",
      "text/plain": [
       "<matplotlib.figure.Figure at 0x10da3fb70>"
      ]
     },
     "metadata": {},
     "output_type": "display_data"
    }
   ],
   "source": [
    "run_model(mod)"
   ]
  },
  {
   "cell_type": "code",
   "execution_count": 79,
   "metadata": {
    "collapsed": true
   },
   "outputs": [],
   "source": [
    "mod = SVC(max_iter=20000, kernel = 'poly', degree = 3, class_weight='balanced')"
   ]
  },
  {
   "cell_type": "code",
   "execution_count": 80,
   "metadata": {
    "collapsed": false
   },
   "outputs": [
    {
     "name": "stdout",
     "output_type": "stream",
     "text": [
      "[[32439   493]\n",
      " [ 3216   567]]\n",
      "Below 100000 Acc: 0.9850297582898093\n",
      "Above 100000 Acc: 0.14988104678826328\n",
      "Avg Acc: 0.5674554025390363\n"
     ]
    },
    {
     "name": "stderr",
     "output_type": "stream",
     "text": [
      "/Users/qldo18/anaconda/lib/python3.5/site-packages/sklearn/svm/base.py:224: ConvergenceWarning: Solver terminated early (max_iter=20000).  Consider pre-processing your data with StandardScaler or MinMaxScaler.\n",
      "  % self.max_iter, ConvergenceWarning)\n"
     ]
    },
    {
     "data": {
      "image/png": "[encoded data removed]",
      "text/plain": [
       "<matplotlib.figure.Figure at 0x10e70def0>"
      ]
     },
     "metadata": {},
     "output_type": "display_data"
    }
   ],
   "source": [
    "run_model(mod)"
   ]
  },
  {
   "cell_type": "code",
   "execution_count": 81,
   "metadata": {
    "collapsed": true
   },
   "outputs": [],
   "source": [
    "mod = SVC(max_iter=30000, kernel = 'poly', degree = 3, coef0 = 1, class_weight='balanced')"
   ]
  },
  {
   "cell_type": "code",
   "execution_count": 82,
   "metadata": {
    "collapsed": false
   },
   "outputs": [
    {
     "name": "stdout",
     "output_type": "stream",
     "text": [
      "[[30879  2053]\n",
      " [ 2283  1500]]\n",
      "Below 100000 Acc: 0.9376594194096927\n",
      "Above 100000 Acc: 0.3965107057890563\n",
      "Avg Acc: 0.6670850625993745\n"
     ]
    },
    {
     "name": "stderr",
     "output_type": "stream",
     "text": [
      "/Users/qldo18/anaconda/lib/python3.5/site-packages/sklearn/svm/base.py:224: ConvergenceWarning: Solver terminated early (max_iter=30000).  Consider pre-processing your data with StandardScaler or MinMaxScaler.\n",
      "  % self.max_iter, ConvergenceWarning)\n"
     ]
    },
    {
     "data": {
      "image/png": "[encoded data removed]",
      "text/plain": [
       "<matplotlib.figure.Figure at 0x10e3b67b8>"
      ]
     },
     "metadata": {},
     "output_type": "display_data"
    }
   ],
   "source": [
    "run_model(mod)"
   ]
  },
  {
   "cell_type": "code",
   "execution_count": 83,
   "metadata": {
    "collapsed": true
   },
   "outputs": [],
   "source": [
    "from sklearn.linear_model import SGDClassifier"
   ]
  },
  {
   "cell_type": "code",
   "execution_count": 84,
   "metadata": {
    "collapsed": false
   },
   "outputs": [],
   "source": [
    "mod = SGDClassifier(n_jobs=-1, shuffle=True, penalty = 'l2', class_weight='balanced', average=1)\n",
    "parameters = {'l1_ratio':[0.85], 'alpha':[3.5],'eta0':[1.5], 'power_t':[3.5]}"
   ]
  },
  {
   "cell_type": "code",
   "execution_count": 87,
   "metadata": {
    "collapsed": false
   },
   "outputs": [
    {
     "name": "stdout",
     "output_type": "stream",
     "text": [
      "[[10881 22051]\n",
      " [  410  3373]]\n",
      "Below 100000 Acc: 0.3304081136888133\n",
      "Above 100000 Acc: 0.8916204070843247\n",
      "Avg Acc: 0.6110142603865689\n",
      "SGDClassifier(alpha=3.5, average=1, class_weight='balanced', epsilon=0.1,\n",
      "       eta0=1.5, fit_intercept=True, l1_ratio=0.85,\n",
      "       learning_rate='optimal', loss='hinge', n_iter=5, n_jobs=-1,\n",
      "       penalty='l2', power_t=3.5, random_state=None, shuffle=True,\n",
      "       verbose=0, warm_start=False)\n"
     ]
    },
    {
     "data": {
      "image/png": "[encoded data removed]",
      "text/plain": [
       "<matplotlib.figure.Figure at 0x10e773ba8>"
      ]
     },
     "metadata": {},
     "output_type": "display_data"
    }
   ],
   "source": [
    "clf4 = GridSearchCV(mod, parameters, scoring=cm_loss, cv=5)\n",
    "clf4.fit(X_train, y_train)\n",
    "run_model(clf4.best_estimator_)\n",
    "print(clf4.best_estimator_)"
   ]
  },
  {
   "cell_type": "code",
   "execution_count": 88,
   "metadata": {
    "collapsed": false
   },
   "outputs": [],
   "source": [
    "#plot_roc(clf)"
   ]
  },
  {
   "cell_type": "code",
   "execution_count": 89,
   "metadata": {
    "collapsed": false
   },
   "outputs": [
    {
     "name": "stderr",
     "output_type": "stream",
     "text": [
      "/Users/qldo18/anaconda/lib/python3.5/site-packages/sklearn/discriminant_analysis.py:688: UserWarning: Variables are collinear\n",
      "  warnings.warn(\"Variables are collinear\")\n",
      "/Users/qldo18/anaconda/lib/python3.5/site-packages/sklearn/discriminant_analysis.py:688: UserWarning: Variables are collinear\n",
      "  warnings.warn(\"Variables are collinear\")\n",
      "/Users/qldo18/anaconda/lib/python3.5/site-packages/sklearn/discriminant_analysis.py:688: UserWarning: Variables are collinear\n",
      "  warnings.warn(\"Variables are collinear\")\n",
      "/Users/qldo18/anaconda/lib/python3.5/site-packages/sklearn/discriminant_analysis.py:688: UserWarning: Variables are collinear\n",
      "  warnings.warn(\"Variables are collinear\")\n",
      "/Users/qldo18/anaconda/lib/python3.5/site-packages/sklearn/discriminant_analysis.py:688: UserWarning: Variables are collinear\n",
      "  warnings.warn(\"Variables are collinear\")\n",
      "/Users/qldo18/anaconda/lib/python3.5/site-packages/sklearn/discriminant_analysis.py:688: UserWarning: Variables are collinear\n",
      "  warnings.warn(\"Variables are collinear\")\n",
      "/Users/qldo18/anaconda/lib/python3.5/site-packages/sklearn/discriminant_analysis.py:688: UserWarning: Variables are collinear\n",
      "  warnings.warn(\"Variables are collinear\")\n",
      "/Users/qldo18/anaconda/lib/python3.5/site-packages/sklearn/discriminant_analysis.py:688: UserWarning: Variables are collinear\n",
      "  warnings.warn(\"Variables are collinear\")\n",
      "/Users/qldo18/anaconda/lib/python3.5/site-packages/sklearn/discriminant_analysis.py:688: UserWarning: Variables are collinear\n",
      "  warnings.warn(\"Variables are collinear\")\n",
      "/Users/qldo18/anaconda/lib/python3.5/site-packages/sklearn/discriminant_analysis.py:688: UserWarning: Variables are collinear\n",
      "  warnings.warn(\"Variables are collinear\")\n",
      "/Users/qldo18/anaconda/lib/python3.5/site-packages/sklearn/discriminant_analysis.py:688: UserWarning: Variables are collinear\n",
      "  warnings.warn(\"Variables are collinear\")\n",
      "/Users/qldo18/anaconda/lib/python3.5/site-packages/sklearn/discriminant_analysis.py:688: UserWarning: Variables are collinear\n",
      "  warnings.warn(\"Variables are collinear\")\n"
     ]
    },
    {
     "name": "stdout",
     "output_type": "stream",
     "text": [
      "[[29486  3446]\n",
      " [ 1066  2717]]\n",
      "Below 100000 Acc: 0.8953601360378963\n",
      "Above 100000 Acc: 0.718213058419244\n",
      "Avg Acc: 0.8067865972285702\n"
     ]
    },
    {
     "data": {
      "image/png": "[encoded data removed]",
      "text/plain": [
       "<matplotlib.figure.Figure at 0x10cc7b860>"
      ]
     },
     "metadata": {},
     "output_type": "display_data"
    }
   ],
   "source": [
    "from sklearn import cross_validation\n",
    "from sklearn.ensemble import VotingClassifier\n",
    "eclf = VotingClassifier(estimators=[('lr', clf), ('lda', clf2), ('qda', clf3)], voting='hard')\n",
    "eclf.fit(X_train, y_train)\n",
    "run_model(eclf)"
   ]
  },
  {
   "cell_type": "code",
   "execution_count": 90,
   "metadata": {
    "collapsed": false
   },
   "outputs": [
    {
     "name": "stderr",
     "output_type": "stream",
     "text": [
      "/Users/qldo18/anaconda/lib/python3.5/site-packages/sklearn/discriminant_analysis.py:688: UserWarning: Variables are collinear\n",
      "  warnings.warn(\"Variables are collinear\")\n",
      "/Users/qldo18/anaconda/lib/python3.5/site-packages/sklearn/discriminant_analysis.py:688: UserWarning: Variables are collinear\n",
      "  warnings.warn(\"Variables are collinear\")\n",
      "/Users/qldo18/anaconda/lib/python3.5/site-packages/sklearn/discriminant_analysis.py:688: UserWarning: Variables are collinear\n",
      "  warnings.warn(\"Variables are collinear\")\n",
      "/Users/qldo18/anaconda/lib/python3.5/site-packages/sklearn/discriminant_analysis.py:688: UserWarning: Variables are collinear\n",
      "  warnings.warn(\"Variables are collinear\")\n",
      "/Users/qldo18/anaconda/lib/python3.5/site-packages/sklearn/discriminant_analysis.py:688: UserWarning: Variables are collinear\n",
      "  warnings.warn(\"Variables are collinear\")\n",
      "/Users/qldo18/anaconda/lib/python3.5/site-packages/sklearn/discriminant_analysis.py:688: UserWarning: Variables are collinear\n",
      "  warnings.warn(\"Variables are collinear\")\n",
      "/Users/qldo18/anaconda/lib/python3.5/site-packages/sklearn/discriminant_analysis.py:688: UserWarning: Variables are collinear\n",
      "  warnings.warn(\"Variables are collinear\")\n",
      "/Users/qldo18/anaconda/lib/python3.5/site-packages/sklearn/discriminant_analysis.py:688: UserWarning: Variables are collinear\n",
      "  warnings.warn(\"Variables are collinear\")\n",
      "/Users/qldo18/anaconda/lib/python3.5/site-packages/sklearn/discriminant_analysis.py:688: UserWarning: Variables are collinear\n",
      "  warnings.warn(\"Variables are collinear\")\n",
      "/Users/qldo18/anaconda/lib/python3.5/site-packages/sklearn/discriminant_analysis.py:688: UserWarning: Variables are collinear\n",
      "  warnings.warn(\"Variables are collinear\")\n",
      "/Users/qldo18/anaconda/lib/python3.5/site-packages/sklearn/discriminant_analysis.py:688: UserWarning: Variables are collinear\n",
      "  warnings.warn(\"Variables are collinear\")\n",
      "/Users/qldo18/anaconda/lib/python3.5/site-packages/sklearn/discriminant_analysis.py:688: UserWarning: Variables are collinear\n",
      "  warnings.warn(\"Variables are collinear\")\n"
     ]
    },
    {
     "name": "stdout",
     "output_type": "stream",
     "text": [
      "[[29895  3037]\n",
      " [ 1187  2596]]\n",
      "Below 100000 Acc: 0.9077796671930037\n",
      "Above 100000 Acc: 0.6862278614855934\n",
      "Avg Acc: 0.7970037643392986\n"
     ]
    },
    {
     "data": {
      "image/png": "[encoded data removed]",
      "text/plain": [
       "<matplotlib.figure.Figure at 0x10fcbfc18>"
      ]
     },
     "metadata": {},
     "output_type": "display_data"
    }
   ],
   "source": [
    "from sklearn import cross_validation\n",
    "from sklearn.ensemble import VotingClassifier\n",
    "eclf = VotingClassifier(estimators=[('lr', clf), ('lda', clf2), ('qda', clf3),('svc',mod)], voting='hard')\n",
    "eclf.fit(X_train, y_train)\n",
    "run_model(eclf)"
   ]
  },
  {
   "cell_type": "code",
   "execution_count": 92,
   "metadata": {
    "collapsed": true
   },
   "outputs": [],
   "source": [
    "from sklearn.ensemble import RandomForestClassifier"
   ]
  },
  {
   "cell_type": "code",
   "execution_count": 95,
   "metadata": {
    "collapsed": false
   },
   "outputs": [
    {
     "name": "stdout",
     "output_type": "stream",
     "text": [
      "[[27720  5212]\n",
      " [  758  3025]]\n",
      "Below 100000 Acc: 0.8417344831774566\n",
      "Above 100000 Acc: 0.7996299233412636\n",
      "Avg Acc: 0.8206822032593601\n",
      "RandomForestClassifier(bootstrap=True, class_weight='balanced',\n",
      "            criterion='gini', max_depth=10, max_features='auto',\n",
      "            max_leaf_nodes=None, min_samples_leaf=1, min_samples_split=2,\n",
      "            min_weight_fraction_leaf=0.0, n_estimators=100, n_jobs=1,\n",
      "            oob_score=False, random_state=None, verbose=0,\n",
      "            warm_start=False)\n"
     ]
    },
    {
     "data": {
      "image/png": "[encoded data removed]",
      "text/plain": [
       "<matplotlib.figure.Figure at 0x10d707390>"
      ]
     },
     "metadata": {},
     "output_type": "display_data"
    }
   ],
   "source": [
    "model = RandomForestClassifier()\n",
    "parameters = {'n_estimators':[100], 'max_depth':[10], 'max_features': ['log2'], 'class_weight':['balanced']}\n",
    "clf5 = GridSearchCV(model, parameters, scoring=cm_loss, cv=5)\n",
    "clf5.fit(X_train, y_train)\n",
    "run_model(clf5.best_estimator_)\n",
    "print(clf5.best_estimator_)"
   ]
  },
  {
   "cell_type": "code",
   "execution_count": 98,
   "metadata": {
    "collapsed": false
   },
   "outputs": [
    {
     "name": "stderr",
     "output_type": "stream",
     "text": [
      "/Users/qldo18/anaconda/lib/python3.5/site-packages/sklearn/discriminant_analysis.py:688: UserWarning: Variables are collinear\n",
      "  warnings.warn(\"Variables are collinear\")\n",
      "/Users/qldo18/anaconda/lib/python3.5/site-packages/sklearn/discriminant_analysis.py:688: UserWarning: Variables are collinear\n",
      "  warnings.warn(\"Variables are collinear\")\n",
      "/Users/qldo18/anaconda/lib/python3.5/site-packages/sklearn/discriminant_analysis.py:688: UserWarning: Variables are collinear\n",
      "  warnings.warn(\"Variables are collinear\")\n",
      "/Users/qldo18/anaconda/lib/python3.5/site-packages/sklearn/discriminant_analysis.py:688: UserWarning: Variables are collinear\n",
      "  warnings.warn(\"Variables are collinear\")\n",
      "/Users/qldo18/anaconda/lib/python3.5/site-packages/sklearn/discriminant_analysis.py:688: UserWarning: Variables are collinear\n",
      "  warnings.warn(\"Variables are collinear\")\n",
      "/Users/qldo18/anaconda/lib/python3.5/site-packages/sklearn/discriminant_analysis.py:688: UserWarning: Variables are collinear\n",
      "  warnings.warn(\"Variables are collinear\")\n",
      "/Users/qldo18/anaconda/lib/python3.5/site-packages/sklearn/discriminant_analysis.py:688: UserWarning: Variables are collinear\n",
      "  warnings.warn(\"Variables are collinear\")\n",
      "/Users/qldo18/anaconda/lib/python3.5/site-packages/sklearn/discriminant_analysis.py:688: UserWarning: Variables are collinear\n",
      "  warnings.warn(\"Variables are collinear\")\n",
      "/Users/qldo18/anaconda/lib/python3.5/site-packages/sklearn/discriminant_analysis.py:688: UserWarning: Variables are collinear\n",
      "  warnings.warn(\"Variables are collinear\")\n",
      "/Users/qldo18/anaconda/lib/python3.5/site-packages/sklearn/discriminant_analysis.py:688: UserWarning: Variables are collinear\n",
      "  warnings.warn(\"Variables are collinear\")\n",
      "/Users/qldo18/anaconda/lib/python3.5/site-packages/sklearn/discriminant_analysis.py:688: UserWarning: Variables are collinear\n",
      "  warnings.warn(\"Variables are collinear\")\n",
      "/Users/qldo18/anaconda/lib/python3.5/site-packages/sklearn/discriminant_analysis.py:688: UserWarning: Variables are collinear\n",
      "  warnings.warn(\"Variables are collinear\")\n"
     ]
    },
    {
     "name": "stdout",
     "output_type": "stream",
     "text": [
      "[[28201  4731]\n",
      " [  782  3001]]\n",
      "Below 100000 Acc: 0.8563403376654926\n",
      "Above 100000 Acc: 0.7932857520486386\n",
      "Avg Acc: 0.8248130448570656\n"
     ]
    },
    {
     "data": {
      "image/png": "[encoded data removed]",
      "text/plain": [
       "<matplotlib.figure.Figure at 0x10d723198>"
      ]
     },
     "metadata": {},
     "output_type": "display_data"
    }
   ],
   "source": [
    "from sklearn import cross_validation\n",
    "from sklearn.ensemble import VotingClassifier\n",
    "eclf = VotingClassifier(estimators=[('lr', clf), ('lda', clf2), ('qda', clf3),('svc',mod),('tree', clf5)], voting='hard')\n",
    "eclf.fit(X_train, y_train)\n",
    "run_model(eclf)"
   ]
  },
  {
   "cell_type": "code",
   "execution_count": null,
   "metadata": {
    "collapsed": true
   },
   "outputs": [],
   "source": []
  }
 ],
 "metadata": {
  "kernelspec": {
   "display_name": "Python 3",
   "language": "python",
   "name": "python3"
  },
  "language_info": {
   "codemirror_mode": {
    "name": "ipython",
    "version": 3
   },
   "file_extension": ".py",
   "mimetype": "text/x-python",
   "name": "python",
   "nbconvert_exporter": "python",
   "pygments_lexer": "ipython3",
   "version": "3.5.1"
  }
 },
 "nbformat": 4,
 "nbformat_minor": 0
}
