{
 "cells": [
  {
   "cell_type": "code",
   "execution_count": 5,
   "metadata": {
    "collapsed": true
   },
   "outputs": [],
   "source": [
    "# Import here\n",
    "import pandas as pd\n",
    "import numpy as np\n",
    "import seaborn as sns\n",
    "sns.set(style='ticks', palette='Set2')\n",
    "from mpl_toolkits.mplot3d import axes3d\n",
    "import matplotlib.pyplot as plt\n",
    "def warn(*args, **kwargs):\n",
    "    pass\n",
    "import warnings\n",
    "warnings.warn = warn\n",
    "from scipy.stats import multivariate_normal\n",
    "%matplotlib inline"
   ]
  },
  {
   "cell_type": "code",
   "execution_count": 6,
   "metadata": {
    "collapsed": false
   },
   "outputs": [
    {
     "data": {
      "text/plain": [
       "(371403, 284)"
      ]
     },
     "execution_count": 6,
     "metadata": {},
     "output_type": "execute_result"
    }
   ],
   "source": [
    "# Pull data here\n",
    "popData = pd.read_csv(\"califPopData.csv\")\n",
    "popData.shape"
   ]
  },
  {
   "cell_type": "code",
   "execution_count": 7,
   "metadata": {
    "collapsed": false
   },
   "outputs": [
    {
     "data": {
      "text/plain": [
       "(153589, 232)"
      ]
     },
     "execution_count": 7,
     "metadata": {},
     "output_type": "execute_result"
    }
   ],
   "source": [
    "houseData = pd.read_csv(\"califHousingData.csv\")\n",
    "houseData.shape"
   ]
  },
  {
   "cell_type": "code",
   "execution_count": 8,
   "metadata": {
    "collapsed": false
   },
   "outputs": [
    {
     "data": {
      "text/html": [
       "<div>\n",
       "<table border=\"1\" class=\"dataframe\">\n",
       "  <thead>\n",
       "    <tr style=\"text-align: right;\">\n",
       "      <th></th>\n",
       "      <th>Unnamed: 0_x</th>\n",
       "      <th>RT_x</th>\n",
       "      <th>SERIALNO</th>\n",
       "      <th>SPORDER</th>\n",
       "      <th>PUMA_x</th>\n",
       "      <th>ST_x</th>\n",
       "      <th>ADJINC_x</th>\n",
       "      <th>PWGTP</th>\n",
       "      <th>AGEP</th>\n",
       "      <th>CIT</th>\n",
       "      <th>...</th>\n",
       "      <th>wgtp71</th>\n",
       "      <th>wgtp72</th>\n",
       "      <th>wgtp73</th>\n",
       "      <th>wgtp74</th>\n",
       "      <th>wgtp75</th>\n",
       "      <th>wgtp76</th>\n",
       "      <th>wgtp77</th>\n",
       "      <th>wgtp78</th>\n",
       "      <th>wgtp79</th>\n",
       "      <th>wgtp80</th>\n",
       "    </tr>\n",
       "  </thead>\n",
       "  <tbody>\n",
       "    <tr>\n",
       "      <th>0</th>\n",
       "      <td>150707</td>\n",
       "      <td>P</td>\n",
       "      <td>11</td>\n",
       "      <td>1</td>\n",
       "      <td>7301</td>\n",
       "      <td>6</td>\n",
       "      <td>1007549</td>\n",
       "      <td>40</td>\n",
       "      <td>21</td>\n",
       "      <td>1</td>\n",
       "      <td>...</td>\n",
       "      <td>0</td>\n",
       "      <td>0</td>\n",
       "      <td>0</td>\n",
       "      <td>0</td>\n",
       "      <td>0</td>\n",
       "      <td>0</td>\n",
       "      <td>0</td>\n",
       "      <td>0</td>\n",
       "      <td>0</td>\n",
       "      <td>0</td>\n",
       "    </tr>\n",
       "    <tr>\n",
       "      <th>1</th>\n",
       "      <td>150708</td>\n",
       "      <td>P</td>\n",
       "      <td>15</td>\n",
       "      <td>1</td>\n",
       "      <td>3702</td>\n",
       "      <td>6</td>\n",
       "      <td>1007549</td>\n",
       "      <td>38</td>\n",
       "      <td>63</td>\n",
       "      <td>1</td>\n",
       "      <td>...</td>\n",
       "      <td>13</td>\n",
       "      <td>62</td>\n",
       "      <td>38</td>\n",
       "      <td>72</td>\n",
       "      <td>68</td>\n",
       "      <td>40</td>\n",
       "      <td>40</td>\n",
       "      <td>42</td>\n",
       "      <td>40</td>\n",
       "      <td>12</td>\n",
       "    </tr>\n",
       "    <tr>\n",
       "      <th>2</th>\n",
       "      <td>150709</td>\n",
       "      <td>P</td>\n",
       "      <td>15</td>\n",
       "      <td>2</td>\n",
       "      <td>3702</td>\n",
       "      <td>6</td>\n",
       "      <td>1007549</td>\n",
       "      <td>38</td>\n",
       "      <td>61</td>\n",
       "      <td>1</td>\n",
       "      <td>...</td>\n",
       "      <td>13</td>\n",
       "      <td>62</td>\n",
       "      <td>38</td>\n",
       "      <td>72</td>\n",
       "      <td>68</td>\n",
       "      <td>40</td>\n",
       "      <td>40</td>\n",
       "      <td>42</td>\n",
       "      <td>40</td>\n",
       "      <td>12</td>\n",
       "    </tr>\n",
       "    <tr>\n",
       "      <th>3</th>\n",
       "      <td>150710</td>\n",
       "      <td>P</td>\n",
       "      <td>15</td>\n",
       "      <td>3</td>\n",
       "      <td>3702</td>\n",
       "      <td>6</td>\n",
       "      <td>1007549</td>\n",
       "      <td>43</td>\n",
       "      <td>34</td>\n",
       "      <td>1</td>\n",
       "      <td>...</td>\n",
       "      <td>13</td>\n",
       "      <td>62</td>\n",
       "      <td>38</td>\n",
       "      <td>72</td>\n",
       "      <td>68</td>\n",
       "      <td>40</td>\n",
       "      <td>40</td>\n",
       "      <td>42</td>\n",
       "      <td>40</td>\n",
       "      <td>12</td>\n",
       "    </tr>\n",
       "    <tr>\n",
       "      <th>4</th>\n",
       "      <td>150711</td>\n",
       "      <td>P</td>\n",
       "      <td>16</td>\n",
       "      <td>1</td>\n",
       "      <td>8503</td>\n",
       "      <td>6</td>\n",
       "      <td>1007549</td>\n",
       "      <td>79</td>\n",
       "      <td>45</td>\n",
       "      <td>4</td>\n",
       "      <td>...</td>\n",
       "      <td>23</td>\n",
       "      <td>127</td>\n",
       "      <td>132</td>\n",
       "      <td>23</td>\n",
       "      <td>87</td>\n",
       "      <td>123</td>\n",
       "      <td>21</td>\n",
       "      <td>23</td>\n",
       "      <td>72</td>\n",
       "      <td>85</td>\n",
       "    </tr>\n",
       "  </tbody>\n",
       "</table>\n",
       "<p>5 rows × 515 columns</p>\n",
       "</div>"
      ],
      "text/plain": [
       "   Unnamed: 0_x RT_x  SERIALNO  SPORDER  PUMA_x  ST_x  ADJINC_x  PWGTP  AGEP  \\\n",
       "0        150707    P        11        1    7301     6   1007549     40    21   \n",
       "1        150708    P        15        1    3702     6   1007549     38    63   \n",
       "2        150709    P        15        2    3702     6   1007549     38    61   \n",
       "3        150710    P        15        3    3702     6   1007549     43    34   \n",
       "4        150711    P        16        1    8503     6   1007549     79    45   \n",
       "\n",
       "   CIT   ...    wgtp71  wgtp72  wgtp73  wgtp74  wgtp75  wgtp76  wgtp77  \\\n",
       "0    1   ...         0       0       0       0       0       0       0   \n",
       "1    1   ...        13      62      38      72      68      40      40   \n",
       "2    1   ...        13      62      38      72      68      40      40   \n",
       "3    1   ...        13      62      38      72      68      40      40   \n",
       "4    4   ...        23     127     132      23      87     123      21   \n",
       "\n",
       "   wgtp78  wgtp79  wgtp80  \n",
       "0       0       0       0  \n",
       "1      42      40      12  \n",
       "2      42      40      12  \n",
       "3      42      40      12  \n",
       "4      23      72      85  \n",
       "\n",
       "[5 rows x 515 columns]"
      ]
     },
     "execution_count": 8,
     "metadata": {},
     "output_type": "execute_result"
    }
   ],
   "source": [
    "x86 = popData.merge(houseData, left_on = 'SERIALNO', right_on = 'SERIALNO', how = 'inner')\n",
    "x86.head()"
   ]
  },
  {
   "cell_type": "code",
   "execution_count": 9,
   "metadata": {
    "collapsed": false
   },
   "outputs": [
    {
     "name": "stdout",
     "output_type": "stream",
     "text": [
      "250954\n"
     ]
    },
    {
     "data": {
      "image/png": "[encoded data removed]",
      "text/plain": [
       "<matplotlib.figure.Figure at 0x10db6d940>"
      ]
     },
     "metadata": {},
     "output_type": "display_data"
    }
   ],
   "source": [
    "# Adjust incomes without weights\n",
    "newIncomes = x86['PINCP']\n",
    "newIncomes = newIncomes.dropna()\n",
    "newIncomes = newIncomes [newIncomes > 0] # ignoring incomes of 0\n",
    "newIncomes2 = np.log(newIncomes.values)\n",
    "print(newIncomes2.size)\n",
    "\n",
    "fig = plt.figure()\n",
    "temp = fig.add_subplot(111) \n",
    "temp.set_title('Frequency of Income Brackets in Texas')\n",
    "temp.set_xlim(0, 20)\n",
    "\n",
    "sns.distplot(newIncomes2, kde=False, bins=50, ax = temp, axlabel = \"Log of Income in Dollars\")\n",
    "sns.despine()"
   ]
  },
  {
   "cell_type": "code",
   "execution_count": 10,
   "metadata": {
    "collapsed": false
   },
   "outputs": [
    {
     "data": {
      "text/html": [
       "<div>\n",
       "<table border=\"1\" class=\"dataframe\">\n",
       "  <thead>\n",
       "    <tr style=\"text-align: right;\">\n",
       "      <th></th>\n",
       "      <th>Unnamed: 0_x</th>\n",
       "      <th>RT_x</th>\n",
       "      <th>SERIALNO</th>\n",
       "      <th>SPORDER</th>\n",
       "      <th>PUMA_x</th>\n",
       "      <th>ST_x</th>\n",
       "      <th>ADJINC_x</th>\n",
       "      <th>PWGTP</th>\n",
       "      <th>AGEP</th>\n",
       "      <th>CIT</th>\n",
       "      <th>...</th>\n",
       "      <th>wgtp71</th>\n",
       "      <th>wgtp72</th>\n",
       "      <th>wgtp73</th>\n",
       "      <th>wgtp74</th>\n",
       "      <th>wgtp75</th>\n",
       "      <th>wgtp76</th>\n",
       "      <th>wgtp77</th>\n",
       "      <th>wgtp78</th>\n",
       "      <th>wgtp79</th>\n",
       "      <th>wgtp80</th>\n",
       "    </tr>\n",
       "  </thead>\n",
       "  <tbody>\n",
       "    <tr>\n",
       "      <th>0</th>\n",
       "      <td>150707</td>\n",
       "      <td>P</td>\n",
       "      <td>11</td>\n",
       "      <td>1</td>\n",
       "      <td>7301</td>\n",
       "      <td>6</td>\n",
       "      <td>1007549</td>\n",
       "      <td>40</td>\n",
       "      <td>21</td>\n",
       "      <td>1</td>\n",
       "      <td>...</td>\n",
       "      <td>0</td>\n",
       "      <td>0</td>\n",
       "      <td>0</td>\n",
       "      <td>0</td>\n",
       "      <td>0</td>\n",
       "      <td>0</td>\n",
       "      <td>0</td>\n",
       "      <td>0</td>\n",
       "      <td>0</td>\n",
       "      <td>0</td>\n",
       "    </tr>\n",
       "    <tr>\n",
       "      <th>5</th>\n",
       "      <td>150712</td>\n",
       "      <td>P</td>\n",
       "      <td>16</td>\n",
       "      <td>2</td>\n",
       "      <td>8503</td>\n",
       "      <td>6</td>\n",
       "      <td>1007549</td>\n",
       "      <td>97</td>\n",
       "      <td>21</td>\n",
       "      <td>1</td>\n",
       "      <td>...</td>\n",
       "      <td>23</td>\n",
       "      <td>127</td>\n",
       "      <td>132</td>\n",
       "      <td>23</td>\n",
       "      <td>87</td>\n",
       "      <td>123</td>\n",
       "      <td>21</td>\n",
       "      <td>23</td>\n",
       "      <td>72</td>\n",
       "      <td>85</td>\n",
       "    </tr>\n",
       "    <tr>\n",
       "      <th>6</th>\n",
       "      <td>150713</td>\n",
       "      <td>P</td>\n",
       "      <td>22</td>\n",
       "      <td>1</td>\n",
       "      <td>300</td>\n",
       "      <td>6</td>\n",
       "      <td>1007549</td>\n",
       "      <td>233</td>\n",
       "      <td>22</td>\n",
       "      <td>1</td>\n",
       "      <td>...</td>\n",
       "      <td>175</td>\n",
       "      <td>220</td>\n",
       "      <td>476</td>\n",
       "      <td>380</td>\n",
       "      <td>240</td>\n",
       "      <td>188</td>\n",
       "      <td>145</td>\n",
       "      <td>284</td>\n",
       "      <td>234</td>\n",
       "      <td>221</td>\n",
       "    </tr>\n",
       "    <tr>\n",
       "      <th>7</th>\n",
       "      <td>150714</td>\n",
       "      <td>P</td>\n",
       "      <td>22</td>\n",
       "      <td>2</td>\n",
       "      <td>300</td>\n",
       "      <td>6</td>\n",
       "      <td>1007549</td>\n",
       "      <td>123</td>\n",
       "      <td>22</td>\n",
       "      <td>1</td>\n",
       "      <td>...</td>\n",
       "      <td>175</td>\n",
       "      <td>220</td>\n",
       "      <td>476</td>\n",
       "      <td>380</td>\n",
       "      <td>240</td>\n",
       "      <td>188</td>\n",
       "      <td>145</td>\n",
       "      <td>284</td>\n",
       "      <td>234</td>\n",
       "      <td>221</td>\n",
       "    </tr>\n",
       "    <tr>\n",
       "      <th>9</th>\n",
       "      <td>150716</td>\n",
       "      <td>P</td>\n",
       "      <td>32</td>\n",
       "      <td>2</td>\n",
       "      <td>2901</td>\n",
       "      <td>6</td>\n",
       "      <td>1007549</td>\n",
       "      <td>21</td>\n",
       "      <td>54</td>\n",
       "      <td>4</td>\n",
       "      <td>...</td>\n",
       "      <td>16</td>\n",
       "      <td>35</td>\n",
       "      <td>21</td>\n",
       "      <td>33</td>\n",
       "      <td>32</td>\n",
       "      <td>6</td>\n",
       "      <td>20</td>\n",
       "      <td>7</td>\n",
       "      <td>16</td>\n",
       "      <td>21</td>\n",
       "    </tr>\n",
       "  </tbody>\n",
       "</table>\n",
       "<p>5 rows × 515 columns</p>\n",
       "</div>"
      ],
      "text/plain": [
       "   Unnamed: 0_x RT_x  SERIALNO  SPORDER  PUMA_x  ST_x  ADJINC_x  PWGTP  AGEP  \\\n",
       "0        150707    P        11        1    7301     6   1007549     40    21   \n",
       "5        150712    P        16        2    8503     6   1007549     97    21   \n",
       "6        150713    P        22        1     300     6   1007549    233    22   \n",
       "7        150714    P        22        2     300     6   1007549    123    22   \n",
       "9        150716    P        32        2    2901     6   1007549     21    54   \n",
       "\n",
       "   CIT   ...    wgtp71  wgtp72  wgtp73  wgtp74  wgtp75  wgtp76  wgtp77  \\\n",
       "0    1   ...         0       0       0       0       0       0       0   \n",
       "5    1   ...        23     127     132      23      87     123      21   \n",
       "6    1   ...       175     220     476     380     240     188     145   \n",
       "7    1   ...       175     220     476     380     240     188     145   \n",
       "9    4   ...        16      35      21      33      32       6      20   \n",
       "\n",
       "   wgtp78  wgtp79  wgtp80  \n",
       "0       0       0       0  \n",
       "5      23      72      85  \n",
       "6     284     234     221  \n",
       "7     284     234     221  \n",
       "9       7      16      21  \n",
       "\n",
       "[5 rows x 515 columns]"
      ]
     },
     "execution_count": 10,
     "metadata": {},
     "output_type": "execute_result"
    }
   ],
   "source": [
    "data = x86.copy()\n",
    "data = data[data['ESR'].isin([1, 4])]\n",
    "data.head()"
   ]
  },
  {
   "cell_type": "code",
   "execution_count": 11,
   "metadata": {
    "collapsed": false
   },
   "outputs": [
    {
     "data": {
      "text/html": [
       "<div>\n",
       "<table border=\"1\" class=\"dataframe\">\n",
       "  <thead>\n",
       "    <tr style=\"text-align: right;\">\n",
       "      <th></th>\n",
       "      <th>PINCP</th>\n",
       "      <th>AGEP</th>\n",
       "      <th>MAR</th>\n",
       "      <th>SCHL</th>\n",
       "      <th>SEX</th>\n",
       "      <th>FOD1P</th>\n",
       "      <th>INDP</th>\n",
       "      <th>NATIVITY</th>\n",
       "      <th>OCCP</th>\n",
       "      <th>RAC1P</th>\n",
       "      <th>RMSP</th>\n",
       "      <th>SMOCP</th>\n",
       "      <th>RNTP</th>\n",
       "      <th>VALP</th>\n",
       "    </tr>\n",
       "  </thead>\n",
       "  <tbody>\n",
       "    <tr>\n",
       "      <th>0</th>\n",
       "      <td>31004</td>\n",
       "      <td>21</td>\n",
       "      <td>3</td>\n",
       "      <td>16</td>\n",
       "      <td>2</td>\n",
       "      <td>NaN</td>\n",
       "      <td>9770</td>\n",
       "      <td>1</td>\n",
       "      <td>9820</td>\n",
       "      <td>1</td>\n",
       "      <td>NaN</td>\n",
       "      <td>NaN</td>\n",
       "      <td>NaN</td>\n",
       "      <td>NaN</td>\n",
       "    </tr>\n",
       "    <tr>\n",
       "      <th>5</th>\n",
       "      <td>13000</td>\n",
       "      <td>21</td>\n",
       "      <td>5</td>\n",
       "      <td>19</td>\n",
       "      <td>2</td>\n",
       "      <td>NaN</td>\n",
       "      <td>8090</td>\n",
       "      <td>1</td>\n",
       "      <td>5940</td>\n",
       "      <td>2</td>\n",
       "      <td>7</td>\n",
       "      <td>3106</td>\n",
       "      <td>NaN</td>\n",
       "      <td>370000</td>\n",
       "    </tr>\n",
       "    <tr>\n",
       "      <th>6</th>\n",
       "      <td>13000</td>\n",
       "      <td>22</td>\n",
       "      <td>5</td>\n",
       "      <td>16</td>\n",
       "      <td>2</td>\n",
       "      <td>NaN</td>\n",
       "      <td>8780</td>\n",
       "      <td>1</td>\n",
       "      <td>9610</td>\n",
       "      <td>1</td>\n",
       "      <td>3</td>\n",
       "      <td>NaN</td>\n",
       "      <td>680</td>\n",
       "      <td>NaN</td>\n",
       "    </tr>\n",
       "    <tr>\n",
       "      <th>7</th>\n",
       "      <td>37000</td>\n",
       "      <td>22</td>\n",
       "      <td>5</td>\n",
       "      <td>16</td>\n",
       "      <td>1</td>\n",
       "      <td>NaN</td>\n",
       "      <td>1370</td>\n",
       "      <td>1</td>\n",
       "      <td>4250</td>\n",
       "      <td>1</td>\n",
       "      <td>3</td>\n",
       "      <td>NaN</td>\n",
       "      <td>680</td>\n",
       "      <td>NaN</td>\n",
       "    </tr>\n",
       "    <tr>\n",
       "      <th>9</th>\n",
       "      <td>200000</td>\n",
       "      <td>54</td>\n",
       "      <td>1</td>\n",
       "      <td>21</td>\n",
       "      <td>1</td>\n",
       "      <td>2599</td>\n",
       "      <td>8560</td>\n",
       "      <td>2</td>\n",
       "      <td>500</td>\n",
       "      <td>1</td>\n",
       "      <td>10</td>\n",
       "      <td>1597</td>\n",
       "      <td>NaN</td>\n",
       "      <td>700000</td>\n",
       "    </tr>\n",
       "  </tbody>\n",
       "</table>\n",
       "</div>"
      ],
      "text/plain": [
       "    PINCP  AGEP  MAR  SCHL  SEX  FOD1P  INDP  NATIVITY  OCCP  RAC1P  RMSP  \\\n",
       "0   31004    21    3    16    2    NaN  9770         1  9820      1   NaN   \n",
       "5   13000    21    5    19    2    NaN  8090         1  5940      2     7   \n",
       "6   13000    22    5    16    2    NaN  8780         1  9610      1     3   \n",
       "7   37000    22    5    16    1    NaN  1370         1  4250      1     3   \n",
       "9  200000    54    1    21    1   2599  8560         2   500      1    10   \n",
       "\n",
       "   SMOCP  RNTP    VALP  \n",
       "0    NaN   NaN     NaN  \n",
       "5   3106   NaN  370000  \n",
       "6    NaN   680     NaN  \n",
       "7    NaN   680     NaN  \n",
       "9   1597   NaN  700000  "
      ]
     },
     "execution_count": 11,
     "metadata": {},
     "output_type": "execute_result"
    }
   ],
   "source": [
    "#rntp, valp, rmsp, taxp(?), smocp, bdsp(not as good), smp(okay)\n",
    "features = ['PINCP', 'AGEP', 'MAR', 'SCHL', 'SEX', 'FOD1P', 'INDP', 'NATIVITY', 'OCCP', 'RAC1P', 'RMSP', 'SMOCP', 'RNTP', 'VALP']\n",
    "newData = data.copy()\n",
    "newData = data[features]\n",
    "newData.head()"
   ]
  },
  {
   "cell_type": "code",
   "execution_count": 12,
   "metadata": {
    "collapsed": false
   },
   "outputs": [
    {
     "name": "stdout",
     "output_type": "stream",
     "text": [
      "(23632, 14)\n"
     ]
    }
   ],
   "source": [
    "totalRich = newData[newData['PINCP']>=100000]\n",
    "print(totalRich.shape)"
   ]
  },
  {
   "cell_type": "code",
   "execution_count": 13,
   "metadata": {
    "collapsed": false
   },
   "outputs": [
    {
     "name": "stdout",
     "output_type": "stream",
     "text": [
      "2141.15602116\n",
      "5.73123973911\n",
      "1333.5657979\n",
      "504449.247604\n"
     ]
    }
   ],
   "source": [
    "smocpNP = newData['SMOCP'].as_matrix()\n",
    "smocpAverage = np.nanmean(smocpNP)\n",
    "print(smocpAverage)\n",
    "\n",
    "rmspNP = newData['RMSP'].as_matrix()\n",
    "rmspAverage = np.nanmean(rmspNP)\n",
    "print(rmspAverage)\n",
    "\n",
    "rntpNP = newData['RNTP'].as_matrix()\n",
    "rntpAverage = np.nanmean(rntpNP)\n",
    "print(rntpAverage)\n",
    "\n",
    "valpNP = newData['VALP'].as_matrix()\n",
    "valpAverage = np.nanmean(valpNP)\n",
    "print(valpAverage)"
   ]
  },
  {
   "cell_type": "code",
   "execution_count": 14,
   "metadata": {
    "collapsed": false
   },
   "outputs": [
    {
     "data": {
      "text/html": [
       "<div>\n",
       "<table border=\"1\" class=\"dataframe\">\n",
       "  <thead>\n",
       "    <tr style=\"text-align: right;\">\n",
       "      <th></th>\n",
       "      <th>PINCP</th>\n",
       "      <th>AGEP</th>\n",
       "      <th>MAR</th>\n",
       "      <th>SCHL</th>\n",
       "      <th>SEX</th>\n",
       "      <th>FOD1P</th>\n",
       "      <th>INDP</th>\n",
       "      <th>NATIVITY</th>\n",
       "      <th>OCCP</th>\n",
       "      <th>RAC1P</th>\n",
       "      <th>RMSP</th>\n",
       "      <th>SMOCP</th>\n",
       "      <th>RNTP</th>\n",
       "      <th>VALP</th>\n",
       "    </tr>\n",
       "  </thead>\n",
       "  <tbody>\n",
       "    <tr>\n",
       "      <th>0</th>\n",
       "      <td>31004</td>\n",
       "      <td>21</td>\n",
       "      <td>3</td>\n",
       "      <td>16</td>\n",
       "      <td>2</td>\n",
       "      <td>0</td>\n",
       "      <td>9770</td>\n",
       "      <td>1</td>\n",
       "      <td>9820</td>\n",
       "      <td>1</td>\n",
       "      <td>5.73124</td>\n",
       "      <td>2141.156021</td>\n",
       "      <td>1333.565798</td>\n",
       "      <td>0</td>\n",
       "    </tr>\n",
       "    <tr>\n",
       "      <th>5</th>\n",
       "      <td>13000</td>\n",
       "      <td>21</td>\n",
       "      <td>5</td>\n",
       "      <td>19</td>\n",
       "      <td>2</td>\n",
       "      <td>0</td>\n",
       "      <td>8090</td>\n",
       "      <td>1</td>\n",
       "      <td>5940</td>\n",
       "      <td>2</td>\n",
       "      <td>7.00000</td>\n",
       "      <td>3106.000000</td>\n",
       "      <td>1333.565798</td>\n",
       "      <td>370000</td>\n",
       "    </tr>\n",
       "    <tr>\n",
       "      <th>6</th>\n",
       "      <td>13000</td>\n",
       "      <td>22</td>\n",
       "      <td>5</td>\n",
       "      <td>16</td>\n",
       "      <td>2</td>\n",
       "      <td>0</td>\n",
       "      <td>8780</td>\n",
       "      <td>1</td>\n",
       "      <td>9610</td>\n",
       "      <td>1</td>\n",
       "      <td>3.00000</td>\n",
       "      <td>2141.156021</td>\n",
       "      <td>680.000000</td>\n",
       "      <td>0</td>\n",
       "    </tr>\n",
       "    <tr>\n",
       "      <th>7</th>\n",
       "      <td>37000</td>\n",
       "      <td>22</td>\n",
       "      <td>5</td>\n",
       "      <td>16</td>\n",
       "      <td>1</td>\n",
       "      <td>0</td>\n",
       "      <td>1370</td>\n",
       "      <td>1</td>\n",
       "      <td>4250</td>\n",
       "      <td>1</td>\n",
       "      <td>3.00000</td>\n",
       "      <td>2141.156021</td>\n",
       "      <td>680.000000</td>\n",
       "      <td>0</td>\n",
       "    </tr>\n",
       "    <tr>\n",
       "      <th>9</th>\n",
       "      <td>200000</td>\n",
       "      <td>54</td>\n",
       "      <td>1</td>\n",
       "      <td>21</td>\n",
       "      <td>1</td>\n",
       "      <td>2599</td>\n",
       "      <td>8560</td>\n",
       "      <td>2</td>\n",
       "      <td>500</td>\n",
       "      <td>1</td>\n",
       "      <td>10.00000</td>\n",
       "      <td>1597.000000</td>\n",
       "      <td>1333.565798</td>\n",
       "      <td>700000</td>\n",
       "    </tr>\n",
       "  </tbody>\n",
       "</table>\n",
       "</div>"
      ],
      "text/plain": [
       "    PINCP  AGEP  MAR  SCHL  SEX  FOD1P  INDP  NATIVITY  OCCP  RAC1P      RMSP  \\\n",
       "0   31004    21    3    16    2      0  9770         1  9820      1   5.73124   \n",
       "5   13000    21    5    19    2      0  8090         1  5940      2   7.00000   \n",
       "6   13000    22    5    16    2      0  8780         1  9610      1   3.00000   \n",
       "7   37000    22    5    16    1      0  1370         1  4250      1   3.00000   \n",
       "9  200000    54    1    21    1   2599  8560         2   500      1  10.00000   \n",
       "\n",
       "         SMOCP         RNTP    VALP  \n",
       "0  2141.156021  1333.565798       0  \n",
       "5  3106.000000  1333.565798  370000  \n",
       "6  2141.156021   680.000000       0  \n",
       "7  2141.156021   680.000000       0  \n",
       "9  1597.000000  1333.565798  700000  "
      ]
     },
     "execution_count": 14,
     "metadata": {},
     "output_type": "execute_result"
    }
   ],
   "source": [
    "newData['FOD1P'].fillna(0, inplace=True)\n",
    "newData['INDP'].fillna(0, inplace=True)\n",
    "newData['OCCP'].fillna(0, inplace=True)\n",
    "newData['SMOCP'].fillna(smocpAverage, inplace=True)\n",
    "newData['RMSP'].fillna(rmspAverage, inplace=True)\n",
    "newData['RNTP'].fillna(rntpAverage, inplace=True)\n",
    "newData['VALP'].fillna(0, inplace=True)\n",
    "import warnings\n",
    "warnings.filterwarnings(\"ignore\", category=DeprecationWarning)\n",
    "newData.head()"
   ]
  },
  {
   "cell_type": "code",
   "execution_count": 15,
   "metadata": {
    "collapsed": false
   },
   "outputs": [
    {
     "data": {
      "text/html": [
       "<div>\n",
       "<table border=\"1\" class=\"dataframe\">\n",
       "  <thead>\n",
       "    <tr style=\"text-align: right;\">\n",
       "      <th></th>\n",
       "      <th>PINCP</th>\n",
       "      <th>AGEP</th>\n",
       "      <th>MAR</th>\n",
       "      <th>SCHL</th>\n",
       "      <th>SEX</th>\n",
       "      <th>FOD1P</th>\n",
       "      <th>INDP</th>\n",
       "      <th>NATIVITY</th>\n",
       "      <th>OCCP</th>\n",
       "      <th>RAC1P</th>\n",
       "      <th>RMSP</th>\n",
       "      <th>SMOCP</th>\n",
       "      <th>RNTP</th>\n",
       "      <th>VALP</th>\n",
       "      <th>MONTHLYCOSTS</th>\n",
       "    </tr>\n",
       "  </thead>\n",
       "  <tbody>\n",
       "    <tr>\n",
       "      <th>0</th>\n",
       "      <td>31004</td>\n",
       "      <td>21</td>\n",
       "      <td>3</td>\n",
       "      <td>16</td>\n",
       "      <td>2</td>\n",
       "      <td>0</td>\n",
       "      <td>9770</td>\n",
       "      <td>1</td>\n",
       "      <td>9820</td>\n",
       "      <td>1</td>\n",
       "      <td>5.73124</td>\n",
       "      <td>2141.156021</td>\n",
       "      <td>1333.565798</td>\n",
       "      <td>0</td>\n",
       "      <td>3474.721819</td>\n",
       "    </tr>\n",
       "    <tr>\n",
       "      <th>5</th>\n",
       "      <td>13000</td>\n",
       "      <td>21</td>\n",
       "      <td>5</td>\n",
       "      <td>19</td>\n",
       "      <td>2</td>\n",
       "      <td>0</td>\n",
       "      <td>8090</td>\n",
       "      <td>1</td>\n",
       "      <td>5940</td>\n",
       "      <td>2</td>\n",
       "      <td>7.00000</td>\n",
       "      <td>3106.000000</td>\n",
       "      <td>1333.565798</td>\n",
       "      <td>370000</td>\n",
       "      <td>4439.565798</td>\n",
       "    </tr>\n",
       "    <tr>\n",
       "      <th>6</th>\n",
       "      <td>13000</td>\n",
       "      <td>22</td>\n",
       "      <td>5</td>\n",
       "      <td>16</td>\n",
       "      <td>2</td>\n",
       "      <td>0</td>\n",
       "      <td>8780</td>\n",
       "      <td>1</td>\n",
       "      <td>9610</td>\n",
       "      <td>1</td>\n",
       "      <td>3.00000</td>\n",
       "      <td>2141.156021</td>\n",
       "      <td>680.000000</td>\n",
       "      <td>0</td>\n",
       "      <td>2821.156021</td>\n",
       "    </tr>\n",
       "    <tr>\n",
       "      <th>7</th>\n",
       "      <td>37000</td>\n",
       "      <td>22</td>\n",
       "      <td>5</td>\n",
       "      <td>16</td>\n",
       "      <td>1</td>\n",
       "      <td>0</td>\n",
       "      <td>1370</td>\n",
       "      <td>1</td>\n",
       "      <td>4250</td>\n",
       "      <td>1</td>\n",
       "      <td>3.00000</td>\n",
       "      <td>2141.156021</td>\n",
       "      <td>680.000000</td>\n",
       "      <td>0</td>\n",
       "      <td>2821.156021</td>\n",
       "    </tr>\n",
       "    <tr>\n",
       "      <th>9</th>\n",
       "      <td>200000</td>\n",
       "      <td>54</td>\n",
       "      <td>1</td>\n",
       "      <td>21</td>\n",
       "      <td>1</td>\n",
       "      <td>2599</td>\n",
       "      <td>8560</td>\n",
       "      <td>2</td>\n",
       "      <td>500</td>\n",
       "      <td>1</td>\n",
       "      <td>10.00000</td>\n",
       "      <td>1597.000000</td>\n",
       "      <td>1333.565798</td>\n",
       "      <td>700000</td>\n",
       "      <td>2930.565798</td>\n",
       "    </tr>\n",
       "  </tbody>\n",
       "</table>\n",
       "</div>"
      ],
      "text/plain": [
       "    PINCP  AGEP  MAR  SCHL  SEX  FOD1P  INDP  NATIVITY  OCCP  RAC1P      RMSP  \\\n",
       "0   31004    21    3    16    2      0  9770         1  9820      1   5.73124   \n",
       "5   13000    21    5    19    2      0  8090         1  5940      2   7.00000   \n",
       "6   13000    22    5    16    2      0  8780         1  9610      1   3.00000   \n",
       "7   37000    22    5    16    1      0  1370         1  4250      1   3.00000   \n",
       "9  200000    54    1    21    1   2599  8560         2   500      1  10.00000   \n",
       "\n",
       "         SMOCP         RNTP    VALP  MONTHLYCOSTS  \n",
       "0  2141.156021  1333.565798       0   3474.721819  \n",
       "5  3106.000000  1333.565798  370000   4439.565798  \n",
       "6  2141.156021   680.000000       0   2821.156021  \n",
       "7  2141.156021   680.000000       0   2821.156021  \n",
       "9  1597.000000  1333.565798  700000   2930.565798  "
      ]
     },
     "execution_count": 15,
     "metadata": {},
     "output_type": "execute_result"
    }
   ],
   "source": [
    "newData['MONTHLYCOSTS'] = newData.SMOCP + newData.RNTP\n",
    "newData.head()"
   ]
  },
  {
   "cell_type": "code",
   "execution_count": 16,
   "metadata": {
    "collapsed": false
   },
   "outputs": [
    {
     "data": {
      "text/html": [
       "<div>\n",
       "<table border=\"1\" class=\"dataframe\">\n",
       "  <thead>\n",
       "    <tr style=\"text-align: right;\">\n",
       "      <th></th>\n",
       "      <th>PINCP</th>\n",
       "      <th>AGEP</th>\n",
       "      <th>MAR</th>\n",
       "      <th>SCHL</th>\n",
       "      <th>SEX</th>\n",
       "      <th>FOD1P</th>\n",
       "      <th>INDP</th>\n",
       "      <th>NATIVITY</th>\n",
       "      <th>OCCP</th>\n",
       "      <th>RAC1P</th>\n",
       "      <th>RMSP</th>\n",
       "      <th>VALP</th>\n",
       "      <th>MONTHLYCOSTS</th>\n",
       "    </tr>\n",
       "  </thead>\n",
       "  <tbody>\n",
       "    <tr>\n",
       "      <th>0</th>\n",
       "      <td>31004</td>\n",
       "      <td>21</td>\n",
       "      <td>3</td>\n",
       "      <td>16</td>\n",
       "      <td>2</td>\n",
       "      <td>0</td>\n",
       "      <td>9770</td>\n",
       "      <td>1</td>\n",
       "      <td>9820</td>\n",
       "      <td>1</td>\n",
       "      <td>5.73124</td>\n",
       "      <td>0</td>\n",
       "      <td>3474.721819</td>\n",
       "    </tr>\n",
       "    <tr>\n",
       "      <th>5</th>\n",
       "      <td>13000</td>\n",
       "      <td>21</td>\n",
       "      <td>5</td>\n",
       "      <td>19</td>\n",
       "      <td>2</td>\n",
       "      <td>0</td>\n",
       "      <td>8090</td>\n",
       "      <td>1</td>\n",
       "      <td>5940</td>\n",
       "      <td>2</td>\n",
       "      <td>7.00000</td>\n",
       "      <td>370000</td>\n",
       "      <td>4439.565798</td>\n",
       "    </tr>\n",
       "    <tr>\n",
       "      <th>6</th>\n",
       "      <td>13000</td>\n",
       "      <td>22</td>\n",
       "      <td>5</td>\n",
       "      <td>16</td>\n",
       "      <td>2</td>\n",
       "      <td>0</td>\n",
       "      <td>8780</td>\n",
       "      <td>1</td>\n",
       "      <td>9610</td>\n",
       "      <td>1</td>\n",
       "      <td>3.00000</td>\n",
       "      <td>0</td>\n",
       "      <td>2821.156021</td>\n",
       "    </tr>\n",
       "    <tr>\n",
       "      <th>7</th>\n",
       "      <td>37000</td>\n",
       "      <td>22</td>\n",
       "      <td>5</td>\n",
       "      <td>16</td>\n",
       "      <td>1</td>\n",
       "      <td>0</td>\n",
       "      <td>1370</td>\n",
       "      <td>1</td>\n",
       "      <td>4250</td>\n",
       "      <td>1</td>\n",
       "      <td>3.00000</td>\n",
       "      <td>0</td>\n",
       "      <td>2821.156021</td>\n",
       "    </tr>\n",
       "    <tr>\n",
       "      <th>9</th>\n",
       "      <td>200000</td>\n",
       "      <td>54</td>\n",
       "      <td>1</td>\n",
       "      <td>21</td>\n",
       "      <td>1</td>\n",
       "      <td>2599</td>\n",
       "      <td>8560</td>\n",
       "      <td>2</td>\n",
       "      <td>500</td>\n",
       "      <td>1</td>\n",
       "      <td>10.00000</td>\n",
       "      <td>700000</td>\n",
       "      <td>2930.565798</td>\n",
       "    </tr>\n",
       "  </tbody>\n",
       "</table>\n",
       "</div>"
      ],
      "text/plain": [
       "    PINCP  AGEP  MAR  SCHL  SEX  FOD1P  INDP  NATIVITY  OCCP  RAC1P      RMSP  \\\n",
       "0   31004    21    3    16    2      0  9770         1  9820      1   5.73124   \n",
       "5   13000    21    5    19    2      0  8090         1  5940      2   7.00000   \n",
       "6   13000    22    5    16    2      0  8780         1  9610      1   3.00000   \n",
       "7   37000    22    5    16    1      0  1370         1  4250      1   3.00000   \n",
       "9  200000    54    1    21    1   2599  8560         2   500      1  10.00000   \n",
       "\n",
       "     VALP  MONTHLYCOSTS  \n",
       "0       0   3474.721819  \n",
       "5  370000   4439.565798  \n",
       "6       0   2821.156021  \n",
       "7       0   2821.156021  \n",
       "9  700000   2930.565798  "
      ]
     },
     "execution_count": 16,
     "metadata": {},
     "output_type": "execute_result"
    }
   ],
   "source": [
    "del newData['SMOCP']\n",
    "del newData['RNTP']\n",
    "newData.head()"
   ]
  },
  {
   "cell_type": "code",
   "execution_count": 17,
   "metadata": {
    "collapsed": false
   },
   "outputs": [],
   "source": [
    "#del newData['SCHL']\n",
    "#del newData['FOD1P']\n",
    "#xs = newData.values\n",
    "#corr = np.corrcoef(xs, rowvar=0)\n",
    "#w, v = np.linalg.eig(corr)\n",
    "#w"
   ]
  },
  {
   "cell_type": "code",
   "execution_count": 18,
   "metadata": {
    "collapsed": false
   },
   "outputs": [
    {
     "data": {
      "text/html": [
       "<div>\n",
       "<table border=\"1\" class=\"dataframe\">\n",
       "  <thead>\n",
       "    <tr style=\"text-align: right;\">\n",
       "      <th></th>\n",
       "      <th>PINCP</th>\n",
       "      <th>AGEP</th>\n",
       "      <th>RMSP</th>\n",
       "      <th>VALP</th>\n",
       "      <th>MONTHLYCOSTS</th>\n",
       "      <th>MAR_1</th>\n",
       "      <th>MAR_2</th>\n",
       "      <th>MAR_3</th>\n",
       "      <th>MAR_4</th>\n",
       "      <th>MAR_5</th>\n",
       "      <th>...</th>\n",
       "      <th>OCCP_98</th>\n",
       "      <th>RAC1P_1</th>\n",
       "      <th>RAC1P_2</th>\n",
       "      <th>RAC1P_3</th>\n",
       "      <th>RAC1P_4</th>\n",
       "      <th>RAC1P_5</th>\n",
       "      <th>RAC1P_6</th>\n",
       "      <th>RAC1P_7</th>\n",
       "      <th>RAC1P_8</th>\n",
       "      <th>RAC1P_9</th>\n",
       "    </tr>\n",
       "  </thead>\n",
       "  <tbody>\n",
       "    <tr>\n",
       "      <th>0</th>\n",
       "      <td>31004</td>\n",
       "      <td>21</td>\n",
       "      <td>5.73124</td>\n",
       "      <td>0</td>\n",
       "      <td>3474.721819</td>\n",
       "      <td>0</td>\n",
       "      <td>0</td>\n",
       "      <td>1</td>\n",
       "      <td>0</td>\n",
       "      <td>0</td>\n",
       "      <td>...</td>\n",
       "      <td>1</td>\n",
       "      <td>1</td>\n",
       "      <td>0</td>\n",
       "      <td>0</td>\n",
       "      <td>0</td>\n",
       "      <td>0</td>\n",
       "      <td>0</td>\n",
       "      <td>0</td>\n",
       "      <td>0</td>\n",
       "      <td>0</td>\n",
       "    </tr>\n",
       "    <tr>\n",
       "      <th>5</th>\n",
       "      <td>13000</td>\n",
       "      <td>21</td>\n",
       "      <td>7.00000</td>\n",
       "      <td>370000</td>\n",
       "      <td>4439.565798</td>\n",
       "      <td>0</td>\n",
       "      <td>0</td>\n",
       "      <td>0</td>\n",
       "      <td>0</td>\n",
       "      <td>1</td>\n",
       "      <td>...</td>\n",
       "      <td>0</td>\n",
       "      <td>0</td>\n",
       "      <td>1</td>\n",
       "      <td>0</td>\n",
       "      <td>0</td>\n",
       "      <td>0</td>\n",
       "      <td>0</td>\n",
       "      <td>0</td>\n",
       "      <td>0</td>\n",
       "      <td>0</td>\n",
       "    </tr>\n",
       "    <tr>\n",
       "      <th>6</th>\n",
       "      <td>13000</td>\n",
       "      <td>22</td>\n",
       "      <td>3.00000</td>\n",
       "      <td>0</td>\n",
       "      <td>2821.156021</td>\n",
       "      <td>0</td>\n",
       "      <td>0</td>\n",
       "      <td>0</td>\n",
       "      <td>0</td>\n",
       "      <td>1</td>\n",
       "      <td>...</td>\n",
       "      <td>0</td>\n",
       "      <td>1</td>\n",
       "      <td>0</td>\n",
       "      <td>0</td>\n",
       "      <td>0</td>\n",
       "      <td>0</td>\n",
       "      <td>0</td>\n",
       "      <td>0</td>\n",
       "      <td>0</td>\n",
       "      <td>0</td>\n",
       "    </tr>\n",
       "    <tr>\n",
       "      <th>7</th>\n",
       "      <td>37000</td>\n",
       "      <td>22</td>\n",
       "      <td>3.00000</td>\n",
       "      <td>0</td>\n",
       "      <td>2821.156021</td>\n",
       "      <td>0</td>\n",
       "      <td>0</td>\n",
       "      <td>0</td>\n",
       "      <td>0</td>\n",
       "      <td>1</td>\n",
       "      <td>...</td>\n",
       "      <td>0</td>\n",
       "      <td>1</td>\n",
       "      <td>0</td>\n",
       "      <td>0</td>\n",
       "      <td>0</td>\n",
       "      <td>0</td>\n",
       "      <td>0</td>\n",
       "      <td>0</td>\n",
       "      <td>0</td>\n",
       "      <td>0</td>\n",
       "    </tr>\n",
       "    <tr>\n",
       "      <th>9</th>\n",
       "      <td>200000</td>\n",
       "      <td>54</td>\n",
       "      <td>10.00000</td>\n",
       "      <td>700000</td>\n",
       "      <td>2930.565798</td>\n",
       "      <td>1</td>\n",
       "      <td>0</td>\n",
       "      <td>0</td>\n",
       "      <td>0</td>\n",
       "      <td>0</td>\n",
       "      <td>...</td>\n",
       "      <td>0</td>\n",
       "      <td>1</td>\n",
       "      <td>0</td>\n",
       "      <td>0</td>\n",
       "      <td>0</td>\n",
       "      <td>0</td>\n",
       "      <td>0</td>\n",
       "      <td>0</td>\n",
       "      <td>0</td>\n",
       "      <td>0</td>\n",
       "    </tr>\n",
       "  </tbody>\n",
       "</table>\n",
       "<p>5 rows × 277 columns</p>\n",
       "</div>"
      ],
      "text/plain": [
       "    PINCP  AGEP      RMSP    VALP  MONTHLYCOSTS  MAR_1  MAR_2  MAR_3  MAR_4  \\\n",
       "0   31004    21   5.73124       0   3474.721819      0      0      1      0   \n",
       "5   13000    21   7.00000  370000   4439.565798      0      0      0      0   \n",
       "6   13000    22   3.00000       0   2821.156021      0      0      0      0   \n",
       "7   37000    22   3.00000       0   2821.156021      0      0      0      0   \n",
       "9  200000    54  10.00000  700000   2930.565798      1      0      0      0   \n",
       "\n",
       "   MAR_5   ...     OCCP_98  RAC1P_1  RAC1P_2  RAC1P_3  RAC1P_4  RAC1P_5  \\\n",
       "0      0   ...           1        1        0        0        0        0   \n",
       "5      1   ...           0        0        1        0        0        0   \n",
       "6      1   ...           0        1        0        0        0        0   \n",
       "7      1   ...           0        1        0        0        0        0   \n",
       "9      0   ...           0        1        0        0        0        0   \n",
       "\n",
       "   RAC1P_6  RAC1P_7  RAC1P_8  RAC1P_9  \n",
       "0        0        0        0        0  \n",
       "5        0        0        0        0  \n",
       "6        0        0        0        0  \n",
       "7        0        0        0        0  \n",
       "9        0        0        0        0  \n",
       "\n",
       "[5 rows x 277 columns]"
      ]
     },
     "execution_count": 18,
     "metadata": {},
     "output_type": "execute_result"
    }
   ],
   "source": [
    "mar_dummies = pd.get_dummies(newData.MAR, prefix=\"MAR\")\n",
    "newData = newData.join(mar_dummies)\n",
    "del newData['MAR']\n",
    "\n",
    "schl_dummies = pd.get_dummies(newData.SCHL, prefix=\"SCHL\")\n",
    "newData = newData.join(schl_dummies)\n",
    "del newData['SCHL']\n",
    "\n",
    "sex_dummies = pd.get_dummies(newData.SEX, prefix=\"SEX\")\n",
    "newData = newData.join(sex_dummies)\n",
    "del newData['SEX']\n",
    "\n",
    "#newData['FOD1P'].fillna(0, inplace=True)\n",
    "newData['FOD1P'] = newData['FOD1P'].apply(lambda x: int(x/100))\n",
    "fod_dummies = pd.get_dummies(newData.FOD1P, prefix=\"FOD1P\")\n",
    "newData = newData.join(fod_dummies)\n",
    "del newData['FOD1P']\n",
    "\n",
    "#newData['INDP'].fillna(0, inplace=True)\n",
    "newData['INDP'] = newData['INDP'].apply(lambda x: int(x/100))\n",
    "indp_dummies = pd.get_dummies(newData.INDP, prefix=\"INDP\")\n",
    "newData = newData.join(indp_dummies)\n",
    "del newData['INDP']\n",
    "\n",
    "nat_dummies = pd.get_dummies(newData.NATIVITY, prefix=\"NATIVITY\")\n",
    "newData = newData.join(nat_dummies)\n",
    "del newData['NATIVITY']\n",
    "\n",
    "#newData['OCCP'].fillna(0, inplace=True)\n",
    "newData['OCCP'] = newData['OCCP'].apply(lambda x: int(x/100))\n",
    "occp_dummies = pd.get_dummies(newData.OCCP, prefix=\"OCCP\")\n",
    "newData = newData.join(occp_dummies)\n",
    "del newData['OCCP']\n",
    "\n",
    "rac_dummies = pd.get_dummies(newData.RAC1P, prefix=\"RAC1P\")\n",
    "newData = newData.join(rac_dummies)\n",
    "del newData['RAC1P']\n",
    "newData.head()"
   ]
  },
  {
   "cell_type": "code",
   "execution_count": 19,
   "metadata": {
    "collapsed": false
   },
   "outputs": [
    {
     "data": {
      "text/html": [
       "<div>\n",
       "<table border=\"1\" class=\"dataframe\">\n",
       "  <thead>\n",
       "    <tr style=\"text-align: right;\">\n",
       "      <th></th>\n",
       "      <th>AGEP</th>\n",
       "      <th>RMSP</th>\n",
       "      <th>VALP</th>\n",
       "      <th>MONTHLYCOSTS</th>\n",
       "      <th>MAR_1</th>\n",
       "      <th>MAR_2</th>\n",
       "      <th>MAR_3</th>\n",
       "      <th>MAR_4</th>\n",
       "      <th>MAR_5</th>\n",
       "      <th>SCHL_1.0</th>\n",
       "      <th>...</th>\n",
       "      <th>RAC1P_1</th>\n",
       "      <th>RAC1P_2</th>\n",
       "      <th>RAC1P_3</th>\n",
       "      <th>RAC1P_4</th>\n",
       "      <th>RAC1P_5</th>\n",
       "      <th>RAC1P_6</th>\n",
       "      <th>RAC1P_7</th>\n",
       "      <th>RAC1P_8</th>\n",
       "      <th>RAC1P_9</th>\n",
       "      <th>PINCP_100000</th>\n",
       "    </tr>\n",
       "  </thead>\n",
       "  <tbody>\n",
       "    <tr>\n",
       "      <th>0</th>\n",
       "      <td>21</td>\n",
       "      <td>5.73124</td>\n",
       "      <td>0</td>\n",
       "      <td>3474.721819</td>\n",
       "      <td>0</td>\n",
       "      <td>0</td>\n",
       "      <td>1</td>\n",
       "      <td>0</td>\n",
       "      <td>0</td>\n",
       "      <td>0</td>\n",
       "      <td>...</td>\n",
       "      <td>1</td>\n",
       "      <td>0</td>\n",
       "      <td>0</td>\n",
       "      <td>0</td>\n",
       "      <td>0</td>\n",
       "      <td>0</td>\n",
       "      <td>0</td>\n",
       "      <td>0</td>\n",
       "      <td>0</td>\n",
       "      <td>False</td>\n",
       "    </tr>\n",
       "    <tr>\n",
       "      <th>5</th>\n",
       "      <td>21</td>\n",
       "      <td>7.00000</td>\n",
       "      <td>370000</td>\n",
       "      <td>4439.565798</td>\n",
       "      <td>0</td>\n",
       "      <td>0</td>\n",
       "      <td>0</td>\n",
       "      <td>0</td>\n",
       "      <td>1</td>\n",
       "      <td>0</td>\n",
       "      <td>...</td>\n",
       "      <td>0</td>\n",
       "      <td>1</td>\n",
       "      <td>0</td>\n",
       "      <td>0</td>\n",
       "      <td>0</td>\n",
       "      <td>0</td>\n",
       "      <td>0</td>\n",
       "      <td>0</td>\n",
       "      <td>0</td>\n",
       "      <td>False</td>\n",
       "    </tr>\n",
       "    <tr>\n",
       "      <th>6</th>\n",
       "      <td>22</td>\n",
       "      <td>3.00000</td>\n",
       "      <td>0</td>\n",
       "      <td>2821.156021</td>\n",
       "      <td>0</td>\n",
       "      <td>0</td>\n",
       "      <td>0</td>\n",
       "      <td>0</td>\n",
       "      <td>1</td>\n",
       "      <td>0</td>\n",
       "      <td>...</td>\n",
       "      <td>1</td>\n",
       "      <td>0</td>\n",
       "      <td>0</td>\n",
       "      <td>0</td>\n",
       "      <td>0</td>\n",
       "      <td>0</td>\n",
       "      <td>0</td>\n",
       "      <td>0</td>\n",
       "      <td>0</td>\n",
       "      <td>False</td>\n",
       "    </tr>\n",
       "    <tr>\n",
       "      <th>7</th>\n",
       "      <td>22</td>\n",
       "      <td>3.00000</td>\n",
       "      <td>0</td>\n",
       "      <td>2821.156021</td>\n",
       "      <td>0</td>\n",
       "      <td>0</td>\n",
       "      <td>0</td>\n",
       "      <td>0</td>\n",
       "      <td>1</td>\n",
       "      <td>0</td>\n",
       "      <td>...</td>\n",
       "      <td>1</td>\n",
       "      <td>0</td>\n",
       "      <td>0</td>\n",
       "      <td>0</td>\n",
       "      <td>0</td>\n",
       "      <td>0</td>\n",
       "      <td>0</td>\n",
       "      <td>0</td>\n",
       "      <td>0</td>\n",
       "      <td>False</td>\n",
       "    </tr>\n",
       "    <tr>\n",
       "      <th>9</th>\n",
       "      <td>54</td>\n",
       "      <td>10.00000</td>\n",
       "      <td>700000</td>\n",
       "      <td>2930.565798</td>\n",
       "      <td>1</td>\n",
       "      <td>0</td>\n",
       "      <td>0</td>\n",
       "      <td>0</td>\n",
       "      <td>0</td>\n",
       "      <td>0</td>\n",
       "      <td>...</td>\n",
       "      <td>1</td>\n",
       "      <td>0</td>\n",
       "      <td>0</td>\n",
       "      <td>0</td>\n",
       "      <td>0</td>\n",
       "      <td>0</td>\n",
       "      <td>0</td>\n",
       "      <td>0</td>\n",
       "      <td>0</td>\n",
       "      <td>True</td>\n",
       "    </tr>\n",
       "  </tbody>\n",
       "</table>\n",
       "<p>5 rows × 277 columns</p>\n",
       "</div>"
      ],
      "text/plain": [
       "   AGEP      RMSP    VALP  MONTHLYCOSTS  MAR_1  MAR_2  MAR_3  MAR_4  MAR_5  \\\n",
       "0    21   5.73124       0   3474.721819      0      0      1      0      0   \n",
       "5    21   7.00000  370000   4439.565798      0      0      0      0      1   \n",
       "6    22   3.00000       0   2821.156021      0      0      0      0      1   \n",
       "7    22   3.00000       0   2821.156021      0      0      0      0      1   \n",
       "9    54  10.00000  700000   2930.565798      1      0      0      0      0   \n",
       "\n",
       "   SCHL_1.0      ...       RAC1P_1  RAC1P_2  RAC1P_3  RAC1P_4  RAC1P_5  \\\n",
       "0         0      ...             1        0        0        0        0   \n",
       "5         0      ...             0        1        0        0        0   \n",
       "6         0      ...             1        0        0        0        0   \n",
       "7         0      ...             1        0        0        0        0   \n",
       "9         0      ...             1        0        0        0        0   \n",
       "\n",
       "   RAC1P_6  RAC1P_7  RAC1P_8  RAC1P_9  PINCP_100000  \n",
       "0        0        0        0        0         False  \n",
       "5        0        0        0        0         False  \n",
       "6        0        0        0        0         False  \n",
       "7        0        0        0        0         False  \n",
       "9        0        0        0        0          True  \n",
       "\n",
       "[5 rows x 277 columns]"
      ]
     },
     "execution_count": 19,
     "metadata": {},
     "output_type": "execute_result"
    }
   ],
   "source": [
    "newData['PINCP_100000'] = newData.PINCP > 100000\n",
    "del newData['PINCP']\n",
    "newData.head()"
   ]
  },
  {
   "cell_type": "code",
   "execution_count": 20,
   "metadata": {
    "collapsed": false
   },
   "outputs": [
    {
     "data": {
      "text/plain": [
       "277"
      ]
     },
     "execution_count": 20,
     "metadata": {},
     "output_type": "execute_result"
    }
   ],
   "source": [
    "len(newData.columns)"
   ]
  },
  {
   "cell_type": "code",
   "execution_count": 21,
   "metadata": {
    "collapsed": false
   },
   "outputs": [],
   "source": [
    "y = newData.PINCP_100000\n",
    "del newData['PINCP_100000']"
   ]
  },
  {
   "cell_type": "code",
   "execution_count": 22,
   "metadata": {
    "collapsed": true
   },
   "outputs": [],
   "source": [
    "def plot_roc(model):\n",
    "    model.fit(X_train, y_train)\n",
    "    predictions = model.predict_proba(X_test)\n",
    "    predictions = [x[1] for x in predictions]\n",
    "    false_positive_rate, true_positive_rate, thresholds = roc_curve(y_test, predictions)\n",
    "    roc_auc = auc(false_positive_rate, true_positive_rate)\n",
    "    plt.title('Receiver Operating Characteristic')\n",
    "    plt.plot(false_positive_rate, true_positive_rate, 'b',\n",
    "    label='Ridge AUC = %0.2f'% roc_auc)\n",
    "    plt.legend(loc='lower right')\n",
    "    plt.plot([0,1],[0,1],'r--')\n",
    "    plt.xlim([-0.1,1.2])\n",
    "    plt.ylim([-0.1,1.2])\n",
    "    plt.ylabel('True Positive Rate')\n",
    "    plt.xlabel('False Positive Rate')\n",
    "    \n",
    "def plot_roc1(model):\n",
    "    model.fit(X_train, y_train)\n",
    "    predictions = model.predict_proba(X_test)\n",
    "    predictions = [x[1] for x in predictions]\n",
    "    false_positive_rate, true_positive_rate, thresholds = roc_curve(y_test, predictions)\n",
    "    roc_auc = auc(false_positive_rate, true_positive_rate)\n",
    "    plt.title('Receiver Operating Characteristic for Logistic')\n",
    "    plt.plot(false_positive_rate, true_positive_rate, 'b',\n",
    "    label='Ridge AUC = %0.2f'% roc_auc)\n",
    "    plt.legend(loc='lower right')\n",
    "    plt.plot([0,1],[0,1],'r--')\n",
    "    plt.xlim([-0.1,1.2])\n",
    "    plt.ylim([-0.1,1.2])\n",
    "    plt.ylabel('True Positive Rate')\n",
    "    plt.xlabel('False Positive Rate')\n",
    "    \n",
    "def plot_roc2(model):\n",
    "    model.fit(X_train, y_train)\n",
    "    predictions = model.predict_proba(X_test)\n",
    "    predictions = [x[1] for x in predictions]\n",
    "    false_positive_rate, true_positive_rate, thresholds = roc_curve(y_test, predictions)\n",
    "    roc_auc = auc(false_positive_rate, true_positive_rate)\n",
    "    plt.title('Receiver Operating Characteristic for Logistic')\n",
    "    plt.plot(false_positive_rate, true_positive_rate, 'g',\n",
    "    label='Lasso AUC = %0.2f'% roc_auc)\n",
    "    plt.legend(loc='lower right')\n",
    "    plt.plot([0,1],[0,1],'r--')\n",
    "    plt.xlim([-0.1,1.2])\n",
    "    plt.ylim([-0.1,1.2])\n",
    "    plt.ylabel('True Positive Rate')\n",
    "    plt.xlabel('False Positive Rate')\n",
    "\n",
    "def plot_confusion_matrix(cm, title='Confusion matrix', cmap=plt.cm.Blues):\n",
    "    print(cm)\n",
    "    plt.imshow(cm, interpolation='nearest', cmap=cmap)\n",
    "    plt.title(title)\n",
    "    plt.colorbar()\n",
    "    tick_marks = np.arange(2)\n",
    "    plt.xticks(tick_marks, ['Below 100000', 'Above 100000'], rotation=45)\n",
    "    plt.yticks(tick_marks, ['Below 100000', 'Above 100000'])\n",
    "    plt.tight_layout()\n",
    "    plt.ylabel('True label')\n",
    "    plt.xlabel('Predicted label')\n",
    "\n",
    "\n",
    "def accuracies(cm):\n",
    "    totals = np.sum(cm, 1)\n",
    "    no_acc = cm[0, 0] / totals[0]\n",
    "    yes_acc = cm[1, 1] / totals[1]\n",
    "    print(\"Below 100000 Acc: {0}\".format(no_acc))\n",
    "    print(\"Above 100000 Acc: {0}\".format(yes_acc))\n",
    "    print(\"Avg Acc: {0}\".format((no_acc + yes_acc)/2))\n",
    "    \n",
    "\n",
    "def run_model(model):\n",
    "    clf = model\n",
    "    clf.fit(X_train, y_train)\n",
    "    predictions = clf.predict(X_test)\n",
    "    cm = confusion_matrix(y_test, predictions)\n",
    "    plot_confusion_matrix(cm)\n",
    "    accuracies(cm)"
   ]
  },
  {
   "cell_type": "code",
   "execution_count": 23,
   "metadata": {
    "collapsed": false
   },
   "outputs": [],
   "source": [
    "from sklearn.cross_validation import train_test_split\n",
    "X_train, X_test, y_train, y_test = train_test_split(newData, y, test_size=0.33, random_state=42)"
   ]
  },
  {
   "cell_type": "code",
   "execution_count": 24,
   "metadata": {
    "collapsed": false
   },
   "outputs": [
    {
     "name": "stdout",
     "output_type": "stream",
     "text": [
      "[[27136 18240]\n",
      " [ 1851  5246]]\n",
      "Below 100000 Acc: 0.5980253878702397\n",
      "Above 100000 Acc: 0.7391855713681837\n",
      "Avg Acc: 0.6686054796192118\n"
     ]
    },
    {
     "data": {
      "image/png": "[encoded data removed]",
      "text/plain": [
       "<matplotlib.figure.Figure at 0x103654358>"
      ]
     },
     "metadata": {},
     "output_type": "display_data"
    }
   ],
   "source": [
    "from sklearn.linear_model import LogisticRegression, LogisticRegressionCV\n",
    "from sklearn.metrics import confusion_matrix\n",
    "\n",
    "clfRidge = LogisticRegression(penalty='l2', C=1000, class_weight='balanced')\n",
    "run_model(clfRidge)"
   ]
  },
  {
   "cell_type": "code",
   "execution_count": 25,
   "metadata": {
    "collapsed": false
   },
   "outputs": [
    {
     "data": {
      "image/png": "[encoded data removed]",
      "text/plain": [
       "<matplotlib.figure.Figure at 0x10dc79518>"
      ]
     },
     "metadata": {},
     "output_type": "display_data"
    }
   ],
   "source": [
    "from sklearn.metrics import roc_curve, auc\n",
    "plot_roc(clfRidge)"
   ]
  },
  {
   "cell_type": "code",
   "execution_count": 26,
   "metadata": {
    "collapsed": false
   },
   "outputs": [
    {
     "name": "stdout",
     "output_type": "stream",
     "text": [
      "[[27136 18240]\n",
      " [ 1851  5246]]\n",
      "Below 100000 Acc: 0.5980253878702397\n",
      "Above 100000 Acc: 0.7391855713681837\n",
      "Avg Acc: 0.6686054796192118\n",
      "{'C': 0.001}\n"
     ]
    },
    {
     "data": {
      "image/png": "[encoded data removed]",
      "text/plain": [
       "<matplotlib.figure.Figure at 0x106f2f2e8>"
      ]
     },
     "metadata": {},
     "output_type": "display_data"
    }
   ],
   "source": [
    "from sklearn.grid_search import GridSearchCV\n",
    "from sklearn.metrics import make_scorer\n",
    "\n",
    "def cm_loss(estimator, X, y):\n",
    "    predictions = estimator.predict(X)\n",
    "    cm = confusion_matrix(y, predictions)\n",
    "    totals = np.sum(cm, 1)\n",
    "    no_acc = cm[0, 0] / totals[0]\n",
    "    yes_acc = cm[1, 1] / totals[1]\n",
    "    return (no_acc + yes_acc)/2\n",
    "\n",
    "\n",
    "lr = LogisticRegression(penalty='l2', class_weight='balanced')\n",
    "parameters = {'C':[.001, .01, 1, 10, 100]}\n",
    "clfRidge = GridSearchCV(lr, parameters, scoring=cm_loss, cv=7)\n",
    "clfRidge.fit(X_train, y_train)\n",
    "run_model(clfRidge.best_estimator_)\n",
    "print(clfRidge.best_params_)"
   ]
  },
  {
   "cell_type": "code",
   "execution_count": 27,
   "metadata": {
    "collapsed": false
   },
   "outputs": [
    {
     "data": {
      "image/png": "[encoded data removed]",
      "text/plain": [
       "<matplotlib.figure.Figure at 0x1059b2208>"
      ]
     },
     "metadata": {},
     "output_type": "display_data"
    }
   ],
   "source": [
    "plot_roc(clfRidge.best_estimator_)"
   ]
  },
  {
   "cell_type": "code",
   "execution_count": 28,
   "metadata": {
    "collapsed": false
   },
   "outputs": [
    {
     "name": "stdout",
     "output_type": "stream",
     "text": [
      "[[36924  8452]\n",
      " [  989  6108]]\n",
      "Below 100000 Acc: 0.8137341325811002\n",
      "Above 100000 Acc: 0.8606453431027195\n",
      "Avg Acc: 0.8371897378419098\n",
      "{'C': 10}\n"
     ]
    },
    {
     "data": {
      "image/png": "[encoded data removed]",
      "text/plain": [
       "<matplotlib.figure.Figure at 0x10fdc4160>"
      ]
     },
     "metadata": {},
     "output_type": "display_data"
    }
   ],
   "source": [
    "lr = LogisticRegression(penalty='l1', class_weight='balanced')\n",
    "parameters = {'C':[.001, .01, 1, 10, 100, 1000]}\n",
    "clfLasso = GridSearchCV(lr, parameters, scoring=cm_loss, cv=5)\n",
    "clfLasso.fit(X_train, y_train)\n",
    "run_model(clfLasso.best_estimator_)\n",
    "print(clfLasso.best_params_)"
   ]
  },
  {
   "cell_type": "code",
   "execution_count": 29,
   "metadata": {
    "collapsed": false
   },
   "outputs": [
    {
     "data": {
      "image/png": "[encoded data removed]",
      "text/plain": [
       "<matplotlib.figure.Figure at 0x10d790da0>"
      ]
     },
     "metadata": {},
     "output_type": "display_data"
    }
   ],
   "source": [
    "plot_roc(clfLasso.best_estimator_)"
   ]
  },
  {
   "cell_type": "code",
   "execution_count": 30,
   "metadata": {
    "collapsed": false
   },
   "outputs": [
    {
     "data": {
      "image/png": "[encoded data removed]",
      "text/plain": [
       "<matplotlib.figure.Figure at 0x10d635cf8>"
      ]
     },
     "metadata": {},
     "output_type": "display_data"
    }
   ],
   "source": [
    "plot_roc1(clfRidge.best_estimator_)\n",
    "plot_roc2(clfLasso.best_estimator_)"
   ]
  },
  {
   "cell_type": "markdown",
   "metadata": {},
   "source": [
    "## LDA AND QDA"
   ]
  },
  {
   "cell_type": "markdown",
   "metadata": {},
   "source": [
    "### LDA"
   ]
  },
  {
   "cell_type": "code",
   "execution_count": 31,
   "metadata": {
    "collapsed": false
   },
   "outputs": [],
   "source": [
    "from sklearn.discriminant_analysis import LinearDiscriminantAnalysis"
   ]
  },
  {
   "cell_type": "code",
   "execution_count": 32,
   "metadata": {
    "collapsed": false
   },
   "outputs": [
    {
     "name": "stdout",
     "output_type": "stream",
     "text": [
      "[[43142  2234]\n",
      " [ 3405  3692]]\n",
      "Below 100000 Acc: 0.9507669252468265\n",
      "Above 100000 Acc: 0.5202198111878258\n",
      "Avg Acc: 0.7354933682173261\n",
      "{'tol': 0.001}\n"
     ]
    },
    {
     "data": {
      "image/png": "[encoded data removed]",
      "text/plain": [
       "<matplotlib.figure.Figure at 0x10d39b080>"
      ]
     },
     "metadata": {},
     "output_type": "display_data"
    }
   ],
   "source": [
    "ldaModel = LinearDiscriminantAnalysis(solver = 'lsqr', shrinkage='auto')\n",
    "parameters = {'tol':[0.001]}\n",
    "clf2 = GridSearchCV(ldaModel, parameters, scoring=cm_loss, cv=5)\n",
    "clf2.fit(X_train, y_train)\n",
    "run_model(clf2.best_estimator_)\n",
    "print(clf2.best_params_)"
   ]
  },
  {
   "cell_type": "code",
   "execution_count": 33,
   "metadata": {
    "collapsed": false
   },
   "outputs": [
    {
     "data": {
      "image/png": "[encoded data removed]",
      "text/plain": [
       "<matplotlib.figure.Figure at 0x10b8e9828>"
      ]
     },
     "metadata": {},
     "output_type": "display_data"
    }
   ],
   "source": [
    "plot_roc(clf2.best_estimator_)"
   ]
  },
  {
   "cell_type": "markdown",
   "metadata": {},
   "source": [
    "### QDA"
   ]
  },
  {
   "cell_type": "code",
   "execution_count": 34,
   "metadata": {
    "collapsed": true
   },
   "outputs": [],
   "source": [
    "from sklearn.discriminant_analysis import QuadraticDiscriminantAnalysis"
   ]
  },
  {
   "cell_type": "code",
   "execution_count": 35,
   "metadata": {
    "collapsed": false
   },
   "outputs": [
    {
     "name": "stdout",
     "output_type": "stream",
     "text": [
      "[[34635 10741]\n",
      " [ 2065  5032]]\n",
      "Below 100000 Acc: 0.7632889633286318\n",
      "Above 100000 Acc: 0.7090319853459208\n",
      "Avg Acc: 0.7361604743372763\n",
      "{'reg_param': 0.9}\n"
     ]
    },
    {
     "data": {
      "image/png": "[encoded data removed]",
      "text/plain": [
       "<matplotlib.figure.Figure at 0x10d62f048>"
      ]
     },
     "metadata": {},
     "output_type": "display_data"
    }
   ],
   "source": [
    "qdaModel = QuadraticDiscriminantAnalysis()\n",
    "parameters = {'reg_param':[0.9]} #0.9 is optimal\n",
    "clf3 = GridSearchCV(qdaModel, parameters, scoring=cm_loss, cv=5)\n",
    "clf3.fit(X_train, y_train)\n",
    "run_model(clf3.best_estimator_)\n",
    "print(clf3.best_params_)"
   ]
  },
  {
   "cell_type": "code",
   "execution_count": 36,
   "metadata": {
    "collapsed": false
   },
   "outputs": [
    {
     "data": {
      "image/png": "[encoded data removed]",
      "text/plain": [
       "<matplotlib.figure.Figure at 0x10ca504e0>"
      ]
     },
     "metadata": {},
     "output_type": "display_data"
    }
   ],
   "source": [
    "plot_roc(clf3.best_estimator_)"
   ]
  },
  {
   "cell_type": "markdown",
   "metadata": {},
   "source": [
    "### SVC "
   ]
  },
  {
   "cell_type": "code",
   "execution_count": 37,
   "metadata": {
    "collapsed": false
   },
   "outputs": [],
   "source": [
    "from sklearn.svm import SVC"
   ]
  },
  {
   "cell_type": "code",
   "execution_count": 38,
   "metadata": {
    "collapsed": false
   },
   "outputs": [],
   "source": [
    "mod = SVC(max_iter=10000, kernel = 'poly', degree = 3, class_weight='balanced')"
   ]
  },
  {
   "cell_type": "code",
   "execution_count": 39,
   "metadata": {
    "collapsed": false
   },
   "outputs": [
    {
     "name": "stdout",
     "output_type": "stream",
     "text": [
      "[[44526   850]\n",
      " [ 6108   989]]\n",
      "Below 100000 Acc: 0.9812676304654443\n",
      "Above 100000 Acc: 0.13935465689728055\n",
      "Avg Acc: 0.5603111436813624\n"
     ]
    },
    {
     "data": {
      "image/png": "[encoded data removed]",
      "text/plain": [
       "<matplotlib.figure.Figure at 0x10fd2e940>"
      ]
     },
     "metadata": {},
     "output_type": "display_data"
    }
   ],
   "source": [
    "run_model(mod)"
   ]
  },
  {
   "cell_type": "code",
   "execution_count": 40,
   "metadata": {
    "collapsed": true
   },
   "outputs": [],
   "source": [
    "mod = SVC(max_iter=20000, kernel = 'poly', degree = 3, class_weight='balanced')"
   ]
  },
  {
   "cell_type": "code",
   "execution_count": 41,
   "metadata": {
    "collapsed": false
   },
   "outputs": [
    {
     "name": "stdout",
     "output_type": "stream",
     "text": [
      "[[  599 44777]\n",
      " [  712  6385]]\n",
      "Below 100000 Acc: 0.013200811001410438\n",
      "Above 100000 Acc: 0.8996759194025644\n",
      "Avg Acc: 0.45643836520198744\n"
     ]
    },
    {
     "data": {
      "image/png": "[encoded data removed]",
      "text/plain": [
       "<matplotlib.figure.Figure at 0x10d7a5668>"
      ]
     },
     "metadata": {},
     "output_type": "display_data"
    }
   ],
   "source": [
    "run_model(mod)"
   ]
  },
  {
   "cell_type": "code",
   "execution_count": 42,
   "metadata": {
    "collapsed": true
   },
   "outputs": [],
   "source": [
    "mod = SVC(max_iter=30000, kernel = 'poly', degree = 3, coef0 = 1, class_weight='balanced')"
   ]
  },
  {
   "cell_type": "code",
   "execution_count": 43,
   "metadata": {
    "collapsed": false
   },
   "outputs": [
    {
     "name": "stdout",
     "output_type": "stream",
     "text": [
      "[[  870 44506]\n",
      " [  998  6099]]\n",
      "Below 100000 Acc: 0.019173131170662907\n",
      "Above 100000 Acc: 0.8593772016344935\n",
      "Avg Acc: 0.4392751664025782\n"
     ]
    },
    {
     "data": {
      "image/png": "[encoded data removed]",
      "text/plain": [
       "<matplotlib.figure.Figure at 0x10b92f0f0>"
      ]
     },
     "metadata": {},
     "output_type": "display_data"
    }
   ],
   "source": [
    "run_model(mod)"
   ]
  },
  {
   "cell_type": "markdown",
   "metadata": {},
   "source": [
    "### SVC with SGDClassifier"
   ]
  },
  {
   "cell_type": "code",
   "execution_count": 44,
   "metadata": {
    "collapsed": true
   },
   "outputs": [],
   "source": [
    "from sklearn.linear_model import SGDClassifier"
   ]
  },
  {
   "cell_type": "code",
   "execution_count": 45,
   "metadata": {
    "collapsed": false
   },
   "outputs": [],
   "source": [
    "mod = SGDClassifier(n_jobs=-1, shuffle=True, penalty = 'l2', class_weight='balanced', average=1)\n",
    "parameters = {'l1_ratio':[0.85], 'alpha':[3.5],'eta0':[1.5], 'power_t':[3.5]}"
   ]
  },
  {
   "cell_type": "code",
   "execution_count": 46,
   "metadata": {
    "collapsed": false
   },
   "outputs": [
    {
     "name": "stdout",
     "output_type": "stream",
     "text": [
      "[[19699 25677]\n",
      " [ 1332  5765]]\n",
      "Below 100000 Acc: 0.43412817348377997\n",
      "Above 100000 Acc: 0.8123150627025504\n",
      "Avg Acc: 0.6232216180931651\n",
      "SGDClassifier(alpha=3.5, average=1, class_weight='balanced', epsilon=0.1,\n",
      "       eta0=1.5, fit_intercept=True, l1_ratio=0.85,\n",
      "       learning_rate='optimal', loss='hinge', n_iter=5, n_jobs=-1,\n",
      "       penalty='l2', power_t=3.5, random_state=None, shuffle=True,\n",
      "       verbose=0, warm_start=False)\n"
     ]
    },
    {
     "data": {
      "image/png": "[encoded data removed]",
      "text/plain": [
       "<matplotlib.figure.Figure at 0x10d3c3f28>"
      ]
     },
     "metadata": {},
     "output_type": "display_data"
    }
   ],
   "source": [
    "clf4 = GridSearchCV(mod, parameters, scoring=cm_loss, cv=5)\n",
    "clf4.fit(X_train, y_train)\n",
    "run_model(clf4.best_estimator_)\n",
    "print(clf4.best_estimator_)"
   ]
  },
  {
   "cell_type": "code",
   "execution_count": 47,
   "metadata": {
    "collapsed": false
   },
   "outputs": [],
   "source": [
    "#plot_roc(clf)"
   ]
  },
  {
   "cell_type": "markdown",
   "metadata": {},
   "source": [
    "## Initial Ensemble Testing"
   ]
  },
  {
   "cell_type": "code",
   "execution_count": 49,
   "metadata": {
    "collapsed": false
   },
   "outputs": [
    {
     "name": "stdout",
     "output_type": "stream",
     "text": [
      "[[39953  5423]\n",
      " [ 1856  5241]]\n",
      "Below 100000 Acc: 0.8804874823695346\n",
      "Above 100000 Acc: 0.7384810483302804\n",
      "Avg Acc: 0.8094842653499075\n"
     ]
    },
    {
     "data": {
      "image/png": "[encoded data removed]",
      "text/plain": [
       "<matplotlib.figure.Figure at 0x10d628c50>"
      ]
     },
     "metadata": {},
     "output_type": "display_data"
    }
   ],
   "source": [
    "from sklearn import cross_validation\n",
    "from sklearn.ensemble import VotingClassifier\n",
    "eclf = VotingClassifier(estimators=[('lr', clfLasso), ('lda', clf2), ('qda', clf3)], voting='hard')\n",
    "eclf.fit(X_train, y_train)\n",
    "run_model(eclf)"
   ]
  },
  {
   "cell_type": "code",
   "execution_count": 50,
   "metadata": {
    "collapsed": false
   },
   "outputs": [
    {
     "name": "stdout",
     "output_type": "stream",
     "text": [
      "[[40781  4595]\n",
      " [ 2341  4756]]\n",
      "Below 100000 Acc: 0.8987350141043724\n",
      "Above 100000 Acc: 0.6701423136536565\n",
      "Avg Acc: 0.7844386638790144\n"
     ]
    },
    {
     "data": {
      "image/png": "[encoded data removed]",
      "text/plain": [
       "<matplotlib.figure.Figure at 0x10d39bba8>"
      ]
     },
     "metadata": {},
     "output_type": "display_data"
    }
   ],
   "source": [
    "from sklearn import cross_validation\n",
    "from sklearn.ensemble import VotingClassifier\n",
    "eclfWithSVC = VotingClassifier(estimators=[('lr', clfLasso), ('lda', clf2), ('qda', clf3),('svc',clf4)], voting='hard')\n",
    "eclfWithSVC.fit(X_train, y_train)\n",
    "run_model(eclfWithSVC)"
   ]
  },
  {
   "cell_type": "markdown",
   "metadata": {},
   "source": [
    "### Random Forest"
   ]
  },
  {
   "cell_type": "code",
   "execution_count": 51,
   "metadata": {
    "collapsed": true
   },
   "outputs": [],
   "source": [
    "from sklearn.ensemble import RandomForestClassifier"
   ]
  },
  {
   "cell_type": "code",
   "execution_count": 52,
   "metadata": {
    "collapsed": false
   },
   "outputs": [
    {
     "name": "stdout",
     "output_type": "stream",
     "text": [
      "[[37773  7603]\n",
      " [ 1302  5795]]\n",
      "Below 100000 Acc: 0.8324444640338505\n",
      "Above 100000 Acc: 0.8165422009299704\n",
      "Avg Acc: 0.8244933324819105\n",
      "RandomForestClassifier(bootstrap=True, class_weight='balanced',\n",
      "            criterion='gini', max_depth=15, max_features='auto',\n",
      "            max_leaf_nodes=None, min_samples_leaf=1, min_samples_split=2,\n",
      "            min_weight_fraction_leaf=0.0, n_estimators=100, n_jobs=1,\n",
      "            oob_score=False, random_state=None, verbose=0,\n",
      "            warm_start=False)\n"
     ]
    },
    {
     "data": {
      "image/png": "[encoded data removed]",
      "text/plain": [
       "<matplotlib.figure.Figure at 0x10ca7cb70>"
      ]
     },
     "metadata": {},
     "output_type": "display_data"
    }
   ],
   "source": [
    "model = RandomForestClassifier()\n",
    "parameters = {'n_estimators':[100], 'max_depth':[15], 'max_features': ['auto'], 'class_weight':['balanced']}\n",
    "clf5 = GridSearchCV(model, parameters, scoring=cm_loss, cv=5)\n",
    "clf5.fit(X_train, y_train)\n",
    "run_model(clf5.best_estimator_)\n",
    "print(clf5.best_estimator_)"
   ]
  },
  {
   "cell_type": "code",
   "execution_count": 53,
   "metadata": {
    "collapsed": false,
    "scrolled": true
   },
   "outputs": [
    {
     "data": {
      "image/png": "[encoded data removed]",
      "text/plain": [
       "<matplotlib.figure.Figure at 0x10ca82048>"
      ]
     },
     "metadata": {},
     "output_type": "display_data"
    }
   ],
   "source": [
    "plot_roc(clf5)"
   ]
  },
  {
   "cell_type": "markdown",
   "metadata": {},
   "source": [
    "### Boosting"
   ]
  },
  {
   "cell_type": "code",
   "execution_count": 54,
   "metadata": {
    "collapsed": true
   },
   "outputs": [],
   "source": [
    "baseModel = RandomForestClassifier(n_estimators = 10, max_depth = 5, class_weight = 'balanced', max_features = 'auto')"
   ]
  },
  {
   "cell_type": "code",
   "execution_count": 55,
   "metadata": {
    "collapsed": false
   },
   "outputs": [
    {
     "data": {
      "text/plain": [
       "AdaBoostClassifier(algorithm='SAMME.R',\n",
       "          base_estimator=RandomForestClassifier(bootstrap=True, class_weight='balanced',\n",
       "            criterion='gini', max_depth=5, max_features='auto',\n",
       "            max_leaf_nodes=None, min_samples_leaf=1, min_samples_split=2,\n",
       "            min_weight_fraction_leaf=0.0, n_estimators=10, n_jobs=1,\n",
       "            oob_score=False, random_state=None, verbose=0,\n",
       "            warm_start=False),\n",
       "          learning_rate=1.0, n_estimators=50, random_state=None)"
      ]
     },
     "execution_count": 55,
     "metadata": {},
     "output_type": "execute_result"
    }
   ],
   "source": [
    "from sklearn.ensemble import AdaBoostClassifier\n",
    "abClass = AdaBoostClassifier(base_estimator = baseModel)\n",
    "#parameters = {'n_estimators':[100], 'learning_rate': [1]}\n",
    "#clf = GridSearchCV(model, parameters, scoring=cm_loss, cv=5)\n",
    "abClass.fit(X_train, y_train)\n",
    "#run_model(clf.best_estimator_)\n",
    "#print(clf.best_estimator_)"
   ]
  },
  {
   "cell_type": "code",
   "execution_count": 56,
   "metadata": {
    "collapsed": false
   },
   "outputs": [
    {
     "name": "stdout",
     "output_type": "stream",
     "text": [
      "[[37463  7913]\n",
      " [  972  6125]]\n",
      "Below 100000 Acc: 0.825612658674189\n",
      "Above 100000 Acc: 0.8630407214315908\n",
      "Avg Acc: 0.8443266900528898\n"
     ]
    },
    {
     "data": {
      "image/png": "[encoded data removed]",
      "text/plain": [
       "<matplotlib.figure.Figure at 0x10ce1e780>"
      ]
     },
     "metadata": {},
     "output_type": "display_data"
    }
   ],
   "source": [
    "run_model(abClass)"
   ]
  },
  {
   "cell_type": "markdown",
   "metadata": {},
   "source": [
    "### Lift Curve"
   ]
  },
  {
   "cell_type": "code",
   "execution_count": 57,
   "metadata": {
    "collapsed": true
   },
   "outputs": [],
   "source": [
    "def column(matrix, i):\n",
    "    return [row[i] for row in matrix]"
   ]
  },
  {
   "cell_type": "code",
   "execution_count": 58,
   "metadata": {
    "collapsed": false
   },
   "outputs": [],
   "source": [
    "predictions = abClass.predict_proba(X_test)\n",
    "#print(predictions)\n",
    "#type(predictions)\n",
    "tempVal = column(predictions, 1)\n",
    "\n",
    "#type(np.array(tempVal))\n",
    "fi = zip(y_test.values, np.array(tempVal))\n",
    "fi_sort = sorted(fi, key=lambda x: x[1], reverse=True)\n"
   ]
  },
  {
   "cell_type": "code",
   "execution_count": 59,
   "metadata": {
    "collapsed": false
   },
   "outputs": [
    {
     "data": {
      "text/plain": [
       "0.19329974125017024"
      ]
     },
     "execution_count": 59,
     "metadata": {},
     "output_type": "execute_result"
    }
   ],
   "source": [
    "trueProbCount = 0\n",
    "for x in y_test.values:\n",
    "    if(x==True):\n",
    "        trueProbCount+=1\n",
    "trueProbCount/36715    "
   ]
  },
  {
   "cell_type": "code",
   "execution_count": 60,
   "metadata": {
    "collapsed": false
   },
   "outputs": [
    {
     "data": {
      "text/plain": [
       "52473"
      ]
     },
     "execution_count": 60,
     "metadata": {},
     "output_type": "execute_result"
    }
   ],
   "source": [
    "len(fi_sort)"
   ]
  },
  {
   "cell_type": "code",
   "execution_count": 61,
   "metadata": {
    "collapsed": false
   },
   "outputs": [],
   "source": [
    "decileCount = 0\n",
    "trueCount = 0\n",
    "falseCount = 0\n",
    "listTrueAccuracy = []\n",
    "listFalseAccuracy = []\n",
    "for pred, prob in fi_sort:\n",
    "    if(decileCount == 3671):\n",
    "        listTrueAccuracy.append(trueCount)\n",
    "        listFalseAccuracy.append(falseCount)\n",
    "        decileCount = 0\n",
    "        trueCount = 0\n",
    "        falseCount = 0\n",
    "    if(pred == True and prob > 0.5):\n",
    "        trueCount+=1\n",
    "    elif(pred == False and prob > 0.5):\n",
    "        falseCount+=1\n",
    "    decileCount+=1"
   ]
  },
  {
   "cell_type": "code",
   "execution_count": 62,
   "metadata": {
    "collapsed": false
   },
   "outputs": [
    {
     "name": "stdout",
     "output_type": "stream",
     "text": [
      "[2724, 1768, 1083, 550, 0, 0, 0, 0, 0, 0, 0, 0, 0, 0]\n",
      "[947, 1903, 2588, 2475, 0, 0, 0, 0, 0, 0, 0, 0, 0, 0]\n",
      "[0.44473469387755105, 0.2886530612244898, 0.17681632653061224, 0.08979591836734693, 0.0, 0.0, 0.0, 0.0, 0.0, 0.0, 0.0, 0.0, 0.0, 0.0]\n",
      "[0.11967648173891066, 0.24049033236446354, 0.3270567420700114, 0.31277644382661446, 0.0, 0.0, 0.0, 0.0, 0.0, 0.0, 0.0, 0.0, 0.0, 0.0]\n"
     ]
    }
   ],
   "source": [
    "print(listTrueAccuracy)\n",
    "print(listFalseAccuracy)\n",
    "listTruePercent = []\n",
    "listFalsePercent = []\n",
    "\n",
    "for pred in listTrueAccuracy:\n",
    "    listTruePercent.append(pred/sum(listTrueAccuracy))\n",
    "\n",
    "for pred in listFalseAccuracy:\n",
    "    listFalsePercent.append(pred/sum(listFalseAccuracy))\n",
    "    \n",
    "print(listTruePercent)\n",
    "print(listFalsePercent)"
   ]
  },
  {
   "cell_type": "code",
   "execution_count": 63,
   "metadata": {
    "collapsed": false
   },
   "outputs": [
    {
     "data": {
      "text/plain": [
       "<matplotlib.text.Text at 0x10d6a54a8>"
      ]
     },
     "execution_count": 63,
     "metadata": {},
     "output_type": "execute_result"
    },
    {
     "data": {
      "image/png": "[encoded data removed]",
      "text/plain": [
       "<matplotlib.figure.Figure at 0x10ca82240>"
      ]
     },
     "metadata": {},
     "output_type": "display_data"
    }
   ],
   "source": [
    "line_up, = plt.plot([10,20,30,40,50,60,70,80,90, 100],[69.4/10, 26.6/10, 3.93/10, 0, 0, 0, 0,0,0,0], label='Model')\n",
    "line_down, = plt.plot([10,20,30,40,50,60,70,80,90, 100],[1, 1, 1, 1, 1, 1, 1, 1, 1,1], label='Baseline')\n",
    "plt.legend(handles=[line_up, line_down])\n",
    "plt.xlabel('Percentage of Sample Observed')\n",
    "plt.ylabel('Lift')\n",
    "plt.title('Lift Chart for AdaBoost Ensemble')"
   ]
  },
  {
   "cell_type": "markdown",
   "metadata": {},
   "source": [
    "### ROC for Adaboost"
   ]
  },
  {
   "cell_type": "code",
   "execution_count": 64,
   "metadata": {
    "collapsed": false
   },
   "outputs": [
    {
     "data": {
      "image/png": "[encoded data removed]",
      "text/plain": [
       "<matplotlib.figure.Figure at 0x1031d1710>"
      ]
     },
     "metadata": {},
     "output_type": "display_data"
    }
   ],
   "source": [
    "plot_roc(abClass)"
   ]
  },
  {
   "cell_type": "markdown",
   "metadata": {},
   "source": [
    "### XGBoost "
   ]
  },
  {
   "cell_type": "code",
   "execution_count": null,
   "metadata": {
    "collapsed": true
   },
   "outputs": [],
   "source": [
    "import xgboost as xgb"
   ]
  },
  {
   "cell_type": "code",
   "execution_count": null,
   "metadata": {
    "collapsed": false
   },
   "outputs": [],
   "source": [
    "xgb_model = xgb.XGBClassifier()\n",
    "clf = GridSearchCV(xgb_model, {'max_depth': [10],\n",
    "                                   'n_estimators': [100]}, verbose=1, n_jobs=-1)\n",
    "clf.fit(X_train, y_train)\n",
    "run_model(clf.best_estimator_)"
   ]
  },
  {
   "cell_type": "markdown",
   "metadata": {},
   "source": [
    "### Decision Trees"
   ]
  },
  {
   "cell_type": "code",
   "execution_count": null,
   "metadata": {
    "collapsed": false
   },
   "outputs": [],
   "source": [
    "from sklearn.tree import DecisionTreeClassifier\n",
    "clf = DecisionTreeClassifier(max_depth = 10)\n",
    "clf.fit(X_train, y_train)"
   ]
  },
  {
   "cell_type": "code",
   "execution_count": null,
   "metadata": {
    "collapsed": false
   },
   "outputs": [],
   "source": [
    "from sklearn.tree import export_graphviz\n",
    "export_graphviz(clf, out_file='tree.dot')   "
   ]
  },
  {
   "cell_type": "code",
   "execution_count": null,
   "metadata": {
    "collapsed": false
   },
   "outputs": [],
   "source": [
    "!dot -Tpng tree.dot -o tree.png"
   ]
  },
  {
   "cell_type": "code",
   "execution_count": null,
   "metadata": {
    "collapsed": false
   },
   "outputs": [],
   "source": [
    "from IPython.display import Image\n",
    "Image(filename='tree.png') "
   ]
  },
  {
   "cell_type": "markdown",
   "metadata": {},
   "source": [
    "## Ensemble"
   ]
  },
  {
   "cell_type": "code",
   "execution_count": 66,
   "metadata": {
    "collapsed": false
   },
   "outputs": [
    {
     "name": "stdout",
     "output_type": "stream",
     "text": [
      "[[38404  6972]\n",
      " [ 1399  5698]]\n",
      "Below 100000 Acc: 0.8463504936530324\n",
      "Above 100000 Acc: 0.8028744539946456\n",
      "Avg Acc: 0.824612473823839\n"
     ]
    },
    {
     "data": {
      "image/png": "[encoded data removed]",
      "text/plain": [
       "<matplotlib.figure.Figure at 0x113425390>"
      ]
     },
     "metadata": {},
     "output_type": "display_data"
    }
   ],
   "source": [
    "from sklearn import cross_validation\n",
    "from sklearn.ensemble import VotingClassifier\n",
    "eclf5comp = VotingClassifier(estimators=[('lr', clfLasso), ('lda', clf2), ('qda', clf3),('svc',clf4),('tree', clf5)], voting='hard')\n",
    "eclf5comp.fit(X_train, y_train)\n",
    "run_model(eclf5comp)"
   ]
  },
  {
   "cell_type": "code",
   "execution_count": null,
   "metadata": {
    "collapsed": false
   },
   "outputs": [],
   "source": [
    "from sklearn import cross_validation\n",
    "from sklearn.ensemble import VotingClassifier\n",
    "eclf4comp = VotingClassifier(estimators=[('lr', clfLasso), ('lda', clf2), ('qda', clf3),('tree', clf5)], voting='soft')\n",
    "eclf4comp.fit(X_train, y_train)\n",
    "run_model(eclf4comp)"
   ]
  },
  {
   "cell_type": "code",
   "execution_count": null,
   "metadata": {
    "collapsed": false
   },
   "outputs": [],
   "source": [
    "plot_roc(eclf4comp)"
   ]
  },
  {
   "cell_type": "code",
   "execution_count": 67,
   "metadata": {
    "collapsed": true
   },
   "outputs": [],
   "source": [
    "def plot_roc2000(model):\n",
    "    model.fit(X_train, y_train)\n",
    "    predictions = model.predict_proba(X_test)\n",
    "    predictions = [x[1] for x in predictions]\n",
    "    false_positive_rate, true_positive_rate, thresholds = roc_curve(y_test, predictions)\n",
    "    roc_auc = auc(false_positive_rate, true_positive_rate)\n",
    "    plt.title('Receiver Operating Characteristic')\n",
    "    plt.plot(false_positive_rate, true_positive_rate, 'b',\n",
    "    label='Logistic with Lasso AUC = %0.2f'% roc_auc)\n",
    "    plt.legend(loc='lower right')\n",
    "    test1 = plt.plot([0,1],[0,1],'r--')\n",
    "    plt.xlim([-0.1,1.2])\n",
    "    plt.ylim([-0.1,1.2])\n",
    "    plt.ylabel('True Positive Rate')\n",
    "    plt.xlabel('False Positive Rate')"
   ]
  },
  {
   "cell_type": "code",
   "execution_count": 68,
   "metadata": {
    "collapsed": true
   },
   "outputs": [],
   "source": [
    "def plot_roc3000(model):\n",
    "    model.fit(X_train, y_train)\n",
    "    predictions = model.predict_proba(X_test)\n",
    "    predictions = [x[1] for x in predictions]\n",
    "    false_positive_rate, true_positive_rate, thresholds = roc_curve(y_test, predictions)\n",
    "    roc_auc = auc(false_positive_rate, true_positive_rate)\n",
    "    plt.title('Receiver Operating Characteristic')\n",
    "    plt.plot(false_positive_rate, true_positive_rate, 'g',\n",
    "    label='LDA AUC = %0.2f'% roc_auc)\n",
    "    plt.legend(loc='lower right')\n",
    "    plt.plot([0,1],[0,1],'r--')\n",
    "    plt.xlim([-0.1,1.2])\n",
    "    plt.ylim([-0.1,1.2])\n",
    "    plt.ylabel('True Positive Rate')\n",
    "    plt.xlabel('False Positive Rate')"
   ]
  },
  {
   "cell_type": "code",
   "execution_count": 69,
   "metadata": {
    "collapsed": true
   },
   "outputs": [],
   "source": [
    "def plot_roc4000(model):\n",
    "    model.fit(X_train, y_train)\n",
    "    predictions = model.predict_proba(X_test)\n",
    "    predictions = [x[1] for x in predictions]\n",
    "    false_positive_rate, true_positive_rate, thresholds = roc_curve(y_test, predictions)\n",
    "    roc_auc = auc(false_positive_rate, true_positive_rate)\n",
    "    plt.title('Receiver Operating Characteristic')\n",
    "    plt.plot(false_positive_rate, true_positive_rate, 'y',\n",
    "    label='QDA AUC = %0.2f'% roc_auc)\n",
    "    plt.legend(loc='lower right')\n",
    "    plt.plot([0,1],[0,1],'r--')\n",
    "    plt.xlim([-0.1,1.2])\n",
    "    plt.ylim([-0.1,1.2])\n",
    "    plt.ylabel('True Positive Rate')\n",
    "    plt.xlabel('False Positive Rate')"
   ]
  },
  {
   "cell_type": "code",
   "execution_count": 70,
   "metadata": {
    "collapsed": true
   },
   "outputs": [],
   "source": [
    "def plot_roc5000(model):\n",
    "    model.fit(X_train, y_train)\n",
    "    predictions = model.predict_proba(X_test)\n",
    "    predictions = [x[1] for x in predictions]\n",
    "    false_positive_rate, true_positive_rate, thresholds = roc_curve(y_test, predictions)\n",
    "    roc_auc = auc(false_positive_rate, true_positive_rate)\n",
    "    plt.title('Receiver Operating Characteristic')\n",
    "    plt.plot(false_positive_rate, true_positive_rate, 'r',\n",
    "    label='Random Forest AUC = %0.2f'% roc_auc)\n",
    "    plt.legend(loc='lower right')\n",
    "    plt.plot([0,1],[0,1],'r--')\n",
    "    plt.xlim([-0.1,1.2])\n",
    "    plt.ylim([-0.1,1.2])\n",
    "    plt.ylabel('True Positive Rate')\n",
    "    plt.xlabel('False Positive Rate')"
   ]
  },
  {
   "cell_type": "code",
   "execution_count": 71,
   "metadata": {
    "collapsed": false
   },
   "outputs": [
    {
     "data": {
      "image/png": "[encoded data removed]",
      "text/plain": [
       "<matplotlib.figure.Figure at 0x10b8e9860>"
      ]
     },
     "metadata": {},
     "output_type": "display_data"
    }
   ],
   "source": [
    "plot_roc2000(clfLasso)\n",
    "plot_roc3000(clf2)\n",
    "plot_roc4000(clf3)\n",
    "plot_roc5000(clf5)"
   ]
  },
  {
   "cell_type": "code",
   "execution_count": null,
   "metadata": {
    "collapsed": true
   },
   "outputs": [],
   "source": []
  }
 ],
 "metadata": {
  "kernelspec": {
   "display_name": "Python 3",
   "language": "python",
   "name": "python3"
  },
  "language_info": {
   "codemirror_mode": {
    "name": "ipython",
    "version": 3
   },
   "file_extension": ".py",
   "mimetype": "text/x-python",
   "name": "python",
   "nbconvert_exporter": "python",
   "pygments_lexer": "ipython3",
   "version": "3.5.1"
  }
 },
 "nbformat": 4,
 "nbformat_minor": 0
}
