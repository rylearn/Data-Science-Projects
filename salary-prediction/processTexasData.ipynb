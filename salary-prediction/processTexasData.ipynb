{
 "cells": [
  {
   "cell_type": "markdown",
   "metadata": {},
   "source": [
    "# EE361M Project - Predicting Engineering Salaries - Preprocessing"
   ]
  },
  {
   "cell_type": "code",
   "execution_count": 1,
   "metadata": {
    "collapsed": true
   },
   "outputs": [],
   "source": [
    "import pandas as pd"
   ]
  },
  {
   "cell_type": "code",
   "execution_count": 2,
   "metadata": {
    "collapsed": true
   },
   "outputs": [],
   "source": [
    "df = pd.read_csv(\"ss13pusb.csv\")"
   ]
  },
  {
   "cell_type": "code",
   "execution_count": 3,
   "metadata": {
    "collapsed": false
   },
   "outputs": [
    {
     "data": {
      "text/plain": [
       "(1519123, 283)"
      ]
     },
     "execution_count": 3,
     "metadata": {},
     "output_type": "execute_result"
    }
   ],
   "source": [
    "df.shape"
   ]
  },
  {
   "cell_type": "code",
   "execution_count": 4,
   "metadata": {
    "collapsed": false
   },
   "outputs": [
    {
     "data": {
      "text/plain": [
       "(75606, 283)"
      ]
     },
     "execution_count": 4,
     "metadata": {},
     "output_type": "execute_result"
    }
   ],
   "source": [
    "df = df[df['ST'] == 48]\n",
    "df.shape"
   ]
  },
  {
   "cell_type": "code",
   "execution_count": 31,
   "metadata": {
    "collapsed": true
   },
   "outputs": [],
   "source": [
    "df.to_csv('texasPopData.csv')"
   ]
  },
  {
   "cell_type": "code",
   "execution_count": 32,
   "metadata": {
    "collapsed": true
   },
   "outputs": [],
   "source": [
    "df2 = pd.read_csv('texasPopData.csv')"
   ]
  },
  {
   "cell_type": "code",
   "execution_count": 33,
   "metadata": {
    "collapsed": false
   },
   "outputs": [
    {
     "data": {
      "text/html": [
       "<div>\n",
       "<table border=\"1\" class=\"dataframe\">\n",
       "  <thead>\n",
       "    <tr style=\"text-align: right;\">\n",
       "      <th></th>\n",
       "      <th>Unnamed: 0</th>\n",
       "      <th>RT</th>\n",
       "      <th>SERIALNO</th>\n",
       "      <th>SPORDER</th>\n",
       "      <th>PUMA</th>\n",
       "      <th>ST</th>\n",
       "      <th>ADJINC</th>\n",
       "      <th>PWGTP</th>\n",
       "      <th>AGEP</th>\n",
       "      <th>CIT</th>\n",
       "      <th>...</th>\n",
       "      <th>pwgtp71</th>\n",
       "      <th>pwgtp72</th>\n",
       "      <th>pwgtp73</th>\n",
       "      <th>pwgtp74</th>\n",
       "      <th>pwgtp75</th>\n",
       "      <th>pwgtp76</th>\n",
       "      <th>pwgtp77</th>\n",
       "      <th>pwgtp78</th>\n",
       "      <th>pwgtp79</th>\n",
       "      <th>pwgtp80</th>\n",
       "    </tr>\n",
       "  </thead>\n",
       "  <tbody>\n",
       "    <tr>\n",
       "      <th>0</th>\n",
       "      <td>994880</td>\n",
       "      <td>P</td>\n",
       "      <td>13</td>\n",
       "      <td>1</td>\n",
       "      <td>5301</td>\n",
       "      <td>48</td>\n",
       "      <td>1007549</td>\n",
       "      <td>77</td>\n",
       "      <td>35</td>\n",
       "      <td>1</td>\n",
       "      <td>...</td>\n",
       "      <td>74</td>\n",
       "      <td>82</td>\n",
       "      <td>83</td>\n",
       "      <td>132</td>\n",
       "      <td>91</td>\n",
       "      <td>23</td>\n",
       "      <td>67</td>\n",
       "      <td>20</td>\n",
       "      <td>22</td>\n",
       "      <td>76</td>\n",
       "    </tr>\n",
       "    <tr>\n",
       "      <th>1</th>\n",
       "      <td>994881</td>\n",
       "      <td>P</td>\n",
       "      <td>13</td>\n",
       "      <td>2</td>\n",
       "      <td>5301</td>\n",
       "      <td>48</td>\n",
       "      <td>1007549</td>\n",
       "      <td>73</td>\n",
       "      <td>35</td>\n",
       "      <td>1</td>\n",
       "      <td>...</td>\n",
       "      <td>67</td>\n",
       "      <td>92</td>\n",
       "      <td>83</td>\n",
       "      <td>132</td>\n",
       "      <td>82</td>\n",
       "      <td>23</td>\n",
       "      <td>66</td>\n",
       "      <td>20</td>\n",
       "      <td>19</td>\n",
       "      <td>70</td>\n",
       "    </tr>\n",
       "    <tr>\n",
       "      <th>2</th>\n",
       "      <td>994882</td>\n",
       "      <td>P</td>\n",
       "      <td>13</td>\n",
       "      <td>3</td>\n",
       "      <td>5301</td>\n",
       "      <td>48</td>\n",
       "      <td>1007549</td>\n",
       "      <td>77</td>\n",
       "      <td>7</td>\n",
       "      <td>1</td>\n",
       "      <td>...</td>\n",
       "      <td>67</td>\n",
       "      <td>86</td>\n",
       "      <td>87</td>\n",
       "      <td>152</td>\n",
       "      <td>105</td>\n",
       "      <td>25</td>\n",
       "      <td>63</td>\n",
       "      <td>22</td>\n",
       "      <td>23</td>\n",
       "      <td>68</td>\n",
       "    </tr>\n",
       "    <tr>\n",
       "      <th>3</th>\n",
       "      <td>994883</td>\n",
       "      <td>P</td>\n",
       "      <td>13</td>\n",
       "      <td>4</td>\n",
       "      <td>5301</td>\n",
       "      <td>48</td>\n",
       "      <td>1007549</td>\n",
       "      <td>77</td>\n",
       "      <td>6</td>\n",
       "      <td>1</td>\n",
       "      <td>...</td>\n",
       "      <td>68</td>\n",
       "      <td>86</td>\n",
       "      <td>87</td>\n",
       "      <td>151</td>\n",
       "      <td>105</td>\n",
       "      <td>24</td>\n",
       "      <td>62</td>\n",
       "      <td>20</td>\n",
       "      <td>23</td>\n",
       "      <td>68</td>\n",
       "    </tr>\n",
       "    <tr>\n",
       "      <th>4</th>\n",
       "      <td>994884</td>\n",
       "      <td>P</td>\n",
       "      <td>17</td>\n",
       "      <td>1</td>\n",
       "      <td>4503</td>\n",
       "      <td>48</td>\n",
       "      <td>1007549</td>\n",
       "      <td>136</td>\n",
       "      <td>36</td>\n",
       "      <td>3</td>\n",
       "      <td>...</td>\n",
       "      <td>148</td>\n",
       "      <td>74</td>\n",
       "      <td>138</td>\n",
       "      <td>35</td>\n",
       "      <td>99</td>\n",
       "      <td>36</td>\n",
       "      <td>61</td>\n",
       "      <td>53</td>\n",
       "      <td>26</td>\n",
       "      <td>98</td>\n",
       "    </tr>\n",
       "  </tbody>\n",
       "</table>\n",
       "<p>5 rows × 284 columns</p>\n",
       "</div>"
      ],
      "text/plain": [
       "   Unnamed: 0 RT  SERIALNO  SPORDER  PUMA  ST   ADJINC  PWGTP  AGEP  CIT  \\\n",
       "0      994880  P        13        1  5301  48  1007549     77    35    1   \n",
       "1      994881  P        13        2  5301  48  1007549     73    35    1   \n",
       "2      994882  P        13        3  5301  48  1007549     77     7    1   \n",
       "3      994883  P        13        4  5301  48  1007549     77     6    1   \n",
       "4      994884  P        17        1  4503  48  1007549    136    36    3   \n",
       "\n",
       "    ...     pwgtp71  pwgtp72  pwgtp73  pwgtp74  pwgtp75  pwgtp76  pwgtp77  \\\n",
       "0   ...          74       82       83      132       91       23       67   \n",
       "1   ...          67       92       83      132       82       23       66   \n",
       "2   ...          67       86       87      152      105       25       63   \n",
       "3   ...          68       86       87      151      105       24       62   \n",
       "4   ...         148       74      138       35       99       36       61   \n",
       "\n",
       "   pwgtp78  pwgtp79  pwgtp80  \n",
       "0       20       22       76  \n",
       "1       20       19       70  \n",
       "2       22       23       68  \n",
       "3       20       23       68  \n",
       "4       53       26       98  \n",
       "\n",
       "[5 rows x 284 columns]"
      ]
     },
     "execution_count": 33,
     "metadata": {},
     "output_type": "execute_result"
    }
   ],
   "source": [
    "df2.head()"
   ]
  },
  {
   "cell_type": "code",
   "execution_count": 34,
   "metadata": {
    "collapsed": false
   },
   "outputs": [
    {
     "data": {
      "text/plain": [
       "(253599, 284)"
      ]
     },
     "execution_count": 34,
     "metadata": {},
     "output_type": "execute_result"
    }
   ],
   "source": [
    "df2.shape"
   ]
  },
  {
   "cell_type": "code",
   "execution_count": null,
   "metadata": {
    "collapsed": true
   },
   "outputs": [],
   "source": []
  }
 ],
 "metadata": {
  "kernelspec": {
   "display_name": "Python 3",
   "language": "python",
   "name": "python3"
  },
  "language_info": {
   "codemirror_mode": {
    "name": "ipython",
    "version": 3
   },
   "file_extension": ".py",
   "mimetype": "text/x-python",
   "name": "python",
   "nbconvert_exporter": "python",
   "pygments_lexer": "ipython3",
   "version": "3.5.1"
  }
 },
 "nbformat": 4,
 "nbformat_minor": 0
}
