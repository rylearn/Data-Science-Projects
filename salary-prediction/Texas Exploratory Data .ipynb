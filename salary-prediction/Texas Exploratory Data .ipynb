{
 "cells": [
  {
   "cell_type": "markdown",
   "metadata": {},
   "source": [
    "# EE361M Project - Predicting Engineering Salaries - Preprocessing"
   ]
  },
  {
   "cell_type": "code",
   "execution_count": 41,
   "metadata": {
    "collapsed": false
   },
   "outputs": [],
   "source": [
    "# Import here\n",
    "import pandas as pd\n",
    "import numpy as np\n",
    "import seaborn as sns\n",
    "sns.set(style='ticks', palette='Set2')\n",
    "from mpl_toolkits.mplot3d import axes3d\n",
    "import matplotlib.pyplot as plt\n",
    "from scipy.stats import multivariate_normal\n",
    "%matplotlib inline"
   ]
  },
  {
   "cell_type": "code",
   "execution_count": 42,
   "metadata": {
    "collapsed": false
   },
   "outputs": [
    {
     "data": {
      "text/plain": [
       "(253599, 284)"
      ]
     },
     "execution_count": 42,
     "metadata": {},
     "output_type": "execute_result"
    }
   ],
   "source": [
    "# Pull data here\n",
    "popData = pd.read_csv(\"texasPopData.csv\")\n",
    "popData.shape"
   ]
  },
  {
   "cell_type": "code",
   "execution_count": 43,
   "metadata": {
    "collapsed": false,
    "scrolled": true
   },
   "outputs": [
    {
     "data": {
      "text/plain": [
       "(113080, 232)"
      ]
     },
     "execution_count": 43,
     "metadata": {},
     "output_type": "execute_result"
    }
   ],
   "source": [
    "houseData = pd.read_csv(\"texasHousingData.csv\")\n",
    "houseData.shape"
   ]
  },
  {
   "cell_type": "markdown",
   "metadata": {},
   "source": [
    "## Histogram of the Incomes"
   ]
  },
  {
   "cell_type": "code",
   "execution_count": 44,
   "metadata": {
    "collapsed": false
   },
   "outputs": [],
   "source": [
    "del(popData['ADJINC'])\n",
    "x86 = popData.merge(houseData, left_on = 'SERIALNO', right_on = 'SERIALNO', how = 'inner', copy = False)"
   ]
  },
  {
   "cell_type": "code",
   "execution_count": 45,
   "metadata": {
    "collapsed": false
   },
   "outputs": [
    {
     "data": {
      "text/plain": [
       "33210"
      ]
     },
     "execution_count": 45,
     "metadata": {},
     "output_type": "execute_result"
    }
   ],
   "source": [
    "x1 = x86[x86['HINCP']>0]\n",
    "x1.shape\n",
    "np.isnan(x1['PARTNER'])\n",
    "x1['FINCP'].isnull().sum()"
   ]
  },
  {
   "cell_type": "code",
   "execution_count": 46,
   "metadata": {
    "collapsed": false
   },
   "outputs": [
    {
     "data": {
      "text/plain": [
       "count     240663.000000\n",
       "mean       83914.949024\n",
       "std        86035.573868\n",
       "min            1.000000\n",
       "1%          3230.000000\n",
       "2.5%        7300.000000\n",
       "25%        32550.000000\n",
       "50%        61000.000000\n",
       "75%       105000.000000\n",
       "97.5%     343680.000000\n",
       "99%       448000.000000\n",
       "max      1354000.000000\n",
       "Name: HINCP, dtype: float64"
      ]
     },
     "execution_count": 46,
     "metadata": {},
     "output_type": "execute_result"
    }
   ],
   "source": [
    "#x1['HINCP'].mean()\n",
    "x1['HINCP'].describe(percentiles=[0.01, .025, .25, .5, .75, .975, 0.99])"
   ]
  },
  {
   "cell_type": "code",
   "execution_count": 47,
   "metadata": {
    "collapsed": false
   },
   "outputs": [
    {
     "data": {
      "text/plain": [
       "(170919, 514)"
      ]
     },
     "execution_count": 47,
     "metadata": {},
     "output_type": "execute_result"
    }
   ],
   "source": [
    "newTotal = x86[x86['PINCP'] > 0]\n",
    "newTotal.shape"
   ]
  },
  {
   "cell_type": "code",
   "execution_count": 48,
   "metadata": {
    "collapsed": true
   },
   "outputs": [],
   "source": [
    "import matplotlib.mlab as mlab\n",
    "import math"
   ]
  },
  {
   "cell_type": "code",
   "execution_count": 49,
   "metadata": {
    "collapsed": false,
    "scrolled": false
   },
   "outputs": [
    {
     "name": "stdout",
     "output_type": "stream",
     "text": [
      "170919\n"
     ]
    },
    {
     "data": {
      "image/png": "[encoded data removed]",
      "text/plain": [
       "<matplotlib.figure.Figure at 0x10fd2a080>"
      ]
     },
     "metadata": {},
     "output_type": "display_data"
    }
   ],
   "source": [
    "# Adjust incomes without weights\n",
    "\n",
    "newTotal = x86[x86['PINCP'] > 0]\n",
    "#newIncomes = newIncomes.dropna()\n",
    "#newIncomes = newIncomes [newIncomes > 0] # ignoring incomes of 0\n",
    "newIncomes = newTotal['PINCP']\n",
    "newIncomes = np.log(newIncomes.values)\n",
    "print(newIncomes.size)\n",
    "\n",
    "fig = plt.figure()\n",
    "temp = fig.add_subplot(111) \n",
    "temp.set_title('Frequency of Income Brackets in Texas')\n",
    "temp.set_xlim(0, 20)\n",
    "#temp.set_ylim(0, 10000)\n",
    "\n",
    "sns.distplot(newIncomes, kde=False, bins=100, hist_kws={'weights':newTotal['PWGTP']}, ax = temp, axlabel = \"Natural Log of Income\")\n",
    "sns.despine()"
   ]
  },
  {
   "cell_type": "code",
   "execution_count": 50,
   "metadata": {
    "collapsed": false
   },
   "outputs": [
    {
     "name": "stdout",
     "output_type": "stream",
     "text": [
      "10.0000301162\n",
      "1.69867461434\n"
     ]
    },
    {
     "data": {
      "image/png": "[encoded data removed]",
      "text/plain": [
       "<matplotlib.figure.Figure at 0x10fd2a3c8>"
      ]
     },
     "metadata": {},
     "output_type": "display_data"
    }
   ],
   "source": [
    "mean = newIncomes.mean()\n",
    "print(mean)\n",
    "variance = newIncomes.var()\n",
    "print(variance)\n",
    "sigma = np.sqrt(variance)\n",
    "plt.plot(newIncomes,mlab.normpdf(newIncomes,mean,sigma))\n",
    "\n",
    "plt.show()"
   ]
  },
  {
   "cell_type": "code",
   "execution_count": 51,
   "metadata": {
    "collapsed": false
   },
   "outputs": [
    {
     "ename": "AttributeError",
     "evalue": "'numpy.ndarray' object has no attribute 'describe'",
     "output_type": "error",
     "traceback": [
      "\u001b[0;31m---------------------------------------------------------------------------\u001b[0m",
      "\u001b[0;31mAttributeError\u001b[0m                            Traceback (most recent call last)",
      "\u001b[0;32m<ipython-input-51-42504792e959>\u001b[0m in \u001b[0;36m<module>\u001b[0;34m()\u001b[0m\n\u001b[0;32m----> 1\u001b[0;31m \u001b[0mnewIncomes\u001b[0m\u001b[0;34m.\u001b[0m\u001b[0mdescribe\u001b[0m\u001b[0;34m(\u001b[0m\u001b[0mpercentiles\u001b[0m\u001b[0;34m=\u001b[0m\u001b[0;34m[\u001b[0m\u001b[0;36m0.01\u001b[0m\u001b[0;34m,\u001b[0m \u001b[0;36m.025\u001b[0m\u001b[0;34m,\u001b[0m \u001b[0;36m.25\u001b[0m\u001b[0;34m,\u001b[0m \u001b[0;36m.5\u001b[0m\u001b[0;34m,\u001b[0m \u001b[0;36m.75\u001b[0m\u001b[0;34m,\u001b[0m \u001b[0;36m.975\u001b[0m\u001b[0;34m,\u001b[0m \u001b[0;36m0.99\u001b[0m\u001b[0;34m]\u001b[0m\u001b[0;34m)\u001b[0m\u001b[0;34m\u001b[0m\u001b[0m\n\u001b[0m",
      "\u001b[0;31mAttributeError\u001b[0m: 'numpy.ndarray' object has no attribute 'describe'"
     ]
    }
   ],
   "source": [
    "newIncomes.describe(percentiles=[0.01, .025, .25, .5, .75, .975, 0.99])"
   ]
  },
  {
   "cell_type": "code",
   "execution_count": null,
   "metadata": {
    "collapsed": false
   },
   "outputs": [],
   "source": [
    "#plt.boxplot(newIncomes, 0, 'rs', 0)\n",
    "#plt.boxplot(newIncomes, 0, 'rs', 0, 0.75)\n",
    "#fig = plt.figure()\n",
    "#temp = fig.add_subplot(111) \n",
    "#temp.set_title('Frequency of Income Brackets in Texas')\n",
    "#temp.set_xlim(0, 200000)\n",
    "\n",
    "#plt.figure()\n",
    "#plt.boxplot(data)\n",
    "\n",
    "#plt.boxplot(newIncomes, 0, '')\n",
    "#plt.boxplot(newIncomes, 0, 'gD')"
   ]
  },
  {
   "cell_type": "code",
   "execution_count": null,
   "metadata": {
    "collapsed": false
   },
   "outputs": [],
   "source": [
    "import plotly.plotly as py\n",
    "import plotly.graph_objs as go"
   ]
  },
  {
   "cell_type": "code",
   "execution_count": 15,
   "metadata": {
    "collapsed": true
   },
   "outputs": [],
   "source": [
    "import plotly.plotly as py\n",
    "py.sign_in('stanj', 'txwthlkcd7')"
   ]
  },
  {
   "cell_type": "code",
   "execution_count": null,
   "metadata": {
    "collapsed": false
   },
   "outputs": [],
   "source": [
    "newData = x86[x86['ESR'].isin([1,4])] \n",
    "targetIncome = newData[newData['OCCP']==10] # CHIEF EXECUTIVES AND LEGISLATORS\n",
    "targetIncome7 = newData[newData['OCCP']==110] # .MGR-COMPUTER AND INFORMATION SYSTEMS MANAGERS\n",
    "targetIncome12 = newData[newData['OCCP']==3010] # .MED-DENTISTS\n",
    "\n",
    "targetIncome13 = newData[newData['OCCP']==3060] # .MED-PHYSICIANS AND SURGEONS\n",
    "targetIncome14 = newData[newData['OCCP']==3256] # .MED-NURSE ANESTHETISTS\n",
    "targetIncome16 = newData[newData['OCCP']==4930] # .SAL-SALES ENGINEERS\n",
    "targetIncome21 = newData[newData['OCCP']==1350] # .ENG-CHEMICAL ENGINEERS\n",
    "targetIncome22 = newData[newData['OCCP']==1400] # .ENG-COMPUTER HARDWARE ENGINEERS\n",
    "targetIncome23 = newData[newData['OCCP']==1410] # .ENG-ELECTRICAL AND ELECTRONICS ENGINEERS\n",
    "targetIncome24 = newData[newData['OCCP']==1520] # .ENG-PETROLEUM, MINING AND GEOLOGICAL ENGINEERS, INCLUDING\n",
    "                #.MINING SAFETY ENGINEERS\n",
    "targetIncome25 = newData[newData['OCCP']==9030] # .TRN-AIR TRAFFIC CONTROLLERS\n",
    "print(targetIncome25.shape)\n",
    "targetIncome26 = newData[newData['OCCP']==3050]\n",
    "\n",
    "\n",
    "y0 = targetIncome['PINCP']\n",
    "y6 = targetIncome7['PINCP']\n",
    "y11 = targetIncome12['PINCP']\n",
    "y12 = targetIncome13['PINCP']\n",
    "y13 = targetIncome14['PINCP']\n",
    "y15 = targetIncome16['PINCP']\n",
    "y20 = targetIncome21['PINCP']\n",
    "y21 = targetIncome22['PINCP']\n",
    "y22 = targetIncome23['PINCP']\n",
    "y23 = targetIncome24['PINCP']\n",
    "y24 = targetIncome25['PINCP']\n",
    "y25 = targetIncome26['PINCP']\n",
    "\n",
    "ceos = go.Box(\n",
    "    name='CEOs, LEGISLATORS',\n",
    "    y=y0\n",
    ")\n",
    "managers6 = go.Box(\n",
    "    name='COMPUTER MANAGERS',\n",
    "    y=y6\n",
    ")\n",
    "fin2 = go.Box(\n",
    "    name='DENTISTS',\n",
    "    y=y11\n",
    ")\n",
    "ab = go.Box(\n",
    "    name='PHYSICIANS, SURGEONS',\n",
    "    y=y12\n",
    ")\n",
    "abc = go.Box(\n",
    "    name='NURSE ANESTHETISTS',\n",
    "    y=y13\n",
    ")\n",
    "abcde = go.Box(\n",
    "    name='SALES ENGINEERS',\n",
    "    y=y15\n",
    ")\n",
    "abcde1 = go.Box(\n",
    "    name='CHEMICAL ENGINEERS',\n",
    "    y=y20\n",
    ")\n",
    "abcdef1 = go.Box(\n",
    "    name='COMPUTER HARDWARE',\n",
    "    y=y21\n",
    ")\n",
    "\n",
    "ab2 = go.Box(\n",
    "    name='ELECTRICAL ENGINEERS',\n",
    "    y=y22\n",
    ")\n",
    "abc2 = go.Box(\n",
    "    name='PETROLEUM ENGINEERS',\n",
    "    y=y23\n",
    ")\n",
    "abcd2 = go.Box(\n",
    "    name='AIR TRAFFIC CONTROLLERS', # econ taken out\n",
    "    y=y24\n",
    ")\n",
    "abcdkj2 = go.Box(\n",
    "    name='PHARMACISTS',\n",
    "    y=y25\n",
    ")\n",
    "data = [ceos, managers6, fin2, ab, abc, abcde, abcde1, abcdef1, ab2, abc2, abcd2, abcdkj2]\n",
    "plot_url = py.plot(data, filename='basic-box-plot')"
   ]
  },
  {
   "cell_type": "code",
   "execution_count": null,
   "metadata": {
    "collapsed": true
   },
   "outputs": [],
   "source": [
    "pieChart = popData[popData['PINCP']>100000]"
   ]
  },
  {
   "cell_type": "code",
   "execution_count": null,
   "metadata": {
    "collapsed": false
   },
   "outputs": [],
   "source": [
    "divorce = pieChart[pieChart['MAR']==1]\n",
    "divorce2 = pieChart[pieChart['MAR']==2]\n",
    "divorce3 = pieChart[pieChart['MAR']==3]\n",
    "divorce4 = pieChart[pieChart['MAR']==4]\n",
    "divorce5 = pieChart[pieChart['MAR']==5]\n",
    "countMarried = divorce['MAR'].count()\n",
    "countWidowed = divorce2['MAR'].count()\n",
    "countDivorced = divorce3['MAR'].count()\n",
    "countSeparated = divorce4['MAR'].count()\n",
    "countNeverMarried = divorce5['MAR'].count()\n",
    "print(countMarried)\n",
    "print(countWidowed)\n",
    "print(countDivorced)\n",
    "print(countSeparated)\n",
    "print(countNeverMarried)"
   ]
  },
  {
   "cell_type": "code",
   "execution_count": null,
   "metadata": {
    "collapsed": true
   },
   "outputs": [],
   "source": [
    "fig = {\n",
    "    'data': [{'labels': ['Married', 'Widowed', 'Divorced', 'Separated', 'NeverMarried'],\n",
    "              'values': [countMarried, countWidowed, countDivorced, countSeparated, countNeverMarried],\n",
    "              'type': 'pie'}],\n",
    "    'layout': {'title': 'Marital Status of >100k earners in Texas'}\n",
    "}\n",
    "\n",
    "url = py.plot(fig, filename='Pie Chart Example')"
   ]
  },
  {
   "cell_type": "code",
   "execution_count": null,
   "metadata": {
    "collapsed": true
   },
   "outputs": [],
   "source": [
    "pieChart2 = popData[popData['PINCP']>10000]\n",
    "pieChart2 = pieChart2[pieChart2['PINCP']<100000]"
   ]
  },
  {
   "cell_type": "code",
   "execution_count": null,
   "metadata": {
    "collapsed": false
   },
   "outputs": [],
   "source": [
    "divorce = pieChart2[pieChart2['MAR']==1]\n",
    "divorce2 = pieChart2[pieChart2['MAR']==2]\n",
    "divorce3 = pieChart2[pieChart2['MAR']==3]\n",
    "divorce4 = pieChart2[pieChart2['MAR']==4]\n",
    "divorce5 = pieChart2[pieChart2['MAR']==5]\n",
    "countMarried = divorce['MAR'].count()\n",
    "countWidowed = divorce2['MAR'].count()\n",
    "countDivorced = divorce3['MAR'].count()\n",
    "countSeparated = divorce4['MAR'].count()\n",
    "countNeverMarried = divorce5['MAR'].count()\n",
    "print(countMarried)\n",
    "print(countWidowed)\n",
    "print(countDivorced)\n",
    "print(countSeparated)\n",
    "print(countNeverMarried)"
   ]
  },
  {
   "cell_type": "code",
   "execution_count": null,
   "metadata": {
    "collapsed": false
   },
   "outputs": [],
   "source": [
    "fig = {\n",
    "    'data': [{'labels': ['Married', 'Widowed', 'Divorced', 'Separated', 'NeverMarried'],\n",
    "              'values': [countMarried, countWidowed, countDivorced, countSeparated, countNeverMarried],\n",
    "              'type': 'pie'}],\n",
    "    'layout': {'title': 'Marital Status of <100k earners in Texas'}\n",
    "}\n",
    "\n",
    "url = py.plot(fig, filename='Pie Chart Example')"
   ]
  },
  {
   "cell_type": "code",
   "execution_count": 21,
   "metadata": {
    "collapsed": false
   },
   "outputs": [],
   "source": [
    "checkHouses = x86[x86['PINCP']>100000]\n",
    "tempHouse = tempHouse[tempHouse['VALP']<100000]\n",
    "num1_1 = tempHouse['VALP'].count()\n",
    "tempHouse = checkHouses[checkHouses['VALP']>100000]\n",
    "tempHouse = tempHouse[tempHouse['VALP']<200000]\n",
    "num2_1 = tempHouse['VALP'].count()\n",
    "tempHouse = checkHouses[checkHouses['VALP']>200000]\n",
    "tempHouse = tempHouse[tempHouse['VALP']<300000]\n",
    "num3_1 = tempHouse['VALP'].count()\n",
    "tempHouse = checkHouses[checkHouses['VALP']>300000]\n",
    "tempHouse = tempHouse[tempHouse['VALP']<400000]\n",
    "num4_1 = tempHouse['VALP'].count()\n",
    "tempHouse = checkHouses[checkHouses['VALP']>400000]\n",
    "tempHouse = tempHouse[tempHouse['VALP']<500000]\n",
    "num5_1 = tempHouse['VALP'].count()\n",
    "tempHouse = checkHouses[checkHouses['VALP']>500000]\n",
    "num6_1 = tempHouse['VALP'].count()"
   ]
  },
  {
   "cell_type": "code",
   "execution_count": 27,
   "metadata": {
    "collapsed": true
   },
   "outputs": [],
   "source": [
    "checkHouses = x86[x86['PINCP']>0]\n",
    "checkHouses = checkHouses[checkHouses['PINCP']<100000]\n",
    "tempHouse = checkHouses[checkHouses['VALP']>0]\n",
    "tempHouse = tempHouse[tempHouse['VALP']<100000]\n",
    "num1_1 = tempHouse['VALP'].count()\n",
    "tempHouse = checkHouses[checkHouses['VALP']>100000]\n",
    "tempHouse = tempHouse[tempHouse['VALP']<200000]\n",
    "num2_1 = tempHouse['VALP'].count()\n",
    "tempHouse = checkHouses[checkHouses['VALP']>200000]\n",
    "tempHouse = tempHouse[tempHouse['VALP']<300000]\n",
    "num3_1 = tempHouse['VALP'].count()\n",
    "tempHouse = checkHouses[checkHouses['VALP']>300000]\n",
    "tempHouse = tempHouse[tempHouse['VALP']<400000]\n",
    "num4_1 = tempHouse['VALP'].count()\n",
    "tempHouse = checkHouses[checkHouses['VALP']>400000]\n",
    "tempHouse = tempHouse[tempHouse['VALP']<500000]\n",
    "num5_1 = tempHouse['VALP'].count()\n",
    "tempHouse = checkHouses[checkHouses['VALP']>500000]\n",
    "num6_1 = tempHouse['VALP'].count()\n",
    "numTot1 = num1_1+num2_1+num3_1+num4_1+num5_1+num6_1"
   ]
  },
  {
   "cell_type": "code",
   "execution_count": 28,
   "metadata": {
    "collapsed": true
   },
   "outputs": [],
   "source": [
    "checkHouses = x86[x86['PINCP']>=100000]\n",
    "tempHouse = checkHouses[checkHouses['VALP']>0]\n",
    "tempHouse = tempHouse[tempHouse['VALP']<100000]\n",
    "num1 = tempHouse['VALP'].count()\n",
    "tempHouse = checkHouses[checkHouses['VALP']>100000]\n",
    "tempHouse = tempHouse[tempHouse['VALP']<200000]\n",
    "num2 = tempHouse['VALP'].count()\n",
    "tempHouse = checkHouses[checkHouses['VALP']>200000]\n",
    "tempHouse = tempHouse[tempHouse['VALP']<300000]\n",
    "num3 = tempHouse['VALP'].count()\n",
    "tempHouse = checkHouses[checkHouses['VALP']>300000]\n",
    "tempHouse = tempHouse[tempHouse['VALP']<400000]\n",
    "num4 = tempHouse['VALP'].count()\n",
    "tempHouse = checkHouses[checkHouses['VALP']>400000]\n",
    "tempHouse = tempHouse[tempHouse['VALP']<500000]\n",
    "num5 = tempHouse['VALP'].count()\n",
    "tempHouse = checkHouses[checkHouses['VALP']>500000]\n",
    "num6 = tempHouse['VALP'].count()\n",
    "numTot2 = num1+num2+num3+num4+num5+num6"
   ]
  },
  {
   "cell_type": "code",
   "execution_count": 40,
   "metadata": {
    "collapsed": false
   },
   "outputs": [],
   "source": [
    "trace1 = go.Bar(\n",
    "    x=['0 to 100k', '100k to 200k', '200k to 300k', '300k to 400k', '400k to 500k', 'More than 500k'],\n",
    "    y=[num1_1/numTot1*100, num2_1/numTot1*100, num3_1/numTot1*100, num4_1/numTot1*100, num5_1/numTot1*100, num6_1/numTot1*100],\n",
    "    name='Class that earns less than 100k'\n",
    ")\n",
    "trace2 = go.Bar(\n",
    "    x=['0 to 100k', '100k to 200k', '200k to 300k', '300k to 400k', '400k to 500k', 'More than 500k'],\n",
    "    y=[num1/numTot2*100, num2/numTot2*100, num3/numTot2*100, num4/numTot2*100, num5/numTot2*100, num6/numTot2*100],\n",
    "    name='Class that earns at least 100k'\n",
    ")\n",
    "data = [trace1, trace2]\n",
    "layout = go.Layout(\n",
    "    barmode='group',\n",
    "    title='Property Value for Two Classes of Earners in Texas',\n",
    ")\n",
    "fig = go.Figure(data=data, layout=layout)\n",
    "plot_url = py.plot(fig, filename='grouped-bar')"
   ]
  },
  {
   "cell_type": "code",
   "execution_count": 35,
   "metadata": {
    "collapsed": false
   },
   "outputs": [
    {
     "ename": "NameError",
     "evalue": "name 'targetIncome26' is not defined",
     "output_type": "error",
     "traceback": [
      "\u001b[0;31m---------------------------------------------------------------------------\u001b[0m",
      "\u001b[0;31mNameError\u001b[0m                                 Traceback (most recent call last)",
      "\u001b[0;32m<ipython-input-35-68f01acdafa5>\u001b[0m in \u001b[0;36m<module>\u001b[0;34m()\u001b[0m\n\u001b[0;32m----> 1\u001b[0;31m \u001b[0mtargetIncome26\u001b[0m\u001b[0;34m[\u001b[0m\u001b[0;34m'PINCP'\u001b[0m\u001b[0;34m]\u001b[0m\u001b[0;34m.\u001b[0m\u001b[0mdescribe\u001b[0m\u001b[0;34m(\u001b[0m\u001b[0;34m)\u001b[0m\u001b[0;34m\u001b[0m\u001b[0m\n\u001b[0m",
      "\u001b[0;31mNameError\u001b[0m: name 'targetIncome26' is not defined"
     ]
    }
   ],
   "source": [
    "targetIncome26['PINCP'].describe()"
   ]
  },
  {
   "cell_type": "code",
   "execution_count": null,
   "metadata": {
    "collapsed": false
   },
   "outputs": [],
   "source": [
    "newData = df[df['ESR'].isin([1,4])] \n",
    "print(newData.shape)\n",
    "newEmployedIncomes = newData['PINCP']\n",
    "newEmployedIncomes = newEmployedIncomes.dropna()\n",
    "newEmployedIncomes.describe(percentiles=[0.01, .025, .25, .5, .75, .975, 0.99])\n",
    "#plt.boxplot(newEmployedIncomes[newEmployedIncomes['OCCP']==10], 0, 'gD')\n",
    "\n",
    "#plt.figure()\n",
    "#plt.boxplot(data)"
   ]
  },
  {
   "cell_type": "code",
   "execution_count": null,
   "metadata": {
    "collapsed": false,
    "scrolled": true
   },
   "outputs": [],
   "source": [
    "from scipy import stats\n",
    "# This is general statistics on income greater than $0\n",
    "# Not weighted\n",
    "print(newEmployedIncomes.describe(percentiles=[0.01, .025, 0.20, .25, .5, .75, 0.8, 0.9, .975, 0.99]))\n",
    "stats.percentileofscore(newEmployedIncomes, 100000)"
   ]
  },
  {
   "cell_type": "markdown",
   "metadata": {},
   "source": [
    "## Scatter plots"
   ]
  },
  {
   "cell_type": "code",
   "execution_count": null,
   "metadata": {
    "collapsed": false
   },
   "outputs": [],
   "source": [
    "import math\n",
    "#tempNewData = newData[newData['OCCP'] == 20]\n",
    "\n",
    "x = newData['OCCP']/100\n",
    "x = x.round()\n",
    "\n",
    "type(x)\n",
    "\n",
    "\n",
    "#tempNewData['PINCP'].describe()\n",
    "\n",
    "#newData['FOD1P']\n",
    "#newData['FOD2P']\n",
    "#newData['FOD1P']\n",
    "#newData['INDP']"
   ]
  },
  {
   "cell_type": "code",
   "execution_count": 13,
   "metadata": {
    "collapsed": false
   },
   "outputs": [
    {
     "data": {
      "text/plain": [
       "<matplotlib.axes._subplots.AxesSubplot at 0x10b825cf8>"
      ]
     },
     "execution_count": 13,
     "metadata": {},
     "output_type": "execute_result"
    },
    {
     "data": {
      "image/png": "[encoded data removed]",
      "text/plain": [
       "<matplotlib.figure.Figure at 0x10b825160>"
      ]
     },
     "metadata": {},
     "output_type": "display_data"
    }
   ],
   "source": [
    "# Just to see scatter plots of relevant variables to predict income\n",
    "newIncome = x86[x86['PINCP']>0]\n",
    "sns.regplot(newIncome['OCPIP'], newIncome['PINCP'])"
   ]
  },
  {
   "cell_type": "code",
   "execution_count": null,
   "metadata": {
    "collapsed": false
   },
   "outputs": [],
   "source": [
    "sns.regplot(newIncome['SMOCP'], newIncome['PINCP'])"
   ]
  },
  {
   "cell_type": "code",
   "execution_count": null,
   "metadata": {
    "collapsed": false
   },
   "outputs": [],
   "source": [
    "sns.regplot(newIncome['TAXP'], newIncome['PINCP'])"
   ]
  },
  {
   "cell_type": "code",
   "execution_count": null,
   "metadata": {
    "collapsed": false
   },
   "outputs": [],
   "source": [
    "sns.regplot(newIncome['SCHL'], newIncome['PINCP'])"
   ]
  },
  {
   "cell_type": "code",
   "execution_count": null,
   "metadata": {
    "collapsed": false
   },
   "outputs": [],
   "source": [
    "sns.regplot(newIncome['GASP'], newIncome['PINCP'])"
   ]
  },
  {
   "cell_type": "code",
   "execution_count": null,
   "metadata": {
    "collapsed": false
   },
   "outputs": [],
   "source": [
    "quest = newIncome[newIncome['ELEP']>500]\n",
    "print(quest.shape)\n",
    "features = ['PINCP', 'SERIALNO', 'AGEP', 'SCHL', 'FOD1P', 'RMSP', 'RELP','GASP', 'ELEP', 'BLD']\n",
    "something = quest.copy()\n",
    "something = something[features]\n",
    "something"
   ]
  },
  {
   "cell_type": "code",
   "execution_count": null,
   "metadata": {
    "collapsed": false
   },
   "outputs": [],
   "source": [
    "sns.regplot(newIncome['ELEP'], newIncome['PINCP'])"
   ]
  },
  {
   "cell_type": "code",
   "execution_count": null,
   "metadata": {
    "collapsed": false
   },
   "outputs": [],
   "source": [
    "sns.regplot(newIncome['BDSP'], newIncome['PINCP'])"
   ]
  },
  {
   "cell_type": "code",
   "execution_count": null,
   "metadata": {
    "collapsed": false
   },
   "outputs": [],
   "source": [
    "sns.regplot(newIncome['FULP'], newIncome['PINCP'])"
   ]
  },
  {
   "cell_type": "code",
   "execution_count": null,
   "metadata": {
    "collapsed": false
   },
   "outputs": [],
   "source": [
    "sns.regplot(newIncome['VEH'], newIncome['PINCP'])"
   ]
  },
  {
   "cell_type": "code",
   "execution_count": null,
   "metadata": {
    "collapsed": false
   },
   "outputs": [],
   "source": [
    "sns.regplot(newIncome['RMSP'], newIncome['PINCP'])"
   ]
  },
  {
   "cell_type": "code",
   "execution_count": null,
   "metadata": {
    "collapsed": false
   },
   "outputs": [],
   "source": [
    "sns.regplot(newIncome['RNTP'], newIncome['PINCP'])"
   ]
  },
  {
   "cell_type": "code",
   "execution_count": null,
   "metadata": {
    "collapsed": false
   },
   "outputs": [],
   "source": [
    "sns.regplot(newIncome['GRNTP'], newIncome['PINCP'])"
   ]
  },
  {
   "cell_type": "code",
   "execution_count": 16,
   "metadata": {
    "collapsed": false
   },
   "outputs": [
    {
     "data": {
      "text/plain": [
       "<matplotlib.axes._subplots.AxesSubplot at 0x10fc4aeb8>"
      ]
     },
     "execution_count": 16,
     "metadata": {},
     "output_type": "execute_result"
    },
    {
     "data": {
      "image/png": "[encoded data removed]",
      "text/plain": [
       "<matplotlib.figure.Figure at 0x10d723f98>"
      ]
     },
     "metadata": {},
     "output_type": "display_data"
    }
   ],
   "source": [
    "sns.regplot(newIncome['VALP'], newIncome['PINCP'])"
   ]
  },
  {
   "cell_type": "code",
   "execution_count": null,
   "metadata": {
    "collapsed": false
   },
   "outputs": [],
   "source": [
    "sns.regplot(newIncome['RETP'], newIncome['PINCP'])"
   ]
  },
  {
   "cell_type": "code",
   "execution_count": null,
   "metadata": {
    "collapsed": false
   },
   "outputs": [],
   "source": [
    "sns.regplot(newIncome['RNTP'], newIncome['PINCP'])"
   ]
  },
  {
   "cell_type": "code",
   "execution_count": null,
   "metadata": {
    "collapsed": false
   },
   "outputs": [],
   "source": [
    "sns.regplot(newIncome['WATP'], newIncome['PINCP'])"
   ]
  },
  {
   "cell_type": "code",
   "execution_count": null,
   "metadata": {
    "collapsed": false
   },
   "outputs": [],
   "source": [
    "sns.regplot(newIncome['GRPIP'], newIncome['PINCP'])"
   ]
  },
  {
   "cell_type": "code",
   "execution_count": null,
   "metadata": {
    "collapsed": false
   },
   "outputs": [],
   "source": [
    "sns.regplot(newIncome['SMP'], newIncome['PINCP'])"
   ]
  },
  {
   "cell_type": "code",
   "execution_count": null,
   "metadata": {
    "collapsed": false
   },
   "outputs": [],
   "source": [
    "sns.regplot(newIncome['YBL'], newIncome['PINCP'])"
   ]
  },
  {
   "cell_type": "code",
   "execution_count": null,
   "metadata": {
    "collapsed": false
   },
   "outputs": [],
   "source": [
    "sns.regplot(newIncome['WAGP'], newIncome['PINCP'])"
   ]
  },
  {
   "cell_type": "code",
   "execution_count": null,
   "metadata": {
    "collapsed": false
   },
   "outputs": [],
   "source": [
    "sns.regplot(newIncome['INTP'], newIncome['SEMP'])"
   ]
  },
  {
   "cell_type": "markdown",
   "metadata": {},
   "source": [
    "## Simple Linear Regression "
   ]
  },
  {
   "cell_type": "code",
   "execution_count": 319,
   "metadata": {
    "collapsed": false
   },
   "outputs": [
    {
     "name": "stdout",
     "output_type": "stream",
     "text": [
      "(253599, 284)\n",
      "(202913, 284)\n"
     ]
    },
    {
     "data": {
      "text/plain": [
       "LinearRegression(copy_X=True, fit_intercept=True, n_jobs=1, normalize=False)"
      ]
     },
     "execution_count": 319,
     "metadata": {},
     "output_type": "execute_result"
    }
   ],
   "source": [
    "from sklearn.linear_model import LinearRegression\n",
    "\n",
    "print(df.shape)\n",
    "df = df[np.isfinite(df['SEMP'])]\n",
    "df = df[np.isfinite(df['PINCP'])]\n",
    "print(df.shape)\n",
    "\n",
    "clf = LinearRegression()\n",
    "clf.fit(df['SEMP'].reshape(-1, 1), df['PINCP'])"
   ]
  },
  {
   "cell_type": "code",
   "execution_count": 326,
   "metadata": {
    "collapsed": false
   },
   "outputs": [
    {
     "name": "stdout",
     "output_type": "stream",
     "text": [
      "On average, our prediction is off by a MEDV amount of: 7208.292046690878\n"
     ]
    }
   ],
   "source": [
    "from sklearn.cross_validation import train_test_split\n",
    "from sklearn.metrics import mean_squared_error\n",
    "\n",
    "df = df[np.isfinite(df['RETP'])]\n",
    "#df = df[np.isfinite(df['WAGP'])]\n",
    "\n",
    "y = df['PINCP'].values\n",
    "X = pd.DataFrame({ 'WAGP': df['WAGP'],\n",
    "                  'RETP': df['RETP'],\n",
    "                  'SEMP': df['SEMP'],\n",
    "                  'INTP': df['INTP']\n",
    "    })\n",
    "\n",
    "X = X.values\n",
    "\n",
    "X_train, X_test, y_train, y_test = train_test_split(X, y, test_size=0.33, random_state=42)\n",
    "clf.fit(X_train, y_train)\n",
    "predictions = clf.predict(X_test)\n",
    "rmse = np.sqrt(mean_squared_error(y_test, predictions))\n",
    "print(\"On average, our prediction is off by a MEDV amount of: {}\".format(rmse))"
   ]
  },
  {
   "cell_type": "code",
   "execution_count": 184,
   "metadata": {
    "collapsed": false
   },
   "outputs": [
    {
     "name": "stdout",
     "output_type": "stream",
     "text": [
      "Train MSE: 347296956.2049119\n",
      "Test MSE: 341305276.0223773\n"
     ]
    }
   ],
   "source": [
    "train_predictions = clf.predict(X_train)\n",
    "test_predictions = clf.predict(X_test)\n",
    "print(\"Train MSE: {}\".format(mean_squared_error(y_train, train_predictions)))\n",
    "print(\"Test MSE: {}\".format(mean_squared_error(y_test, test_predictions)))"
   ]
  },
  {
   "cell_type": "code",
   "execution_count": 185,
   "metadata": {
    "collapsed": false
   },
   "outputs": [
    {
     "name": "stdout",
     "output_type": "stream",
     "text": [
      "Coefficients: {'SEMP': 0.99843324599654215, 'WAGP': 1.285143893944708, 'RETP': 1.0523954909821795}\n"
     ]
    }
   ],
   "source": [
    "variables = ['WAGP', 'RETP', 'SEMP']\n",
    "print(\"Coefficients: {}\".format(dict(zip(variables, clf.coef_))))"
   ]
  },
  {
   "cell_type": "code",
   "execution_count": 186,
   "metadata": {
    "collapsed": false
   },
   "outputs": [
    {
     "data": {
      "image/png": "[encoded data removed]",
      "text/plain": [
       "<matplotlib.figure.Figure at 0x110773240>"
      ]
     },
     "metadata": {},
     "output_type": "display_data"
    }
   ],
   "source": [
    "residuals = y_train - train_predictions\n",
    "plt.title(\"Residual Plot\")\n",
    "sns.regplot(train_predictions, residuals)\n",
    "sns.despine()"
   ]
  },
  {
   "cell_type": "markdown",
   "metadata": {},
   "source": [
    "## Engineers"
   ]
  },
  {
   "cell_type": "code",
   "execution_count": 204,
   "metadata": {
    "collapsed": false
   },
   "outputs": [
    {
     "data": {
      "image/png": "[encoded data removed]",
      "text/plain": [
       "<matplotlib.figure.Figure at 0x10dd1fdd8>"
      ]
     },
     "metadata": {},
     "output_type": "display_data"
    }
   ],
   "source": [
    "temp1 = df['FOD1P']>=2400\n",
    "temp2 = df['FOD1P']<2500\n",
    "engee = df[temp1&temp2]\n",
    "engeeIncomes = engee['PINCP']\n",
    "engeeIncomes = engeeIncomes[engeeIncomes>0]\n",
    "sns.distplot(engeeIncomes, bins=100)\n",
    "sns.despine()"
   ]
  },
  {
   "cell_type": "code",
   "execution_count": 188,
   "metadata": {
    "collapsed": false
   },
   "outputs": [
    {
     "data": {
      "text/plain": [
       "count       4360.000000\n",
       "mean      107954.935321\n",
       "std       101478.770265\n",
       "min            1.000000\n",
       "1%          1783.600000\n",
       "2.5%        5200.000000\n",
       "25%        45000.000000\n",
       "50%        85000.000000\n",
       "75%       130000.000000\n",
       "97.5%     407610.000000\n",
       "99%       446000.000000\n",
       "max      1051000.000000\n",
       "Name: PINCP, dtype: float64"
      ]
     },
     "execution_count": 188,
     "metadata": {},
     "output_type": "execute_result"
    }
   ],
   "source": [
    "engeeIncomes.describe(percentiles=[0.01, .025, .25, .5, .75, .975, 0.99])"
   ]
  },
  {
   "cell_type": "code",
   "execution_count": 189,
   "metadata": {
    "collapsed": false
   },
   "outputs": [
    {
     "data": {
      "image/png": "[encoded data removed]",
      "text/plain": [
       "<matplotlib.figure.Figure at 0x1111d5ef0>"
      ]
     },
     "metadata": {},
     "output_type": "display_data"
    }
   ],
   "source": [
    "sns.countplot(x=\"INDP\", hue=\"FOD1P\", data=engee, order=engee['INDP'].value_counts().iloc[:10].index)\n",
    "sns.despine()"
   ]
  },
  {
   "cell_type": "markdown",
   "metadata": {},
   "source": [
    "7290 corresponds to .PRF-ARCHITECTURAL, ENGINEERING, AND RELATED SERVICES\n",
    "770 corresponds to .CON-CONSTRUCTION, INCL CLEANING DURING AND IMM AFTER\n",
    "7380 corresponds to .PRF-COMPUTER SYSTEMS DESIGN AND RELATED SERVICES\n",
    "3390 corresponds to .MFG-ELECTRONIC COMPONENTS AND PRODUCTS, N.E.C.\n",
    "490 corresponds to .EXT-SUPPORT ACTIVITIES FOR MINING\n",
    "7870 .EDU-COLLEGES, UNIVERSITIES, AND PROFESSIONAL SCHOOLS, .INCLUDING JUNIOR COLLEGES\n",
    "7390 .EDU-OTHER SCHOOLS AND INSTRUCTION, AND EDUCATIONAL SUPPORT .SERVICES\n",
    "2070 .MFG-PETROLEUM REFINING\n",
    "2290 .MFG-INDUSTRIAL AND MISCELLANEOUS CHEMICALS\n",
    "7860 .EDU-ELEMENTARY AND SECONDARY SCHOOLS"
   ]
  },
  {
   "cell_type": "markdown",
   "metadata": {},
   "source": [
    "## Multiple Linear Regression"
   ]
  },
  {
   "cell_type": "code",
   "execution_count": 440,
   "metadata": {
    "collapsed": false
   },
   "outputs": [
    {
     "name": "stdout",
     "output_type": "stream",
     "text": [
      "On average, our prediction is off by a MEDV amount of: 46535.75630905472\n"
     ]
    }
   ],
   "source": [
    "features = ['PINCP', 'RETP', 'SEMP', 'INTP']\n",
    "newDataSJ = df.copy()\n",
    "newDataSJ = df[features]\n",
    "#print(newDataSJ.shape)\n",
    "newDataSJ = newDataSJ[np.isfinite(newDataSJ['PINCP'])]\n",
    "#print(newDataSJ.shape)\n",
    "\n",
    "y = newDataSJ.PINCP\n",
    "del newDataSJ['PINCP']\n",
    "\n",
    "X_train, X_test, y_train, y_test = train_test_split(newDataSJ, y, test_size=0.33, random_state=42)\n",
    "clf.fit(X_train, y_train)\n",
    "predictions = clf.predict(X_test)\n",
    "rmse = np.sqrt(mean_squared_error(y_test, predictions))\n",
    "print(\"On average, our prediction is off by a MEDV amount of: {}\".format(rmse))"
   ]
  },
  {
   "cell_type": "code",
   "execution_count": 441,
   "metadata": {
    "collapsed": true
   },
   "outputs": [],
   "source": [
    "from sklearn.linear_model import LogisticRegression, LogisticRegressionCV\n",
    "from sklearn.metrics import confusion_matrix\n",
    "import matplotlib.pyplot as plt\n",
    "import numpy as np\n",
    "from __future__ import division\n",
    "from sklearn.metrics import roc_curve, auc\n",
    "%matplotlib inline"
   ]
  },
  {
   "cell_type": "code",
   "execution_count": 445,
   "metadata": {
    "collapsed": false
   },
   "outputs": [
    {
     "name": "stdout",
     "output_type": "stream",
     "text": [
      "(66962,)\n",
      "(66962,)\n",
      "62087\n",
      "257\n",
      "3325\n",
      "875\n",
      "[[62087   257]\n",
      " [ 3325   875]]\n",
      "Below 100000 Acc: [[ 0.99587771]]\n",
      "Above 100000 Acc: [[ 0.20833333]]\n",
      "Avg Acc: [[ 0.60210552]]\n"
     ]
    },
    {
     "data": {
      "image/png": "[encoded data removed]",
      "text/plain": [
       "<matplotlib.figure.Figure at 0x11647e978>"
      ]
     },
     "metadata": {},
     "output_type": "display_data"
    }
   ],
   "source": [
    "from sklearn.metrics import confusion_matrix\n",
    "\n",
    "def plot_confusion_matrix(cm, title='Confusion matrix', cmap=plt.cm.Blues):\n",
    "    print(cm)\n",
    "    plt.imshow(cm, interpolation='nearest', cmap=cmap)\n",
    "    plt.title(title)\n",
    "    plt.colorbar()\n",
    "    tick_marks = np.arange(2)\n",
    "    plt.xticks(tick_marks, ['Below 100000', 'Above 100000'], rotation=45)\n",
    "    plt.yticks(tick_marks, ['Below 100000', 'Above 100000'])\n",
    "    plt.tight_layout()\n",
    "    plt.ylabel('True label')\n",
    "    plt.xlabel('Predicted label')\n",
    "\n",
    "\n",
    "def accuracies(cm):\n",
    "    totals = np.sum(cm, 1)\n",
    "    no_acc = cm[0, 0] / totals[0]\n",
    "    yes_acc = cm[1, 1] / totals[1]\n",
    "    print(\"Below 100000 Acc: {0}\".format(no_acc))\n",
    "    print(\"Above 100000 Acc: {0}\".format(yes_acc))\n",
    "    print(\"Avg Acc: {0}\".format((no_acc + yes_acc)/2))\n",
    "\n",
    "#cm = confusion_matrix(y_test, predictions)\n",
    "#plot_confusion_matrix(cm)\n",
    "#accuracies(cm)\n",
    "count1 = 0\n",
    "count2 = 0\n",
    "count3 = 0\n",
    "count4 = 0\n",
    "print(predictions.shape)\n",
    "\n",
    "type(predictions)\n",
    "print((y_test.values.shape))\n",
    "\n",
    "for i in range(0,66962):\n",
    "    if((predictions[i]<100000)&(y_test.values[i]<100000)):\n",
    "        count1+=1\n",
    "    elif((predictions[i]>100000)&(y_test.values[i]<100000)):\n",
    "        count2+=1\n",
    "    elif((predictions[i]<100000)&(y_test.values[i]>100000)):\n",
    "        count3+=1\n",
    "    elif((predictions[i]>100000)&(y_test.values[i]>100000)):\n",
    "        count4+=1\n",
    "print(count1)\n",
    "print(count2)\n",
    "print(count3)\n",
    "print(count4)\n",
    "\n",
    "cm = np.matrix([[count1, count2], [count3, count4]])\n",
    "plot_confusion_matrix(cm)\n",
    "accuracies(cm)"
   ]
  },
  {
   "cell_type": "code",
   "execution_count": null,
   "metadata": {
    "collapsed": false
   },
   "outputs": [],
   "source": []
  },
  {
   "cell_type": "code",
   "execution_count": 437,
   "metadata": {
    "collapsed": false
   },
   "outputs": [
    {
     "name": "stdout",
     "output_type": "stream",
     "text": [
      "Train MSE: 52207449.83083848\n",
      "Test MSE: 51959474.23038707\n"
     ]
    }
   ],
   "source": [
    "train_predictions = clf.predict(X_train)\n",
    "test_predictions = clf.predict(X_test)\n",
    "print(\"Train MSE: {}\".format(mean_squared_error(y_train, train_predictions)))\n",
    "\n",
    "print(\"Test MSE: {}\".format(mean_squared_error(y_test, test_predictions)))"
   ]
  },
  {
   "cell_type": "code",
   "execution_count": 342,
   "metadata": {
    "collapsed": false
   },
   "outputs": [
    {
     "name": "stdout",
     "output_type": "stream",
     "text": [
      "Coefficients: {'SEMP': 2.8542889881707638e-06, 'WAGP': 3.2431318104808385e-06, 'INTP': 3.3086069028467736e-06, 'RETP': 5.0946170295895808e-06}\n"
     ]
    }
   ],
   "source": [
    "variables = ['WAGP', 'RETP', 'SEMP', 'INTP']\n",
    "print(\"Coefficients: {}\".format(dict(zip(variables, clf.coef_))))"
   ]
  },
  {
   "cell_type": "code",
   "execution_count": 343,
   "metadata": {
    "collapsed": false
   },
   "outputs": [
    {
     "data": {
      "image/png": "[encoded data removed]",
      "text/plain": [
       "<matplotlib.figure.Figure at 0x111af9550>"
      ]
     },
     "metadata": {},
     "output_type": "display_data"
    }
   ],
   "source": [
    "residuals = y_train - train_predictions\n",
    "plt.title(\"Residual Plot\")\n",
    "sns.regplot(train_predictions, residuals)\n",
    "sns.despine()"
   ]
  },
  {
   "cell_type": "markdown",
   "metadata": {},
   "source": [
    "## Misc"
   ]
  },
  {
   "cell_type": "code",
   "execution_count": 194,
   "metadata": {
    "collapsed": false
   },
   "outputs": [
    {
     "name": "stdout",
     "output_type": "stream",
     "text": [
      "(170919, 284)\n"
     ]
    }
   ],
   "source": [
    "top5percent = df[df['PINCP'] > 0]\n",
    "print(top5percent.shape)"
   ]
  },
  {
   "cell_type": "code",
   "execution_count": null,
   "metadata": {
    "collapsed": true
   },
   "outputs": [],
   "source": []
  },
  {
   "cell_type": "code",
   "execution_count": 195,
   "metadata": {
    "collapsed": false
   },
   "outputs": [
    {
     "name": "stdout",
     "output_type": "stream",
     "text": [
      "200890.08401874945\n"
     ]
    }
   ],
   "source": [
    "# Analyzing petroleum engineers' salaries\n",
    "petroleum = df[df['FOD1P']==2419]\n",
    "#print(petroleum['PINCP'])\n",
    "#print(petroleum['PWGTP'])\n",
    "petroleumSalary = petroleum['PINCP']*petroleum['PWGTP']\n",
    "#print(petroleumSalary)\n",
    "petroleumTotWeight = petroleum['PWGTP'].sum()\n",
    "petroleumTotSalary = petroleumSalary.sum()\n",
    "#print(petroleum['PINCP'].mean())\n",
    "print(petroleumTotSalary/petroleumTotWeight)"
   ]
  },
  {
   "cell_type": "code",
   "execution_count": null,
   "metadata": {
    "collapsed": true
   },
   "outputs": [],
   "source": []
  }
 ],
 "metadata": {
  "kernelspec": {
   "display_name": "Python 3",
   "language": "python",
   "name": "python3"
  },
  "language_info": {
   "codemirror_mode": {
    "name": "ipython",
    "version": 3
   },
   "file_extension": ".py",
   "mimetype": "text/x-python",
   "name": "python",
   "nbconvert_exporter": "python",
   "pygments_lexer": "ipython3",
   "version": "3.5.1"
  }
 },
 "nbformat": 4,
 "nbformat_minor": 0
}
