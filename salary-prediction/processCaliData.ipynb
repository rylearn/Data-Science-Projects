{
 "cells": [
  {
   "cell_type": "markdown",
   "metadata": {},
   "source": [
    "# EE361M Project - Predicting Engineering Salaries - Preprocessing"
   ]
  },
  {
   "cell_type": "code",
   "execution_count": 9,
   "metadata": {
    "collapsed": true
   },
   "outputs": [],
   "source": [
    "import pandas as pd"
   ]
  },
  {
   "cell_type": "code",
   "execution_count": 10,
   "metadata": {
    "collapsed": true
   },
   "outputs": [],
   "source": [
    "df = pd.read_csv(\"ss13husa.csv\")"
   ]
  },
  {
   "cell_type": "code",
   "execution_count": 11,
   "metadata": {
    "collapsed": false
   },
   "outputs": [
    {
     "data": {
      "text/plain": [
       "(756065, 231)"
      ]
     },
     "execution_count": 11,
     "metadata": {},
     "output_type": "execute_result"
    }
   ],
   "source": [
    "df.shape"
   ]
  },
  {
   "cell_type": "code",
   "execution_count": 12,
   "metadata": {
    "collapsed": false
   },
   "outputs": [
    {
     "data": {
      "text/plain": [
       "(153589, 231)"
      ]
     },
     "execution_count": 12,
     "metadata": {},
     "output_type": "execute_result"
    }
   ],
   "source": [
    "df = df[df['ST'] == 6]\n",
    "df.shape"
   ]
  },
  {
   "cell_type": "code",
   "execution_count": 13,
   "metadata": {
    "collapsed": true
   },
   "outputs": [],
   "source": [
    "df.to_csv('califHousingData.csv')"
   ]
  },
  {
   "cell_type": "code",
   "execution_count": 14,
   "metadata": {
    "collapsed": true
   },
   "outputs": [],
   "source": [
    "df2 = pd.read_csv('califHousingData.csv')"
   ]
  },
  {
   "cell_type": "code",
   "execution_count": 15,
   "metadata": {
    "collapsed": false
   },
   "outputs": [
    {
     "data": {
      "text/html": [
       "<div>\n",
       "<table border=\"1\" class=\"dataframe\">\n",
       "  <thead>\n",
       "    <tr style=\"text-align: right;\">\n",
       "      <th></th>\n",
       "      <th>Unnamed: 0</th>\n",
       "      <th>RT</th>\n",
       "      <th>SERIALNO</th>\n",
       "      <th>DIVISION</th>\n",
       "      <th>PUMA</th>\n",
       "      <th>REGION</th>\n",
       "      <th>ST</th>\n",
       "      <th>ADJHSG</th>\n",
       "      <th>ADJINC</th>\n",
       "      <th>WGTP</th>\n",
       "      <th>...</th>\n",
       "      <th>wgtp71</th>\n",
       "      <th>wgtp72</th>\n",
       "      <th>wgtp73</th>\n",
       "      <th>wgtp74</th>\n",
       "      <th>wgtp75</th>\n",
       "      <th>wgtp76</th>\n",
       "      <th>wgtp77</th>\n",
       "      <th>wgtp78</th>\n",
       "      <th>wgtp79</th>\n",
       "      <th>wgtp80</th>\n",
       "    </tr>\n",
       "  </thead>\n",
       "  <tbody>\n",
       "    <tr>\n",
       "      <th>0</th>\n",
       "      <td>74543</td>\n",
       "      <td>H</td>\n",
       "      <td>11</td>\n",
       "      <td>9</td>\n",
       "      <td>7301</td>\n",
       "      <td>4</td>\n",
       "      <td>6</td>\n",
       "      <td>1000000</td>\n",
       "      <td>1007549</td>\n",
       "      <td>0</td>\n",
       "      <td>...</td>\n",
       "      <td>0</td>\n",
       "      <td>0</td>\n",
       "      <td>0</td>\n",
       "      <td>0</td>\n",
       "      <td>0</td>\n",
       "      <td>0</td>\n",
       "      <td>0</td>\n",
       "      <td>0</td>\n",
       "      <td>0</td>\n",
       "      <td>0</td>\n",
       "    </tr>\n",
       "    <tr>\n",
       "      <th>1</th>\n",
       "      <td>74544</td>\n",
       "      <td>H</td>\n",
       "      <td>15</td>\n",
       "      <td>9</td>\n",
       "      <td>3702</td>\n",
       "      <td>4</td>\n",
       "      <td>6</td>\n",
       "      <td>1000000</td>\n",
       "      <td>1007549</td>\n",
       "      <td>38</td>\n",
       "      <td>...</td>\n",
       "      <td>13</td>\n",
       "      <td>62</td>\n",
       "      <td>38</td>\n",
       "      <td>72</td>\n",
       "      <td>68</td>\n",
       "      <td>40</td>\n",
       "      <td>40</td>\n",
       "      <td>42</td>\n",
       "      <td>40</td>\n",
       "      <td>12</td>\n",
       "    </tr>\n",
       "    <tr>\n",
       "      <th>2</th>\n",
       "      <td>74545</td>\n",
       "      <td>H</td>\n",
       "      <td>16</td>\n",
       "      <td>9</td>\n",
       "      <td>8503</td>\n",
       "      <td>4</td>\n",
       "      <td>6</td>\n",
       "      <td>1000000</td>\n",
       "      <td>1007549</td>\n",
       "      <td>78</td>\n",
       "      <td>...</td>\n",
       "      <td>23</td>\n",
       "      <td>127</td>\n",
       "      <td>132</td>\n",
       "      <td>23</td>\n",
       "      <td>87</td>\n",
       "      <td>123</td>\n",
       "      <td>21</td>\n",
       "      <td>23</td>\n",
       "      <td>72</td>\n",
       "      <td>85</td>\n",
       "    </tr>\n",
       "    <tr>\n",
       "      <th>3</th>\n",
       "      <td>74546</td>\n",
       "      <td>H</td>\n",
       "      <td>22</td>\n",
       "      <td>9</td>\n",
       "      <td>300</td>\n",
       "      <td>4</td>\n",
       "      <td>6</td>\n",
       "      <td>1000000</td>\n",
       "      <td>1007549</td>\n",
       "      <td>233</td>\n",
       "      <td>...</td>\n",
       "      <td>175</td>\n",
       "      <td>220</td>\n",
       "      <td>476</td>\n",
       "      <td>380</td>\n",
       "      <td>240</td>\n",
       "      <td>188</td>\n",
       "      <td>145</td>\n",
       "      <td>284</td>\n",
       "      <td>234</td>\n",
       "      <td>221</td>\n",
       "    </tr>\n",
       "    <tr>\n",
       "      <th>4</th>\n",
       "      <td>74547</td>\n",
       "      <td>H</td>\n",
       "      <td>28</td>\n",
       "      <td>9</td>\n",
       "      <td>7901</td>\n",
       "      <td>4</td>\n",
       "      <td>6</td>\n",
       "      <td>1000000</td>\n",
       "      <td>1007549</td>\n",
       "      <td>446</td>\n",
       "      <td>...</td>\n",
       "      <td>122</td>\n",
       "      <td>138</td>\n",
       "      <td>446</td>\n",
       "      <td>434</td>\n",
       "      <td>735</td>\n",
       "      <td>430</td>\n",
       "      <td>461</td>\n",
       "      <td>454</td>\n",
       "      <td>497</td>\n",
       "      <td>500</td>\n",
       "    </tr>\n",
       "  </tbody>\n",
       "</table>\n",
       "<p>5 rows × 232 columns</p>\n",
       "</div>"
      ],
      "text/plain": [
       "   Unnamed: 0 RT  SERIALNO  DIVISION  PUMA  REGION  ST   ADJHSG   ADJINC  \\\n",
       "0       74543  H        11         9  7301       4   6  1000000  1007549   \n",
       "1       74544  H        15         9  3702       4   6  1000000  1007549   \n",
       "2       74545  H        16         9  8503       4   6  1000000  1007549   \n",
       "3       74546  H        22         9   300       4   6  1000000  1007549   \n",
       "4       74547  H        28         9  7901       4   6  1000000  1007549   \n",
       "\n",
       "   WGTP   ...    wgtp71  wgtp72  wgtp73  wgtp74  wgtp75  wgtp76  wgtp77  \\\n",
       "0     0   ...         0       0       0       0       0       0       0   \n",
       "1    38   ...        13      62      38      72      68      40      40   \n",
       "2    78   ...        23     127     132      23      87     123      21   \n",
       "3   233   ...       175     220     476     380     240     188     145   \n",
       "4   446   ...       122     138     446     434     735     430     461   \n",
       "\n",
       "   wgtp78  wgtp79  wgtp80  \n",
       "0       0       0       0  \n",
       "1      42      40      12  \n",
       "2      23      72      85  \n",
       "3     284     234     221  \n",
       "4     454     497     500  \n",
       "\n",
       "[5 rows x 232 columns]"
      ]
     },
     "execution_count": 15,
     "metadata": {},
     "output_type": "execute_result"
    }
   ],
   "source": [
    "df2.head()"
   ]
  },
  {
   "cell_type": "code",
   "execution_count": 16,
   "metadata": {
    "collapsed": false
   },
   "outputs": [
    {
     "data": {
      "text/plain": [
       "(153589, 232)"
      ]
     },
     "execution_count": 16,
     "metadata": {},
     "output_type": "execute_result"
    }
   ],
   "source": [
    "df2.shape"
   ]
  },
  {
   "cell_type": "code",
   "execution_count": null,
   "metadata": {
    "collapsed": true
   },
   "outputs": [],
   "source": []
  }
 ],
 "metadata": {
  "kernelspec": {
   "display_name": "Python 3",
   "language": "python",
   "name": "python3"
  },
  "language_info": {
   "codemirror_mode": {
    "name": "ipython",
    "version": 3
   },
   "file_extension": ".py",
   "mimetype": "text/x-python",
   "name": "python",
   "nbconvert_exporter": "python",
   "pygments_lexer": "ipython3",
   "version": "3.5.1"
  }
 },
 "nbformat": 4,
 "nbformat_minor": 0
}
